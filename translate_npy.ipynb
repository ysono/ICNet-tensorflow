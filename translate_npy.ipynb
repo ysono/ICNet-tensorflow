{
 "cells": [
  {
   "cell_type": "code",
   "execution_count": 2,
   "metadata": {},
   "outputs": [],
   "source": [
    "import numpy as np\n",
    "\n",
    "input_npy = './model/icnet_cityscapes_train_30k_bnnomerge.npy'\n",
    "\n",
    "\n",
    "data_dict = np.load(input_npy).item()\n",
    "dict_copy = data_dict.copy()\n",
    "#print(dict_copy['conv5_1_1x1_reduce_bn']['mean'])\n",
    "\n",
    "for op_name in data_dict:\n",
    "    tmp = [] # mean variance scale offset\n",
    "    for param_name, data in data_dict[op_name].iteritems():\n",
    "        if 'bn' in op_name:\n",
    "            data = np.squeeze(data)\n",
    "            tmp.append(data)\n",
    "            \n",
    "    if 'bn' in op_name:\n",
    "        #print(dict_copy[op_name]['mean'].shape, np.squeeze(dict_copy[op_name]['mean']).shape, tmp[0].shape)\n",
    "        assert np.array_equal(np.squeeze(dict_copy[op_name]['mean']), tmp[0])\n",
    "        \n",
    "        dict_copy[op_name]['mean'] = tmp[2]\n",
    "        dict_copy[op_name]['variance'] = tmp[3]\n",
    "        dict_copy[op_name]['scale'] = tmp[0]\n",
    "        dict_copy[op_name]['offset'] = tmp[1]\n",
    "        \n",
    "np.save('./model/icnet_cityscapes_train_30k_bnnomerge_v2.npy', dict_copy)\n"
   ]
  },
  {
   "cell_type": "code",
   "execution_count": null,
   "metadata": {},
   "outputs": [],
   "source": []
  },
  {
   "cell_type": "code",
   "execution_count": null,
   "metadata": {},
   "outputs": [],
   "source": []
  }
 ],
 "metadata": {
  "kernelspec": {
   "display_name": "Python 2",
   "language": "python",
   "name": "python2"
  },
  "language_info": {
   "codemirror_mode": {
    "name": "ipython",
    "version": 2
   },
   "file_extension": ".py",
   "mimetype": "text/x-python",
   "name": "python",
   "nbconvert_exporter": "python",
   "pygments_lexer": "ipython2",
   "version": "2.7.12"
  }
 },
 "nbformat": 4,
 "nbformat_minor": 2
}
