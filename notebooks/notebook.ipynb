{
 "cells": [
  {
   "cell_type": "code",
   "execution_count": 1,
   "metadata": {
    "colab": {
     "autoexec": {
      "startup": false,
      "wait_interval": 0
     },
     "base_uri": "https://localhost:8080/",
     "height": 51
    },
    "colab_type": "code",
    "executionInfo": {
     "elapsed": 1505,
     "status": "ok",
     "timestamp": 1528041244291,
     "user": {
      "displayName": "Yoshiaki Sono",
      "photoUrl": "//lh6.googleusercontent.com/-QqkpoqOp_fA/AAAAAAAAAAI/AAAAAAAAA8A/EfPYTWzQRSI/s50-c-k-no/photo.jpg",
      "userId": "110633234607464757614"
     },
     "user_tz": 420
    },
    "id": "ACxP3KqNpHQ5",
    "outputId": "0ba8acde-915b-4512-f5b8-d35d4f3c7968"
   },
   "outputs": [
    {
     "name": "stdout",
     "output_type": "stream",
     "text": [
      "/content\r\n",
      "datalab\r\n"
     ]
    }
   ],
   "source": [
    "!pwd; ls"
   ]
  },
  {
   "cell_type": "code",
   "execution_count": 0,
   "metadata": {
    "colab": {
     "autoexec": {
      "startup": false,
      "wait_interval": 0
     }
    },
    "colab_type": "code",
    "collapsed": true,
    "id": "rbVvotCuXjqG"
   },
   "outputs": [],
   "source": [
    "# import os\n",
    "# os.chdir('..')"
   ]
  },
  {
   "cell_type": "code",
   "execution_count": 0,
   "metadata": {
    "colab": {
     "autoexec": {
      "startup": false,
      "wait_interval": 0
     }
    },
    "colab_type": "code",
    "collapsed": true,
    "id": "q8qCuADN_PwR"
   },
   "outputs": [],
   "source": [
    "import os\n",
    "HOME_PATH = os.getcwd()"
   ]
  },
  {
   "cell_type": "code",
   "execution_count": 0,
   "metadata": {
    "colab": {
     "autoexec": {
      "startup": false,
      "wait_interval": 0
     }
    },
    "colab_type": "code",
    "collapsed": true,
    "id": "NQhmJgl3pe0f"
   },
   "outputs": [],
   "source": [
    "from google.colab import auth\n",
    "auth.authenticate_user()\n",
    "GCS_BUCKET = 'ysono-ml'\n",
    "# !export GCS_BUCKET='ysono-ml'"
   ]
  },
  {
   "cell_type": "code",
   "execution_count": 14,
   "metadata": {
    "colab": {
     "autoexec": {
      "startup": false,
      "wait_interval": 0
     },
     "base_uri": "https://localhost:8080/",
     "height": 34
    },
    "colab_type": "code",
    "executionInfo": {
     "elapsed": 290,
     "status": "ok",
     "timestamp": 1527530970038,
     "user": {
      "displayName": "Yoshiaki Sono",
      "photoUrl": "//lh6.googleusercontent.com/-QqkpoqOp_fA/AAAAAAAAAAI/AAAAAAAAA8A/EfPYTWzQRSI/s50-c-k-no/photo.jpg",
      "userId": "110633234607464757614"
     },
     "user_tz": 420
    },
    "id": "bC6KqJog73Hl",
    "outputId": "05324d63-0cb3-46a4-b644-8cf87505e3ce"
   },
   "outputs": [
    {
     "name": "stdout",
     "output_type": "stream",
     "text": [
      "/device:GPU:0\n"
     ]
    }
   ],
   "source": [
    "# import tensorflow as tf\n",
    "# print(tf.test.gpu_device_name())"
   ]
  },
  {
   "cell_type": "markdown",
   "metadata": {
    "colab_type": "text",
    "id": "5MsSPJ-Q9mEN"
   },
   "source": [
    "## Download carla datasets"
   ]
  },
  {
   "cell_type": "code",
   "execution_count": 0,
   "metadata": {
    "colab": {
     "autoexec": {
      "startup": false,
      "wait_interval": 0
     }
    },
    "colab_type": "code",
    "collapsed": true,
    "id": "sn9IOEzjfZEv"
   },
   "outputs": [],
   "source": [
    "import glob"
   ]
  },
  {
   "cell_type": "code",
   "execution_count": 6,
   "metadata": {
    "colab": {
     "autoexec": {
      "startup": false,
      "wait_interval": 0
     },
     "base_uri": "https://localhost:8080/",
     "height": 527
    },
    "colab_type": "code",
    "executionInfo": {
     "elapsed": 117087,
     "status": "ok",
     "timestamp": 1528041384514,
     "user": {
      "displayName": "Yoshiaki Sono",
      "photoUrl": "//lh6.googleusercontent.com/-QqkpoqOp_fA/AAAAAAAAAAI/AAAAAAAAA8A/EfPYTWzQRSI/s50-c-k-no/photo.jpg",
      "userId": "110633234607464757614"
     },
     "user_tz": 420
    },
    "id": "OxEdczcwy6Vu",
    "outputId": "b328c3f2-2797-4835-95f0-2b9cfb66dfca"
   },
   "outputs": [
    {
     "name": "stdout",
     "output_type": "stream",
     "text": [
      "Copying gs://ysono-ml/datasets/carla/udacity-rgb.tgz...\n",
      "/\n",
      "Operation completed over 1 objects/564.4 MiB.                                    \n",
      "Copying gs://ysono-ml/datasets/carla/chinkiat1-rgb.tgz...\n",
      "- [1 files][556.3 MiB/556.3 MiB]   57.4 MiB/s                                   \n",
      "Operation completed over 1 objects/556.3 MiB.                                    \n",
      "Copying gs://ysono-ml/datasets/carla/chinkiat2-rgb.tgz...\n",
      "/ [1 files][533.8 MiB/533.8 MiB]                                                \n",
      "Operation completed over 1 objects/533.8 MiB.                                    \n",
      "Copying gs://ysono-ml/datasets/carla/faisall-rgb.tgz...\n",
      "/ [1 files][  2.3 GiB/  2.3 GiB]   61.4 MiB/s                                   \n",
      "Operation completed over 1 objects/2.3 GiB.                                      \n",
      "Copying gs://ysono-ml/datasets/carla/phmagic-world_2_little_cars-rgb.tgz...\n",
      "\\ [1 files][  1.2 GiB/  1.2 GiB]   63.9 MiB/s                                   \n",
      "Operation completed over 1 objects/1.2 GiB.                                      \n",
      "Copying gs://ysono-ml/datasets/carla/udacity-road_vehicle-sparse-png.tgz...\n",
      "/ [1 files][  1.2 MiB/  1.2 MiB]                                                \n",
      "Operation completed over 1 objects/1.2 MiB.                                      \n",
      "Copying gs://ysono-ml/datasets/carla/chinkiat1-road_vehicle-sparse-png.tgz...\n",
      "/ [1 files][  1.1 MiB/  1.1 MiB]                                                \n",
      "Operation completed over 1 objects/1.1 MiB.                                      \n",
      "Copying gs://ysono-ml/datasets/carla/chinkiat2-road_vehicle-sparse-png.tgz...\n",
      "/ [1 files][  1.2 MiB/  1.2 MiB]                                                \n",
      "Operation completed over 1 objects/1.2 MiB.                                      \n",
      "Copying gs://ysono-ml/datasets/carla/faisall-road_vehicle-sparse-png.tgz...\n",
      "/ [1 files][  5.4 MiB/  5.4 MiB]                                                \n",
      "Operation completed over 1 objects/5.4 MiB.                                      \n",
      "Copying gs://ysono-ml/datasets/carla/phmagic-world_2_little_cars-road_vehicle-sparse-png.tgz...\n",
      "/ [1 files][  2.8 MiB/  2.8 MiB]                                                \n",
      "Operation completed over 1 objects/2.8 MiB.                                      \n"
     ]
    }
   ],
   "source": [
    "!gsutil cp gs://{GCS_BUCKET}/datasets/carla/udacity-rgb.tgz .\n",
    "!gsutil cp gs://{GCS_BUCKET}/datasets/carla/chinkiat1-rgb.tgz .\n",
    "!gsutil cp gs://{GCS_BUCKET}/datasets/carla/chinkiat2-rgb.tgz .\n",
    "!gsutil cp gs://{GCS_BUCKET}/datasets/carla/faisall-rgb.tgz .\n",
    "!gsutil cp gs://{GCS_BUCKET}/datasets/carla/phmagic-world_2_little_cars-rgb.tgz .\n",
    "  \n",
    "!gsutil cp gs://{GCS_BUCKET}/datasets/carla/udacity-road_vehicle-sparse-png.tgz .\n",
    "!gsutil cp gs://{GCS_BUCKET}/datasets/carla/chinkiat1-road_vehicle-sparse-png.tgz .\n",
    "!gsutil cp gs://{GCS_BUCKET}/datasets/carla/chinkiat2-road_vehicle-sparse-png.tgz .\n",
    "!gsutil cp gs://{GCS_BUCKET}/datasets/carla/faisall-road_vehicle-sparse-png.tgz .\n",
    "!gsutil cp gs://{GCS_BUCKET}/datasets/carla/phmagic-world_2_little_cars-road_vehicle-sparse-png.tgz ."
   ]
  },
  {
   "cell_type": "code",
   "execution_count": 0,
   "metadata": {
    "colab": {
     "autoexec": {
      "startup": false,
      "wait_interval": 0
     }
    },
    "colab_type": "code",
    "collapsed": true,
    "id": "GonB3Cm_7ihf"
   },
   "outputs": [],
   "source": [
    "# !find CameraRGB -type d -exec sh -c 'echo {} && ls -l {} | grep -v ^d | tail -n +2 | head -5' \\;"
   ]
  },
  {
   "cell_type": "markdown",
   "metadata": {
    "colab_type": "text",
    "id": "apvdMx450pWC"
   },
   "source": [
    "#### Udacity data"
   ]
  },
  {
   "cell_type": "code",
   "execution_count": 0,
   "metadata": {
    "colab": {
     "autoexec": {
      "startup": false,
      "wait_interval": 0
     }
    },
    "colab_type": "code",
    "collapsed": true,
    "id": "3N6Hx73N6l_u"
   },
   "outputs": [],
   "source": [
    "!mkdir -p data/udacity\n",
    "!tar -C data/udacity -zxf udacity-rgb.tgz\n",
    "!tar -C data/udacity -zxf udacity-road_vehicle-sparse-png.tgz"
   ]
  },
  {
   "cell_type": "code",
   "execution_count": 0,
   "metadata": {
    "colab": {
     "autoexec": {
      "startup": false,
      "wait_interval": 0
     }
    },
    "colab_type": "code",
    "collapsed": true,
    "id": "91p16pxTzVUv"
   },
   "outputs": [],
   "source": [
    "assert len(list(glob.glob('data/udacity/Train/CameraRGB/udacity-*.png'))) == 1000\n",
    "assert len(list(glob.glob('data/udacity/CameraSeg/udacity-*.png'))) == 1000"
   ]
  },
  {
   "cell_type": "markdown",
   "metadata": {
    "colab_type": "text",
    "id": "-h4oFpun0r0b"
   },
   "source": [
    "#### chinkiat data"
   ]
  },
  {
   "cell_type": "code",
   "execution_count": 0,
   "metadata": {
    "colab": {
     "autoexec": {
      "startup": false,
      "wait_interval": 0
     }
    },
    "colab_type": "code",
    "collapsed": true,
    "id": "sHLoNVPKyb7j"
   },
   "outputs": [],
   "source": [
    "!mkdir -p data/chinkiat1\n",
    "!tar -C data/chinkiat1 -zxf chinkiat1-rgb.tgz\n",
    "!tar -C data/chinkiat1 -zxf chinkiat1-road_vehicle-sparse-png.tgz"
   ]
  },
  {
   "cell_type": "code",
   "execution_count": 0,
   "metadata": {
    "colab": {
     "autoexec": {
      "startup": false,
      "wait_interval": 0
     }
    },
    "colab_type": "code",
    "collapsed": true,
    "id": "7T5x-1fVe6X2"
   },
   "outputs": [],
   "source": [
    "assert len(list(glob.glob('data/chinkiat1/CameraRGB/F[67]?-*.png'))) == 1000\n",
    "assert len(list(glob.glob('data/chinkiat1/CameraSeg/F[67]?-*.png'))) == 1000"
   ]
  },
  {
   "cell_type": "code",
   "execution_count": 0,
   "metadata": {
    "colab": {
     "autoexec": {
      "startup": false,
      "wait_interval": 0
     }
    },
    "colab_type": "code",
    "collapsed": true,
    "id": "u0XwLNw8suT3"
   },
   "outputs": [],
   "source": [
    "!mkdir -p data/chinkiat2\n",
    "!tar -C data/chinkiat2 -zxf chinkiat2-rgb.tgz\n",
    "!tar -C data/chinkiat2 -zxf chinkiat2-road_vehicle-sparse-png.tgz"
   ]
  },
  {
   "cell_type": "code",
   "execution_count": 0,
   "metadata": {
    "colab": {
     "autoexec": {
      "startup": false,
      "wait_interval": 0
     }
    },
    "colab_type": "code",
    "collapsed": true,
    "id": "zETghlsNtGEC"
   },
   "outputs": [],
   "source": [
    "assert len(list(glob.glob('data/chinkiat2/CameraRGB/M*.png'))) == 1000\n",
    "assert len(list(glob.glob('data/chinkiat2/CameraSeg/M*.png'))) == 1000"
   ]
  },
  {
   "cell_type": "markdown",
   "metadata": {
    "colab_type": "text",
    "id": "XAiFI7xZ5pls"
   },
   "source": [
    "#### Faisall data"
   ]
  },
  {
   "cell_type": "code",
   "execution_count": 0,
   "metadata": {
    "colab": {
     "autoexec": {
      "startup": false,
      "wait_interval": 0
     }
    },
    "colab_type": "code",
    "collapsed": true,
    "id": "psDSeVo-6iRH"
   },
   "outputs": [],
   "source": [
    "!mkdir -p data/faisall\n",
    "!tar -C data/faisall -zxf faisall-rgb.tgz\n",
    "!tar -C data/faisall -zxf faisall-road_vehicle-sparse-png.tgz"
   ]
  },
  {
   "cell_type": "code",
   "execution_count": 0,
   "metadata": {
    "colab": {
     "autoexec": {
      "startup": false,
      "wait_interval": 0
     }
    },
    "colab_type": "code",
    "collapsed": true,
    "id": "-2wPSKff6n0B"
   },
   "outputs": [],
   "source": [
    "assert len(list(glob.glob('data/faisall/Train/CameraRGB/*.png'))) == 3822\n",
    "assert len(list(glob.glob('data/faisall/Valid/CameraRGB/*.png'))) == 500\n",
    "assert len(list(glob.glob('data/faisall/Test/CameraRGB/*.png'))) == 500\n",
    "assert len(list(glob.glob('data/faisall/Train/CameraSeg/*.png'))) == 3822\n",
    "assert len(list(glob.glob('data/faisall/Valid/CameraSeg/*.png'))) == 500\n",
    "assert len(list(glob.glob('data/faisall/Test/CameraSeg/*.png'))) == 500"
   ]
  },
  {
   "cell_type": "markdown",
   "metadata": {
    "colab_type": "text",
    "id": "rt-zyRcPNEY_"
   },
   "source": [
    "### phmagic data"
   ]
  },
  {
   "cell_type": "code",
   "execution_count": 0,
   "metadata": {
    "colab": {
     "autoexec": {
      "startup": false,
      "wait_interval": 0
     }
    },
    "colab_type": "code",
    "collapsed": true,
    "id": "pK9ZdeBdNFuy"
   },
   "outputs": [],
   "source": [
    "!tar -C data -zxf phmagic-world_2_little_cars-rgb.tgz\n",
    "!tar -C data -zxf phmagic-world_2_little_cars-road_vehicle-sparse-png.tgz"
   ]
  },
  {
   "cell_type": "code",
   "execution_count": 0,
   "metadata": {
    "colab": {
     "autoexec": {
      "startup": false,
      "wait_interval": 0
     }
    },
    "colab_type": "code",
    "collapsed": true,
    "id": "ywCwOVlUNNkQ"
   },
   "outputs": [],
   "source": [
    "assert len(list(glob.glob('data/phmagic-world_2_little_cars/*/CameraRGB/*.png'))) == 2800\n",
    "assert len(list(glob.glob('data/phmagic-world_2_little_cars-3cls/*/CameraSeg/*.png'))) == 2800"
   ]
  },
  {
   "cell_type": "markdown",
   "metadata": {
    "colab_type": "text",
    "id": "i0EZb5WQ7EBb"
   },
   "source": [
    "#### Make sure I didn't override files"
   ]
  },
  {
   "cell_type": "code",
   "execution_count": 0,
   "metadata": {
    "colab": {
     "autoexec": {
      "startup": false,
      "wait_interval": 0
     }
    },
    "colab_type": "code",
    "collapsed": true,
    "id": "9F_XKjhN7GsX"
   },
   "outputs": [],
   "source": [
    "import glob\n",
    "\n",
    "assert len(list(glob.glob('data/udacity/Train/CameraRGB/udacity-*.png'))) == 1000\n",
    "assert len(list(glob.glob('data/udacity/CameraSeg/udacity-*.png'))) == 1000\n",
    "\n",
    "assert len(list(glob.glob('data/chinkiat1/CameraRGB/F[67]?-*.png'))) == 1000\n",
    "assert len(list(glob.glob('data/chinkiat1/CameraSeg/F[67]?-*.png'))) == 1000\n",
    "\n",
    "assert len(list(glob.glob('data/faisall/Train/CameraRGB/*.png'))) == 3822\n",
    "assert len(list(glob.glob('data/faisall/Valid/CameraRGB/*.png'))) == 500\n",
    "assert len(list(glob.glob('data/faisall/Test/CameraRGB/*.png'))) == 500\n",
    "assert len(list(glob.glob('data/faisall/Train/CameraSeg/*.png'))) == 3822\n",
    "assert len(list(glob.glob('data/faisall/Valid/CameraSeg/*.png'))) == 500\n",
    "assert len(list(glob.glob('data/faisall/Test/CameraSeg/*.png'))) == 500\n",
    "\n",
    "assert len(list(glob.glob('data/phmagic-world_2_little_cars/*/CameraRGB/*.png'))) == 2800\n",
    "assert len(list(glob.glob('data/phmagic-world_2_little_cars-3cls/*/CameraSeg/*.png'))) == 2800"
   ]
  },
  {
   "cell_type": "markdown",
   "metadata": {
    "colab_type": "text",
    "id": "q1XxQlBc93l3"
   },
   "source": [
    "#### Cleanup"
   ]
  },
  {
   "cell_type": "code",
   "execution_count": 0,
   "metadata": {
    "colab": {
     "autoexec": {
      "startup": false,
      "wait_interval": 0
     }
    },
    "colab_type": "code",
    "collapsed": true,
    "id": "CTY2PUheQng9"
   },
   "outputs": [],
   "source": [
    "!rm udacity-rgb.tgz chinkiat1-rgb.tgz chinkiat2-rgb.tgz faisall-rgb.tgz phmagic-world_2_little_cars-rgb.tgz\n",
    "!rm udacity-road_vehicle-sparse-png.tgz chinkiat1-road_vehicle-sparse-png.tgz chinkiat2-road_vehicle-sparse-png.tgz faisall-road_vehicle-sparse-png.tgz phmagic-world_2_little_cars-road_vehicle-sparse-png.tgz"
   ]
  },
  {
   "cell_type": "markdown",
   "metadata": {
    "colab_type": "text",
    "id": "s4Dsnk2e86eS"
   },
   "source": [
    "## Clone from git; cd; set up"
   ]
  },
  {
   "cell_type": "markdown",
   "metadata": {
    "colab_type": "text",
    "id": "C-freTeo8SgS"
   },
   "source": [
    "### clone git via ssh"
   ]
  },
  {
   "cell_type": "code",
   "execution_count": 20,
   "metadata": {
    "colab": {
     "autoexec": {
      "startup": false,
      "wait_interval": 0
     },
     "base_uri": "https://localhost:8080/",
     "height": 306
    },
    "colab_type": "code",
    "executionInfo": {
     "elapsed": 4631,
     "status": "ok",
     "timestamp": 1528041490851,
     "user": {
      "displayName": "Yoshiaki Sono",
      "photoUrl": "//lh6.googleusercontent.com/-QqkpoqOp_fA/AAAAAAAAAAI/AAAAAAAAA8A/EfPYTWzQRSI/s50-c-k-no/photo.jpg",
      "userId": "110633234607464757614"
     },
     "user_tz": 420
    },
    "id": "S9BNBrn1l33i",
    "outputId": "7439c242-58d8-498a-afe9-d0d7b2f0ab3b"
   },
   "outputs": [
    {
     "name": "stdout",
     "output_type": "stream",
     "text": [
      "Reading package lists... Done\n",
      "Building dependency tree       \n",
      "Reading state information... Done\n",
      "Suggested packages:\n",
      "  ssh-askpass\n",
      "The following NEW packages will be installed:\n",
      "  keychain\n",
      "0 upgraded, 1 newly installed, 0 to remove and 0 not upgraded.\n",
      "Need to get 27.9 kB of archives.\n",
      "After this operation, 74.8 kB of additional disk space will be used.\n",
      "Get:1 http://archive.ubuntu.com/ubuntu artful/universe amd64 keychain all 2.8.2-0.1 [27.9 kB]\n",
      "Fetched 27.9 kB in 0s (81.8 kB/s)\n",
      "Selecting previously unselected package keychain.\n",
      "(Reading database ... 18298 files and directories currently installed.)\n",
      "Preparing to unpack .../keychain_2.8.2-0.1_all.deb ...\n",
      "Unpacking keychain (2.8.2-0.1) ...\n",
      "Setting up keychain (2.8.2-0.1) ...\n"
     ]
    }
   ],
   "source": [
    "!apt-get install -y keychain"
   ]
  },
  {
   "cell_type": "code",
   "execution_count": null,
   "metadata": {
    "collapsed": true
   },
   "outputs": [],
   "source": [
    "# Here, download id_rsa. Code omitted."
   ]
  },
  {
   "cell_type": "code",
   "execution_count": 22,
   "metadata": {
    "colab": {
     "autoexec": {
      "startup": false,
      "wait_interval": 0
     },
     "base_uri": "https://localhost:8080/",
     "height": 255
    },
    "colab_type": "code",
    "executionInfo": {
     "elapsed": 5079,
     "status": "ok",
     "timestamp": 1528041502253,
     "user": {
      "displayName": "Yoshiaki Sono",
      "photoUrl": "//lh6.googleusercontent.com/-QqkpoqOp_fA/AAAAAAAAAAI/AAAAAAAAA8A/EfPYTWzQRSI/s50-c-k-no/photo.jpg",
      "userId": "110633234607464757614"
     },
     "user_tz": 420
    },
    "id": "Mn076tH7l7ti",
    "outputId": "8ab31e7b-d47e-419b-d3b5-62810fe04054"
   },
   "outputs": [
    {
     "name": "stdout",
     "output_type": "stream",
     "text": [
      "Agent pid 2643\r\n",
      "Identity added: id_rsa (id_rsa)\n",
      "Warning: Permanently added 'bitbucket.org,104.192.143.3' (RSA) to the list of known hosts.\n",
      "PTY allocation request failed on channel 0\n",
      "logged in as ysono.\n",
      "\n",
      "You can use git or hg to connect to Bitbucket. Shell access is disabled.\n",
      "Connection to bitbucket.org closed.\n",
      "Cloning into 'ICNet-tensorflow'...\n",
      "remote: Counting objects: 503, done.\u001b[K\n",
      "remote: Compressing objects: 100% (340/340), done.\u001b[K\n",
      "remote: Total 503 (delta 267), reused 319 (delta 155)\u001b[K\n",
      "Receiving objects: 100% (503/503), 14.51 MiB | 9.72 MiB/s, done.\n",
      "Resolving deltas: 100% (267/267), done.\n"
     ]
    }
   ],
   "source": [
    "!if [ ! -d ICNet-tensorflow ]; then eval `ssh-agent -s` && ssh-add id_rsa && ssh -o \"StrictHostKeyChecking no\" git@bitbucket.org && git clone git@bitbucket.org:ysono/icnet-tensorflow.git ICNet-tensorflow; fi"
   ]
  },
  {
   "cell_type": "markdown",
   "metadata": {
    "colab_type": "text",
    "id": "QMGF6ayT83DJ"
   },
   "source": [
    "### Changing directory!!"
   ]
  },
  {
   "cell_type": "code",
   "execution_count": 23,
   "metadata": {
    "colab": {
     "autoexec": {
      "startup": false,
      "wait_interval": 0
     },
     "base_uri": "https://localhost:8080/",
     "height": 34
    },
    "colab_type": "code",
    "executionInfo": {
     "elapsed": 1350,
     "status": "ok",
     "timestamp": 1528041503651,
     "user": {
      "displayName": "Yoshiaki Sono",
      "photoUrl": "//lh6.googleusercontent.com/-QqkpoqOp_fA/AAAAAAAAAAI/AAAAAAAAA8A/EfPYTWzQRSI/s50-c-k-no/photo.jpg",
      "userId": "110633234607464757614"
     },
     "user_tz": 420
    },
    "id": "eqAJAK4KOerh",
    "outputId": "c9f9e992-0731-4c10-b81f-5dec7b89cf15"
   },
   "outputs": [
    {
     "name": "stdout",
     "output_type": "stream",
     "text": [
      "/content/ICNet-tensorflow\r\n"
     ]
    }
   ],
   "source": [
    "os.chdir('ICNet-tensorflow')\n",
    "!pwd"
   ]
  },
  {
   "cell_type": "code",
   "execution_count": 64,
   "metadata": {
    "colab": {
     "autoexec": {
      "startup": false,
      "wait_interval": 0
     },
     "base_uri": "https://localhost:8080/",
     "height": 153
    },
    "colab_type": "code",
    "executionInfo": {
     "elapsed": 2195,
     "status": "ok",
     "timestamp": 1528056178432,
     "user": {
      "displayName": "Yoshiaki Sono",
      "photoUrl": "//lh6.googleusercontent.com/-QqkpoqOp_fA/AAAAAAAAAAI/AAAAAAAAA8A/EfPYTWzQRSI/s50-c-k-no/photo.jpg",
      "userId": "110633234607464757614"
     },
     "user_tz": 420
    },
    "id": "tGw9sQ6ZsCM1",
    "outputId": "003e97a2-abda-49ff-fc37-5736a6f61e71"
   },
   "outputs": [
    {
     "name": "stdout",
     "output_type": "stream",
     "text": [
      "Agent pid 22953\r\n",
      "Identity added: /content/id_rsa (/content/id_rsa)\n",
      "remote: Counting objects: 4, done.\u001b[K\n",
      "remote: Compressing objects: 100% (4/4), done.\u001b[K\n",
      "remote: Total 4 (delta 3), reused 0 (delta 0)\u001b[K\n",
      "Unpacking objects: 100% (4/4), done.\n",
      "From bitbucket.org:ysono/icnet-tensorflow\n",
      "   d1c0636..390a1bd  ysono/quartercrop -> origin/ysono/quartercrop\n"
     ]
    }
   ],
   "source": [
    "## If fetching later ...\n",
    "\n",
    "!eval `ssh-agent -s` && ssh-add {HOME_PATH}/id_rsa && git fetch"
   ]
  },
  {
   "cell_type": "code",
   "execution_count": 162,
   "metadata": {
    "colab": {
     "autoexec": {
      "startup": false,
      "wait_interval": 0
     },
     "base_uri": "https://localhost:8080/",
     "height": 68
    },
    "colab_type": "code",
    "executionInfo": {
     "elapsed": 2960,
     "status": "ok",
     "timestamp": 1528071770704,
     "user": {
      "displayName": "Yoshiaki Sono",
      "photoUrl": "//lh6.googleusercontent.com/-QqkpoqOp_fA/AAAAAAAAAAI/AAAAAAAAA8A/EfPYTWzQRSI/s50-c-k-no/photo.jpg",
      "userId": "110633234607464757614"
     },
     "user_tz": 420
    },
    "id": "PeKPactVorrS",
    "outputId": "2bb1c967-5511-4230-e5e1-ff78df51f2a2"
   },
   "outputs": [
    {
     "name": "stdout",
     "output_type": "stream",
     "text": [
      "Previous HEAD position was caedb6b... change correctness cost to softmax\r\n",
      "HEAD is now at ef3e0c0... freeze and infer scripts\n",
      "ef3e0c0184e00b138b2bc52ebcfc2bc7ee1132fa\n"
     ]
    }
   ],
   "source": [
    "!git checkout ef3e0c0184e00b138b2bc52ebcfc2bc7ee1132fa\n",
    "\n",
    "!git rev-parse HEAD"
   ]
  },
  {
   "cell_type": "markdown",
   "metadata": {
    "colab_type": "text",
    "id": "faEZQkfc9JWR"
   },
   "source": [
    "### Download the model file"
   ]
  },
  {
   "cell_type": "code",
   "execution_count": 59,
   "metadata": {
    "colab": {
     "autoexec": {
      "startup": false,
      "wait_interval": 0
     },
     "base_uri": "https://localhost:8080/",
     "height": 68
    },
    "colab_type": "code",
    "executionInfo": {
     "elapsed": 3578,
     "status": "ok",
     "timestamp": 1528055618496,
     "user": {
      "displayName": "Yoshiaki Sono",
      "photoUrl": "//lh6.googleusercontent.com/-QqkpoqOp_fA/AAAAAAAAAAI/AAAAAAAAA8A/EfPYTWzQRSI/s50-c-k-no/photo.jpg",
      "userId": "110633234607464757614"
     },
     "user_tz": 420
    },
    "id": "N-cp-7O30Kjk",
    "outputId": "28b61d58-9494-4517-aa11-3c74609fbd30"
   },
   "outputs": [
    {
     "name": "stdout",
     "output_type": "stream",
     "text": [
      "Copying gs://ysono-ml/models/icnet/cityscape-hellochick/icnet_cityscapes_trainval_90k_bnnomerge.npy...\n",
      "- [1 files][ 25.7 MiB/ 25.7 MiB]                                                \n",
      "Operation completed over 1 objects/25.7 MiB.                                     \n"
     ]
    }
   ],
   "source": [
    "# !gsutil cp gs://{GCS_BUCKET}/models/icnet/cityscape-hellochick/icnet_cityscapes_trainval_90k.npy model/\n",
    "!gsutil cp gs://{GCS_BUCKET}/models/icnet/cityscape-hellochick/icnet_cityscapes_trainval_90k_bnnomerge.npy model/"
   ]
  },
  {
   "cell_type": "markdown",
   "metadata": {
    "colab_type": "text",
    "id": "RXQ7Cu4H9HrC"
   },
   "source": [
    "### Write the list file"
   ]
  },
  {
   "cell_type": "code",
   "execution_count": 0,
   "metadata": {
    "colab": {
     "autoexec": {
      "startup": false,
      "wait_interval": 0
     }
    },
    "colab_type": "code",
    "collapsed": true,
    "id": "vhVgZDjX9Frm"
   },
   "outputs": [],
   "source": [
    "import glob\n",
    "import os\n",
    "import re\n",
    "\n",
    "def reduce_paths(paths):\n",
    "    filename_to_path = {}\n",
    "    for path in glob.glob(os.path.abspath(paths)):\n",
    "        filename = os.path.basename(path)\n",
    "        filename_to_path[filename] = path\n",
    "    return filename_to_path\n",
    "\n",
    "def multiplicity(filename):\n",
    "    '''\n",
    "    I have a mac and can't generate more Carla data, so make the best use of the\n",
    "    datasets donated by other Udacity students.\n",
    "    The datasets with file names `F[0-9]-*.png` and `F10-*.png` has a paucity of\n",
    "    cars.\n",
    "    Therefore augment the other datasets:\n",
    "    - the dataset provided by Udacity, whose filenames are `0.png` to `999.png`\n",
    "    - the student-donated batch with more cars: `F61-*.png` and `F70-*.png`\n",
    "    '''\n",
    "    \n",
    "#     if re.search('^\\d{1,3}\\.png$', filename):\n",
    "#         return 2\n",
    "#     if re.search('^F[67]\\d-.*\\.png$', filename):\n",
    "#         return 2\n",
    "#     else: return 1\n",
    "\n",
    "    return 1\n",
    "\n",
    "def write_list(train_paths, label_paths, out_path, do_append):\n",
    "    train_map = reduce_paths(train_paths)\n",
    "    label_map = reduce_paths(label_paths)\n",
    "    assert train_map.keys() == label_map.keys()\n",
    "\n",
    "    fopen_mode = 'a' if do_append else 'w'\n",
    "    with open(out_path, fopen_mode) as f:\n",
    "        for filename in sorted(train_map.keys()):\n",
    "            mult = multiplicity(filename)\n",
    "          \n",
    "            for _ in range(mult):\n",
    "                f.write(train_map[filename])\n",
    "                f.write(' ')\n",
    "                f.write(label_map[filename])\n",
    "                f.write('\\n')\n",
    "\n",
    "                \n",
    "temp_collections = [\n",
    "    ('data/udacity/Train/CameraRGB/udacity-*.png',\n",
    "     'data/udacity/CameraSeg/udacity-*.png'),\n",
    "    ('data/chinkiat1/CameraRGB/F[67]?-*.png',\n",
    "     'data/chinkiat1/CameraSeg/F[67]?-*.png'),\n",
    "    ('data/chinkiat2/CameraRGB/*.png',\n",
    "     'data/chinkiat2/CameraSeg/*.png'),\n",
    "    ('data/faisall/Train/CameraRGB/*.png',\n",
    "     'data/faisall/Train/CameraSeg/*.png'),\n",
    "    ('data/faisall/Valid/CameraRGB/*.png',\n",
    "     'data/faisall/Valid/CameraSeg/*.png'),\n",
    "    ('data/faisall/Test/CameraRGB/*.png',\n",
    "     'data/faisall/Test/CameraSeg/*.png')\n",
    "]\n",
    "# for i in range(14):\n",
    "#     epsd = str(i).zfill(2)\n",
    "#     in_paths = 'data/phmagic-world_2_little_cars/episode_00{}/CameraRGB/*.png'.format(str(epsd).zfill(2))\n",
    "#     out_dir = 'data/phmagic-world_2_little_cars-3cls/episode_00{}/CameraSeg/*.png'.format(str(epsd).zfill(2))\n",
    "#     temp_collections.append((in_paths, out_dir))\n",
    "for i, (train_paths, label_paths) in enumerate(temp_collections):\n",
    "    do_append = (i != 0)\n",
    "    write_list(\n",
    "        os.path.join(HOME_PATH, train_paths),\n",
    "        os.path.join(HOME_PATH, label_paths),\n",
    "        'list/carla_train_list-all.txt',\n",
    "        do_append=do_append)\n",
    "\n",
    "    \n",
    "# temp_collections = [\n",
    "#     ('data/udacity/Train/CameraRGB/udacity-*.png',\n",
    "#      'data/udacity/CameraSeg/udacity-*.png'),\n",
    "#     ('data/chinkiat1/CameraRGB/F[67]?-*.png',\n",
    "#      'data/chinkiat1/CameraSeg/F[67]?-*.png'),\n",
    "#     ('data/chinkiat2/CameraRGB/*.png',\n",
    "#      'data/chinkiat2/CameraSeg/*.png')\n",
    "# ]\n",
    "# for i, (train_paths, label_paths) in enumerate(temp_collections):\n",
    "#     do_append = (i != 0)\n",
    "#     write_list(\n",
    "#         os.path.join(HOME_PATH, train_paths),\n",
    "#         os.path.join(HOME_PATH, label_paths),\n",
    "#         'list/carla_train_list-udacity_and_chikiat.txt',\n",
    "#         do_append=do_append)\n",
    "\n",
    "# temp_collections = [\n",
    "#     ('data/faisall/Train/CameraRGB/*.png',\n",
    "#      'data/faisall/Train/CameraSeg/*.png'),\n",
    "#     ('data/faisall/Valid/CameraRGB/*.png',\n",
    "#      'data/faisall/Valid/CameraSeg/*.png'),\n",
    "#     ('data/faisall/Test/CameraRGB/*.png',\n",
    "#      'data/faisall/Test/CameraSeg/*.png')\n",
    "# ]\n",
    "# for i, (train_paths, label_paths) in enumerate(temp_collections):\n",
    "#     do_append = (i != 0)\n",
    "#     write_list(\n",
    "#         os.path.join(HOME_PATH, train_paths),\n",
    "#         os.path.join(HOME_PATH, label_paths),\n",
    "#         'list/carla_train_list-faisall.txt',\n",
    "#         do_append=do_append)"
   ]
  },
  {
   "cell_type": "code",
   "execution_count": 0,
   "metadata": {
    "colab": {
     "autoexec": {
      "startup": false,
      "wait_interval": 0
     }
    },
    "colab_type": "code",
    "collapsed": true,
    "id": "CQ_hH19qcdWY"
   },
   "outputs": [],
   "source": [
    "assert sum(1 for line in open('list/carla_train_list-all.txt')) == (1000 + 1000 + 1000 + 3822 + 500 + 500) #  + 2800)\n",
    "# assert sum(1 for line in open('list/carla_train_list-udacity_and_chikiat.txt')) == (1000 + 1000 + 1000)\n",
    "# assert sum(1 for line in open('list/carla_train_list-faisall.txt')) == (3822 + 500 + 500)"
   ]
  },
  {
   "cell_type": "code",
   "execution_count": 158,
   "metadata": {
    "colab": {
     "autoexec": {
      "startup": false,
      "wait_interval": 0
     },
     "base_uri": "https://localhost:8080/",
     "height": 34
    },
    "colab_type": "code",
    "executionInfo": {
     "elapsed": 554,
     "status": "ok",
     "timestamp": 1528071376413,
     "user": {
      "displayName": "Yoshiaki Sono",
      "photoUrl": "//lh6.googleusercontent.com/-QqkpoqOp_fA/AAAAAAAAAAI/AAAAAAAAA8A/EfPYTWzQRSI/s50-c-k-no/photo.jpg",
      "userId": "110633234607464757614"
     },
     "user_tz": 420
    },
    "id": "uxrllTfFcoLU",
    "outputId": "f5c32403-fd45-4b8b-f06a-1799302b0d95"
   },
   "outputs": [
    {
     "name": "stdout",
     "output_type": "stream",
     "text": [
      "488.875\n"
     ]
    }
   ],
   "source": [
    "# Just a reminder that if using train.py's default batch size of 16,\n",
    "# need this many steps to cover all instances in the training dataset.\n",
    "print(sum(1 for line in open('list/carla_train_list-all.txt')) / 16)\n",
    "# print(sum(1 for line in open('list/carla_train_list-udacity_and_chikiat.txt')) / 16)\n",
    "# print(sum(1 for line in open('list/carla_train_list-faisall.txt')) / 16)"
   ]
  },
  {
   "cell_type": "markdown",
   "metadata": {
    "colab_type": "text",
    "id": "r3TYDrwd9AgS"
   },
   "source": [
    "## Run"
   ]
  },
  {
   "cell_type": "markdown",
   "metadata": {
    "colab_type": "text",
    "id": "5MY7bYQL_60Q"
   },
   "source": [
    "### Prepare snapshots dir for training"
   ]
  },
  {
   "cell_type": "code",
   "execution_count": 154,
   "metadata": {
    "colab": {
     "autoexec": {
      "startup": false,
      "wait_interval": 0
     },
     "base_uri": "https://localhost:8080/",
     "height": 153
    },
    "colab_type": "code",
    "executionInfo": {
     "elapsed": 10450,
     "status": "ok",
     "timestamp": 1528071278112,
     "user": {
      "displayName": "Yoshiaki Sono",
      "photoUrl": "//lh6.googleusercontent.com/-QqkpoqOp_fA/AAAAAAAAAAI/AAAAAAAAA8A/EfPYTWzQRSI/s50-c-k-no/photo.jpg",
      "userId": "110633234607464757614"
     },
     "user_tz": 420
    },
    "id": "hkToIxM5o28-",
    "outputId": "36a225c1-be95-4696-8978-9bf0708354f0"
   },
   "outputs": [
    {
     "name": "stdout",
     "output_type": "stream",
     "text": [
      "Copying gs://ysono-ml/models/icnet/cityscape-hellochick/snapshots-2positiveclasses-run07/checkpoint...\n",
      "/ [1 files][  487.0 B/  487.0 B]                                                \n",
      "Operation completed over 1 objects/487.0 B.                                      \n",
      "Copying gs://ysono-ml/models/icnet/cityscape-hellochick/snapshots-2positiveclasses-run07/model.ckpt-450.data-00000-of-00001...\n",
      "Copying gs://ysono-ml/models/icnet/cityscape-hellochick/snapshots-2positiveclasses-run07/model.ckpt-450.index...\n",
      "Copying gs://ysono-ml/models/icnet/cityscape-hellochick/snapshots-2positiveclasses-run07/model.ckpt-450.meta...\n",
      "- [3/3 files][ 54.4 MiB/ 54.4 MiB] 100% Done                                    \n",
      "Operation completed over 3 objects/54.4 MiB.                                     \n"
     ]
    }
   ],
   "source": [
    "## If discarding latest snapshots ...\n",
    "!rm -r snapshots/\n",
    "!mkdir snapshots\n",
    "# !gsutil    cp gs://ysono-ml/models/icnet/cityscape-hellochick/snapshots-lossfn-hybrid-fscore-correctness-run05/checkpoint snapshots/\n",
    "# !gsutil -m cp gs://ysono-ml/models/icnet/cityscape-hellochick/snapshots-lossfn-hybrid-fscore-correctness-run05/model.ckpt-800.* snapshots/\n",
    "\n",
    "!gsutil    cp gs://ysono-ml/models/icnet/cityscape-hellochick/snapshots-2positiveclasses-run07/checkpoint snapshots/\n",
    "!gsutil -m cp gs://ysono-ml/models/icnet/cityscape-hellochick/snapshots-2positiveclasses-run07/model.ckpt-450.* snapshots/\n",
    "\n",
    "# !gsutil    cp gs://ysono-ml/models/icnet/cityscape-hellochick/snapshots-softmax_correctness-run00/checkpoint snapshots/\n",
    "# !gsutil -m cp gs://ysono-ml/models/icnet/cityscape-hellochick/snapshots-softmax_correctness-run00/model.ckpt-1200.* snapshots/\n",
    "\n",
    "# !gsutil    cp gs://ysono-ml/models/icnet/cityscape-hellochick/snapshots-centercrop-run06/checkpoint snapshots/\n",
    "# !gsutil -m cp gs://ysono-ml/models/icnet/cityscape-hellochick/snapshots-centercrop-run06/model.ckpt-800.* snapshots/"
   ]
  },
  {
   "cell_type": "code",
   "execution_count": 155,
   "metadata": {
    "colab": {
     "autoexec": {
      "startup": false,
      "wait_interval": 0
     },
     "base_uri": "https://localhost:8080/",
     "height": 289
    },
    "colab_type": "code",
    "executionInfo": {
     "elapsed": 3013,
     "status": "ok",
     "timestamp": 1528071281158,
     "user": {
      "displayName": "Yoshiaki Sono",
      "photoUrl": "//lh6.googleusercontent.com/-QqkpoqOp_fA/AAAAAAAAAAI/AAAAAAAAA8A/EfPYTWzQRSI/s50-c-k-no/photo.jpg",
      "userId": "110633234607464757614"
     },
     "user_tz": 420
    },
    "id": "dpRTCgydTGkf",
    "outputId": "5ca6f01a-8c31-4fad-81d7-2b50b44744f0"
   },
   "outputs": [
    {
     "name": "stdout",
     "output_type": "stream",
     "text": [
      "total 55M\r\n",
      "-rw-r--r-- 1 root root  487 Jun  4 00:14 checkpoint\r\n",
      "-rw-r--r-- 1 root root  52M Jun  4 00:14 model.ckpt-450.data-00000-of-00001\r\n",
      "-rw-r--r-- 1 root root  22K Jun  4 00:14 model.ckpt-450.index\r\n",
      "-rw-r--r-- 1 root root 3.0M Jun  4 00:14 model.ckpt-450.meta\n",
      "model_checkpoint_path: \"model.ckpt-450\"\n",
      "all_model_checkpoint_paths: \"model.ckpt-0\"\n",
      "all_model_checkpoint_paths: \"model.ckpt-50\"\n",
      "all_model_checkpoint_paths: \"model.ckpt-100\"\n",
      "all_model_checkpoint_paths: \"model.ckpt-150\"\n",
      "all_model_checkpoint_paths: \"model.ckpt-200\"\n",
      "all_model_checkpoint_paths: \"model.ckpt-250\"\n",
      "all_model_checkpoint_paths: \"model.ckpt-300\"\n",
      "all_model_checkpoint_paths: \"model.ckpt-350\"\n",
      "all_model_checkpoint_paths: \"model.ckpt-400\"\n",
      "all_model_checkpoint_paths: \"model.ckpt-450\"\n"
     ]
    }
   ],
   "source": [
    "## Check contents of snapshots/\n",
    "!ls -lh snapshots\n",
    "!cat snapshots/checkpoint"
   ]
  },
  {
   "cell_type": "code",
   "execution_count": 93,
   "metadata": {
    "colab": {
     "autoexec": {
      "startup": false,
      "wait_interval": 0
     },
     "base_uri": "https://localhost:8080/",
     "height": 51
    },
    "colab_type": "code",
    "executionInfo": {
     "elapsed": 2822,
     "status": "ok",
     "timestamp": 1528058850895,
     "user": {
      "displayName": "Yoshiaki Sono",
      "photoUrl": "//lh6.googleusercontent.com/-QqkpoqOp_fA/AAAAAAAAAAI/AAAAAAAAA8A/EfPYTWzQRSI/s50-c-k-no/photo.jpg",
      "userId": "110633234607464757614"
     },
     "user_tz": 420
    },
    "id": "-cOcRKr-Pfy3",
    "outputId": "da6c2622-b94c-4dd2-fb10-b59df94f4d54"
   },
   "outputs": [
    {
     "name": "stdout",
     "output_type": "stream",
     "text": [
      "model_checkpoint_path: \"model.ckpt-1200\"\r\n",
      "all_model_checkpoint_paths: \"model.ckpt-1200\"\r\n"
     ]
    }
   ],
   "source": [
    "## If overriding latest model within snapshots/ dir ...\n",
    "!echo \"model_checkpoint_path: \\\"model.ckpt-1200\\\"\\nall_model_checkpoint_paths: \\\"model.ckpt-1200\\\"\" > snapshots/checkpoint\n",
    "!cat snapshots/checkpoint"
   ]
  },
  {
   "cell_type": "code",
   "execution_count": 0,
   "metadata": {
    "colab": {
     "autoexec": {
      "startup": false,
      "wait_interval": 0
     }
    },
    "colab_type": "code",
    "collapsed": true,
    "id": "LyHwjXd-kVTU"
   },
   "outputs": [],
   "source": [
    "## If purging some leftover checkpoints ...\n",
    "!rm snapshots/model.ckpt-800.*"
   ]
  },
  {
   "cell_type": "code",
   "execution_count": 0,
   "metadata": {
    "colab": {
     "autoexec": {
      "startup": false,
      "wait_interval": 0
     }
    },
    "colab_type": "code",
    "collapsed": true,
    "id": "HylSFeRTuHUv"
   },
   "outputs": [],
   "source": [
    "!rm -r snapshots"
   ]
  },
  {
   "cell_type": "markdown",
   "metadata": {
    "colab_type": "text",
    "id": "EATJnW7eCoem"
   },
   "source": [
    "### Prepare input list for training"
   ]
  },
  {
   "cell_type": "code",
   "execution_count": 0,
   "metadata": {
    "colab": {
     "autoexec": {
      "startup": false,
      "wait_interval": 0
     }
    },
    "colab_type": "code",
    "collapsed": true,
    "id": "tt88O9Lt7XhY"
   },
   "outputs": [],
   "source": [
    "!rm list/carla_train_list.txt\n",
    "!ln -s carla_train_list-all.txt list/carla_train_list.txt"
   ]
  },
  {
   "cell_type": "code",
   "execution_count": 0,
   "metadata": {
    "colab": {
     "autoexec": {
      "startup": false,
      "wait_interval": 0
     }
    },
    "colab_type": "code",
    "collapsed": true,
    "id": "2RU9ZKKgUyGF"
   },
   "outputs": [],
   "source": [
    "!rm list/carla_train_list.txt\n",
    "!ln -s carla_train_list-udacity_and_chikiat.txt list/carla_train_list.txt"
   ]
  },
  {
   "cell_type": "code",
   "execution_count": 0,
   "metadata": {
    "colab": {
     "autoexec": {
      "startup": false,
      "wait_interval": 0
     }
    },
    "colab_type": "code",
    "collapsed": true,
    "id": "EYCfJ4rlCqnS"
   },
   "outputs": [],
   "source": [
    "!rm list/carla_train_list.txt\n",
    "!ln -s carla_train_list-faisall.txt list/carla_train_list.txt"
   ]
  },
  {
   "cell_type": "code",
   "execution_count": 31,
   "metadata": {
    "colab": {
     "autoexec": {
      "startup": false,
      "wait_interval": 0
     },
     "base_uri": "https://localhost:8080/",
     "height": 119
    },
    "colab_type": "code",
    "executionInfo": {
     "elapsed": 1450,
     "status": "ok",
     "timestamp": 1528041521588,
     "user": {
      "displayName": "Yoshiaki Sono",
      "photoUrl": "//lh6.googleusercontent.com/-QqkpoqOp_fA/AAAAAAAAAAI/AAAAAAAAA8A/EfPYTWzQRSI/s50-c-k-no/photo.jpg",
      "userId": "110633234607464757614"
     },
     "user_tz": 420
    },
    "id": "QB1IjIWsZwZr",
    "outputId": "af7883aa-1d65-4af5-99c2-9cf5e07826bf"
   },
   "outputs": [
    {
     "name": "stdout",
     "output_type": "stream",
     "text": [
      "-rw-r--r-- 1 root root 1.6M Jun  3 15:58 list/ade20k_train_list.txt\r\n",
      "-rw-r--r-- 1 root root 163K Jun  3 15:58 list/ade20k_val_list.txt\r\n",
      "-rw-r--r-- 1 root root 1.3M Jun  3 15:58 list/carla_train_list-all.txt\r\n",
      "lrwxrwxrwx 1 root root   24 Jun  3 15:58 list/carla_train_list.txt -> carla_train_list-all.txt\r\n",
      "-rwxr-xr-x 1 root root 390K Jun  3 15:58 list/cityscapes_train_list.txt\r\n",
      "-rwxr-xr-x 1 root root  65K Jun  3 15:58 list/cityscapes_val_list.txt\r\n"
     ]
    }
   ],
   "source": [
    "!ls -lh list/*txt"
   ]
  },
  {
   "cell_type": "code",
   "execution_count": 99,
   "metadata": {
    "colab": {
     "autoexec": {
      "startup": false,
      "wait_interval": 0
     },
     "base_uri": "https://localhost:8080/",
     "height": 51
    },
    "colab_type": "code",
    "executionInfo": {
     "elapsed": 1594,
     "status": "ok",
     "timestamp": 1528059029460,
     "user": {
      "displayName": "Yoshiaki Sono",
      "photoUrl": "//lh6.googleusercontent.com/-QqkpoqOp_fA/AAAAAAAAAAI/AAAAAAAAA8A/EfPYTWzQRSI/s50-c-k-no/photo.jpg",
      "userId": "110633234607464757614"
     },
     "user_tz": 420
    },
    "id": "Q4t2WNGmc4Az",
    "outputId": "b0bb3a8c-65e1-4453-c688-73bde2cd0a35"
   },
   "outputs": [
    {
     "name": "stdout",
     "output_type": "stream",
     "text": [
      "10622\r\n",
      "10622\n"
     ]
    }
   ],
   "source": [
    "!cat ./list/carla_train_list.txt | sort | uniq | wc -l\n",
    "print(1000 + 1000 + 1000 + 3822 + 500 + 500 + 2800)"
   ]
  },
  {
   "cell_type": "code",
   "execution_count": 77,
   "metadata": {
    "colab": {
     "autoexec": {
      "startup": false,
      "wait_interval": 0
     },
     "base_uri": "https://localhost:8080/",
     "height": 68
    },
    "colab_type": "code",
    "executionInfo": {
     "elapsed": 5255,
     "status": "ok",
     "timestamp": 1528058153484,
     "user": {
      "displayName": "Yoshiaki Sono",
      "photoUrl": "//lh6.googleusercontent.com/-QqkpoqOp_fA/AAAAAAAAAAI/AAAAAAAAA8A/EfPYTWzQRSI/s50-c-k-no/photo.jpg",
      "userId": "110633234607464757614"
     },
     "user_tz": 420
    },
    "id": "OmSHtdQpWwfw",
    "outputId": "a0d380d7-b482-4bad-9e6d-8925b79cc6b7"
   },
   "outputs": [
    {
     "name": "stdout",
     "output_type": "stream",
     "text": [
      "/content/data/udacity/Train/CameraRGB/udacity-0.png /content/data/udacity/CameraSeg/udacity-0.png\r\n",
      "/content/data/udacity/Train/CameraRGB/udacity-1.png /content/data/udacity/CameraSeg/udacity-1.png\r\n",
      "/content/data/udacity/Train/CameraRGB/udacity-10.png /content/data/udacity/CameraSeg/udacity-10.png\r\n"
     ]
    }
   ],
   "source": [
    "# debug... write 3 lines only\n",
    "!head -3 list/carla_train_list-all.txt > list/carla_train_list_3lines.txt\n",
    "!rm list/carla_train_list.txt\n",
    "!ln -s carla_train_list_3lines.txt list/carla_train_list.txt\n",
    "!cat list/carla_train_list.txt"
   ]
  },
  {
   "cell_type": "markdown",
   "metadata": {
    "colab_type": "text",
    "id": "t9F0auGX80dJ"
   },
   "source": [
    "### Train"
   ]
  },
  {
   "cell_type": "code",
   "execution_count": 164,
   "metadata": {
    "colab": {
     "autoexec": {
      "startup": false,
      "wait_interval": 0
     },
     "base_uri": "https://localhost:8080/",
     "height": 10543
    },
    "colab_type": "code",
    "executionInfo": {
     "elapsed": 1062790,
     "status": "ok",
     "timestamp": 1528072849135,
     "user": {
      "displayName": "Yoshiaki Sono",
      "photoUrl": "//lh6.googleusercontent.com/-QqkpoqOp_fA/AAAAAAAAAAI/AAAAAAAAA8A/EfPYTWzQRSI/s50-c-k-no/photo.jpg",
      "userId": "110633234607464757614"
     },
     "user_tz": 420
    },
    "id": "SzsJlvGB9U4C",
    "outputId": "b7845082-71fd-42f5-b4b1-b47a5bee2db0"
   },
   "outputs": [
    {
     "name": "stdout",
     "output_type": "stream",
     "text": [
      "/usr/local/lib/python3.6/dist-packages/h5py/__init__.py:36: FutureWarning: Conversion of the second argument of issubdtype from `float` to `np.floating` is deprecated. In future, it will be treated as `np.float64 == np.dtype(float).type`.\n",
      "  from ._conv import register_converters as _register_converters\n",
      "2018-06-04 00:23:19.940182: I tensorflow/stream_executor/cuda/cuda_gpu_executor.cc:898] successful NUMA node read from SysFS had negative value (-1), but there must be at least one NUMA node, so returning NUMA node zero\n",
      "2018-06-04 00:23:19.940720: I tensorflow/core/common_runtime/gpu/gpu_device.cc:1356] Found device 0 with properties: \n",
      "name: Tesla K80 major: 3 minor: 7 memoryClockRate(GHz): 0.8235\n",
      "pciBusID: 0000:00:04.0\n",
      "totalMemory: 11.17GiB freeMemory: 10.88GiB\n",
      "2018-06-04 00:23:19.940806: I tensorflow/core/common_runtime/gpu/gpu_device.cc:1435] Adding visible gpu devices: 0\n",
      "2018-06-04 00:23:20.341830: I tensorflow/core/common_runtime/gpu/gpu_device.cc:923] Device interconnect StreamExecutor with strength 1 edge matrix:\n",
      "2018-06-04 00:23:20.341891: I tensorflow/core/common_runtime/gpu/gpu_device.cc:929]      0 \n",
      "2018-06-04 00:23:20.341926: I tensorflow/core/common_runtime/gpu/gpu_device.cc:942] 0:   N \n",
      "2018-06-04 00:23:20.342300: I tensorflow/core/common_runtime/gpu/gpu_device.cc:1053] Created TensorFlow device (/job:localhost/replica:0/task:0/device:GPU:0 with 10550 MB memory) -> physical GPU (device: 0, name: Tesla K80, pci bus id: 0000:00:04.0, compute capability: 3.7)\n",
      "Restored model parameters from ./snapshots/model.ckpt-450\n",
      "The checkpoint has been created.\n",
      "step 0 \t total loss = 0.362, sub4 = 0.322, sub24 = 0.230, sub124 = 0.209 (12.287 sec/step)\n",
      "step 1 \t total loss = 0.428, sub4 = 0.382, sub24 = 0.253, sub124 = 0.257 (1.495 sec/step)\n",
      "step 2 \t total loss = 0.380, sub4 = 0.348, sub24 = 0.233, sub124 = 0.222 (1.440 sec/step)\n",
      "step 3 \t total loss = 0.273, sub4 = 0.245, sub24 = 0.174, sub124 = 0.155 (1.731 sec/step)\n",
      "step 4 \t total loss = 0.404, sub4 = 0.362, sub24 = 0.274, sub124 = 0.227 (1.870 sec/step)\n",
      "step 5 \t total loss = 0.314, sub4 = 0.296, sub24 = 0.192, sub124 = 0.180 (1.920 sec/step)\n",
      "step 6 \t total loss = 0.428, sub4 = 0.405, sub24 = 0.282, sub124 = 0.240 (1.828 sec/step)\n",
      "step 7 \t total loss = 0.335, sub4 = 0.304, sub24 = 0.207, sub124 = 0.194 (1.832 sec/step)\n",
      "step 8 \t total loss = 0.418, sub4 = 0.389, sub24 = 0.254, sub124 = 0.244 (1.841 sec/step)\n",
      "step 9 \t total loss = 0.450, sub4 = 0.460, sub24 = 0.278, sub124 = 0.256 (1.819 sec/step)\n",
      "step 10 \t total loss = 0.383, sub4 = 0.326, sub24 = 0.250, sub124 = 0.222 (1.841 sec/step)\n",
      "step 11 \t total loss = 0.206, sub4 = 0.199, sub24 = 0.127, sub124 = 0.114 (1.809 sec/step)\n",
      "step 12 \t total loss = 0.355, sub4 = 0.299, sub24 = 0.218, sub124 = 0.211 (1.853 sec/step)\n",
      "step 13 \t total loss = 0.371, sub4 = 0.384, sub24 = 0.228, sub124 = 0.209 (1.873 sec/step)\n",
      "step 14 \t total loss = 0.405, sub4 = 0.352, sub24 = 0.256, sub124 = 0.237 (1.852 sec/step)\n",
      "step 15 \t total loss = 0.301, sub4 = 0.260, sub24 = 0.179, sub124 = 0.178 (1.893 sec/step)\n",
      "step 16 \t total loss = 0.337, sub4 = 0.321, sub24 = 0.205, sub124 = 0.194 (1.825 sec/step)\n",
      "step 17 \t total loss = 0.392, sub4 = 0.313, sub24 = 0.244, sub124 = 0.235 (1.817 sec/step)\n",
      "step 18 \t total loss = 0.352, sub4 = 0.340, sub24 = 0.228, sub124 = 0.197 (1.874 sec/step)\n",
      "step 19 \t total loss = 0.527, sub4 = 0.444, sub24 = 0.361, sub124 = 0.302 (1.796 sec/step)\n",
      "step 20 \t total loss = 0.321, sub4 = 0.298, sub24 = 0.199, sub124 = 0.184 (1.818 sec/step)\n",
      "step 21 \t total loss = 0.496, sub4 = 0.469, sub24 = 0.303, sub124 = 0.290 (1.829 sec/step)\n",
      "step 22 \t total loss = 0.485, sub4 = 0.467, sub24 = 0.307, sub124 = 0.277 (1.842 sec/step)\n",
      "step 23 \t total loss = 0.333, sub4 = 0.327, sub24 = 0.206, sub124 = 0.189 (1.833 sec/step)\n",
      "step 24 \t total loss = 0.975, sub4 = 0.932, sub24 = 0.649, sub124 = 0.557 (1.854 sec/step)\n",
      "step 25 \t total loss = 0.326, sub4 = 0.328, sub24 = 0.211, sub124 = 0.180 (1.806 sec/step)\n",
      "step 26 \t total loss = 0.596, sub4 = 0.498, sub24 = 0.356, sub124 = 0.365 (1.844 sec/step)\n",
      "step 27 \t total loss = 0.492, sub4 = 0.429, sub24 = 0.312, sub124 = 0.289 (1.841 sec/step)\n",
      "step 28 \t total loss = 0.373, sub4 = 0.333, sub24 = 0.232, sub124 = 0.218 (1.811 sec/step)\n",
      "step 29 \t total loss = 0.517, sub4 = 0.499, sub24 = 0.330, sub124 = 0.295 (1.840 sec/step)\n",
      "step 30 \t total loss = 0.452, sub4 = 0.411, sub24 = 0.286, sub124 = 0.263 (1.824 sec/step)\n",
      "step 31 \t total loss = 0.402, sub4 = 0.331, sub24 = 0.271, sub124 = 0.231 (1.834 sec/step)\n",
      "step 32 \t total loss = 0.344, sub4 = 0.329, sub24 = 0.198, sub124 = 0.202 (1.837 sec/step)\n",
      "step 33 \t total loss = 0.313, sub4 = 0.287, sub24 = 0.188, sub124 = 0.182 (1.830 sec/step)\n",
      "step 34 \t total loss = 0.374, sub4 = 0.316, sub24 = 0.238, sub124 = 0.219 (1.831 sec/step)\n",
      "step 35 \t total loss = 0.306, sub4 = 0.262, sub24 = 0.196, sub124 = 0.176 (1.847 sec/step)\n",
      "step 36 \t total loss = 0.436, sub4 = 0.405, sub24 = 0.277, sub124 = 0.251 (1.834 sec/step)\n",
      "step 37 \t total loss = 0.303, sub4 = 0.268, sub24 = 0.195, sub124 = 0.173 (1.873 sec/step)\n",
      "step 38 \t total loss = 0.435, sub4 = 0.365, sub24 = 0.265, sub124 = 0.262 (1.788 sec/step)\n",
      "step 39 \t total loss = 0.323, sub4 = 0.262, sub24 = 0.214, sub124 = 0.186 (1.838 sec/step)\n",
      "step 40 \t total loss = 0.383, sub4 = 0.353, sub24 = 0.238, sub124 = 0.222 (1.835 sec/step)\n",
      "step 41 \t total loss = 0.395, sub4 = 0.343, sub24 = 0.252, sub124 = 0.230 (1.843 sec/step)\n",
      "step 42 \t total loss = 0.468, sub4 = 0.375, sub24 = 0.292, sub124 = 0.282 (1.848 sec/step)\n",
      "step 43 \t total loss = 0.505, sub4 = 0.396, sub24 = 0.333, sub124 = 0.299 (1.820 sec/step)\n",
      "step 44 \t total loss = 0.437, sub4 = 0.392, sub24 = 0.265, sub124 = 0.259 (1.823 sec/step)\n",
      "step 45 \t total loss = 0.314, sub4 = 0.302, sub24 = 0.197, sub124 = 0.178 (1.886 sec/step)\n",
      "step 46 \t total loss = 0.307, sub4 = 0.249, sub24 = 0.197, sub124 = 0.179 (1.861 sec/step)\n",
      "step 47 \t total loss = 0.357, sub4 = 0.303, sub24 = 0.246, sub124 = 0.201 (1.832 sec/step)\n",
      "step 48 \t total loss = 0.296, sub4 = 0.272, sub24 = 0.190, sub124 = 0.167 (1.845 sec/step)\n",
      "step 49 \t total loss = 0.387, sub4 = 0.323, sub24 = 0.246, sub124 = 0.227 (1.850 sec/step)\n",
      "The checkpoint has been created.\n",
      "step 50 \t total loss = 0.554, sub4 = 0.466, sub24 = 0.366, sub124 = 0.323 (2.764 sec/step)\n",
      "step 51 \t total loss = 0.470, sub4 = 0.393, sub24 = 0.314, sub124 = 0.272 (1.447 sec/step)\n",
      "step 52 \t total loss = 0.299, sub4 = 0.271, sub24 = 0.184, sub124 = 0.173 (1.761 sec/step)\n",
      "step 53 \t total loss = 0.515, sub4 = 0.451, sub24 = 0.350, sub124 = 0.293 (1.807 sec/step)\n",
      "step 54 \t total loss = 0.383, sub4 = 0.317, sub24 = 0.221, sub124 = 0.234 (1.813 sec/step)\n",
      "step 55 \t total loss = 0.397, sub4 = 0.346, sub24 = 0.233, sub124 = 0.239 (1.895 sec/step)\n",
      "step 56 \t total loss = 0.499, sub4 = 0.501, sub24 = 0.307, sub124 = 0.286 (1.880 sec/step)\n",
      "step 57 \t total loss = 0.285, sub4 = 0.272, sub24 = 0.179, sub124 = 0.161 (1.836 sec/step)\n",
      "step 58 \t total loss = 0.334, sub4 = 0.286, sub24 = 0.218, sub124 = 0.192 (1.841 sec/step)\n",
      "step 59 \t total loss = 0.347, sub4 = 0.286, sub24 = 0.218, sub124 = 0.205 (1.824 sec/step)\n",
      "step 60 \t total loss = 0.367, sub4 = 0.349, sub24 = 0.244, sub124 = 0.204 (1.841 sec/step)\n",
      "step 61 \t total loss = 0.437, sub4 = 0.375, sub24 = 0.279, sub124 = 0.256 (1.870 sec/step)\n",
      "step 62 \t total loss = 0.446, sub4 = 0.387, sub24 = 0.293, sub124 = 0.257 (1.904 sec/step)\n",
      "step 63 \t total loss = 0.279, sub4 = 0.266, sub24 = 0.180, sub124 = 0.155 (1.829 sec/step)\n",
      "step 64 \t total loss = 0.544, sub4 = 0.520, sub24 = 0.350, sub124 = 0.312 (1.859 sec/step)\n",
      "step 65 \t total loss = 0.323, sub4 = 0.317, sub24 = 0.213, sub124 = 0.177 (1.770 sec/step)\n",
      "step 66 \t total loss = 0.513, sub4 = 0.421, sub24 = 0.340, sub124 = 0.300 (1.855 sec/step)\n",
      "step 67 \t total loss = 0.267, sub4 = 0.248, sub24 = 0.180, sub124 = 0.146 (1.903 sec/step)\n",
      "step 68 \t total loss = 0.357, sub4 = 0.327, sub24 = 0.236, sub124 = 0.201 (1.785 sec/step)\n",
      "step 69 \t total loss = 0.439, sub4 = 0.401, sub24 = 0.277, sub124 = 0.254 (1.871 sec/step)\n",
      "step 70 \t total loss = 0.372, sub4 = 0.310, sub24 = 0.237, sub124 = 0.219 (1.803 sec/step)\n",
      "step 71 \t total loss = 0.362, sub4 = 0.326, sub24 = 0.234, sub124 = 0.207 (1.892 sec/step)\n",
      "step 72 \t total loss = 0.301, sub4 = 0.254, sub24 = 0.199, sub124 = 0.172 (1.801 sec/step)\n",
      "step 73 \t total loss = 0.457, sub4 = 0.369, sub24 = 0.313, sub124 = 0.264 (1.910 sec/step)\n",
      "step 74 \t total loss = 0.450, sub4 = 0.381, sub24 = 0.285, sub124 = 0.265 (1.851 sec/step)\n",
      "step 75 \t total loss = 0.255, sub4 = 0.234, sub24 = 0.156, sub124 = 0.145 (1.897 sec/step)\n",
      "step 76 \t total loss = 0.348, sub4 = 0.324, sub24 = 0.219, sub124 = 0.199 (1.830 sec/step)\n"
     ]
    },
    {
     "name": "stdout",
     "output_type": "stream",
     "text": [
      "step 77 \t total loss = 0.597, sub4 = 0.603, sub24 = 0.374, sub124 = 0.342 (1.805 sec/step)\n",
      "step 78 \t total loss = 0.384, sub4 = 0.393, sub24 = 0.229, sub124 = 0.220 (1.823 sec/step)\n",
      "step 79 \t total loss = 0.284, sub4 = 0.219, sub24 = 0.184, sub124 = 0.165 (1.816 sec/step)\n",
      "step 80 \t total loss = 0.366, sub4 = 0.348, sub24 = 0.212, sub124 = 0.216 (1.842 sec/step)\n",
      "step 81 \t total loss = 0.387, sub4 = 0.341, sub24 = 0.250, sub124 = 0.223 (1.835 sec/step)\n",
      "step 82 \t total loss = 0.382, sub4 = 0.302, sub24 = 0.250, sub124 = 0.225 (1.845 sec/step)\n",
      "step 83 \t total loss = 0.284, sub4 = 0.256, sub24 = 0.175, sub124 = 0.164 (1.814 sec/step)\n",
      "step 84 \t total loss = 0.605, sub4 = 0.546, sub24 = 0.392, sub124 = 0.351 (1.845 sec/step)\n",
      "step 85 \t total loss = 0.388, sub4 = 0.341, sub24 = 0.258, sub124 = 0.221 (1.817 sec/step)\n",
      "step 86 \t total loss = 0.347, sub4 = 0.276, sub24 = 0.227, sub124 = 0.203 (1.814 sec/step)\n",
      "step 87 \t total loss = 0.441, sub4 = 0.368, sub24 = 0.282, sub124 = 0.260 (1.846 sec/step)\n",
      "step 88 \t total loss = 0.388, sub4 = 0.363, sub24 = 0.239, sub124 = 0.224 (1.862 sec/step)\n",
      "step 89 \t total loss = 0.359, sub4 = 0.320, sub24 = 0.236, sub124 = 0.204 (1.819 sec/step)\n",
      "step 90 \t total loss = 0.553, sub4 = 0.506, sub24 = 0.351, sub124 = 0.322 (1.879 sec/step)\n",
      "step 91 \t total loss = 0.484, sub4 = 0.403, sub24 = 0.333, sub124 = 0.277 (1.810 sec/step)\n",
      "step 92 \t total loss = 0.256, sub4 = 0.232, sub24 = 0.166, sub124 = 0.143 (1.826 sec/step)\n",
      "step 93 \t total loss = 0.392, sub4 = 0.338, sub24 = 0.265, sub124 = 0.223 (1.780 sec/step)\n",
      "step 94 \t total loss = 0.268, sub4 = 0.286, sub24 = 0.168, sub124 = 0.145 (1.901 sec/step)\n",
      "step 95 \t total loss = 0.321, sub4 = 0.276, sub24 = 0.214, sub124 = 0.182 (1.800 sec/step)\n",
      "step 96 \t total loss = 0.768, sub4 = 0.646, sub24 = 0.506, sub124 = 0.453 (1.822 sec/step)\n",
      "step 97 \t total loss = 0.482, sub4 = 0.425, sub24 = 0.306, sub124 = 0.283 (1.868 sec/step)\n",
      "step 98 \t total loss = 0.478, sub4 = 0.382, sub24 = 0.302, sub124 = 0.287 (1.796 sec/step)\n",
      "step 99 \t total loss = 0.404, sub4 = 0.328, sub24 = 0.261, sub124 = 0.238 (1.862 sec/step)\n",
      "The checkpoint has been created.\n",
      "step 100 \t total loss = 0.296, sub4 = 0.284, sub24 = 0.200, sub124 = 0.161 (2.863 sec/step)\n",
      "step 101 \t total loss = 0.591, sub4 = 0.532, sub24 = 0.384, sub124 = 0.343 (1.454 sec/step)\n",
      "step 102 \t total loss = 0.322, sub4 = 0.330, sub24 = 0.201, sub124 = 0.179 (1.719 sec/step)\n",
      "step 103 \t total loss = 0.398, sub4 = 0.313, sub24 = 0.269, sub124 = 0.231 (1.829 sec/step)\n",
      "step 104 \t total loss = 0.646, sub4 = 0.598, sub24 = 0.393, sub124 = 0.383 (1.871 sec/step)\n",
      "step 105 \t total loss = 0.434, sub4 = 0.369, sub24 = 0.283, sub124 = 0.253 (1.790 sec/step)\n",
      "step 106 \t total loss = 0.340, sub4 = 0.277, sub24 = 0.222, sub124 = 0.197 (1.943 sec/step)\n",
      "step 107 \t total loss = 0.269, sub4 = 0.259, sub24 = 0.162, sub124 = 0.153 (1.802 sec/step)\n",
      "step 108 \t total loss = 0.289, sub4 = 0.271, sub24 = 0.188, sub124 = 0.160 (1.826 sec/step)\n",
      "step 109 \t total loss = 0.329, sub4 = 0.293, sub24 = 0.219, sub124 = 0.185 (1.819 sec/step)\n",
      "step 110 \t total loss = 0.290, sub4 = 0.238, sub24 = 0.181, sub124 = 0.170 (1.867 sec/step)\n",
      "step 111 \t total loss = 0.315, sub4 = 0.275, sub24 = 0.202, sub124 = 0.181 (1.848 sec/step)\n",
      "step 112 \t total loss = 0.673, sub4 = 0.613, sub24 = 0.434, sub124 = 0.392 (1.831 sec/step)\n",
      "step 113 \t total loss = 0.372, sub4 = 0.343, sub24 = 0.243, sub124 = 0.211 (1.834 sec/step)\n",
      "step 114 \t total loss = 0.255, sub4 = 0.263, sub24 = 0.155, sub124 = 0.141 (1.874 sec/step)\n",
      "step 115 \t total loss = 0.491, sub4 = 0.427, sub24 = 0.335, sub124 = 0.279 (1.790 sec/step)\n",
      "step 116 \t total loss = 0.495, sub4 = 0.396, sub24 = 0.326, sub124 = 0.292 (1.799 sec/step)\n",
      "step 117 \t total loss = 0.238, sub4 = 0.224, sub24 = 0.150, sub124 = 0.132 (1.861 sec/step)\n",
      "step 118 \t total loss = 0.312, sub4 = 0.271, sub24 = 0.215, sub124 = 0.173 (1.838 sec/step)\n",
      "step 119 \t total loss = 0.404, sub4 = 0.350, sub24 = 0.242, sub124 = 0.242 (1.834 sec/step)\n",
      "step 120 \t total loss = 0.289, sub4 = 0.261, sub24 = 0.183, sub124 = 0.164 (1.906 sec/step)\n",
      "step 121 \t total loss = 0.306, sub4 = 0.300, sub24 = 0.209, sub124 = 0.165 (1.884 sec/step)\n",
      "step 122 \t total loss = 0.276, sub4 = 0.269, sub24 = 0.176, sub124 = 0.153 (1.856 sec/step)\n",
      "step 123 \t total loss = 0.345, sub4 = 0.313, sub24 = 0.222, sub124 = 0.197 (1.806 sec/step)\n",
      "step 124 \t total loss = 0.470, sub4 = 0.401, sub24 = 0.302, sub124 = 0.276 (1.819 sec/step)\n",
      "step 125 \t total loss = 0.372, sub4 = 0.310, sub24 = 0.238, sub124 = 0.218 (1.864 sec/step)\n",
      "step 126 \t total loss = 0.519, sub4 = 0.485, sub24 = 0.321, sub124 = 0.304 (1.814 sec/step)\n",
      "step 127 \t total loss = 0.264, sub4 = 0.267, sub24 = 0.160, sub124 = 0.148 (1.872 sec/step)\n",
      "step 128 \t total loss = 0.463, sub4 = 0.385, sub24 = 0.296, sub124 = 0.274 (1.872 sec/step)\n",
      "step 129 \t total loss = 0.275, sub4 = 0.233, sub24 = 0.180, sub124 = 0.157 (1.847 sec/step)\n",
      "step 130 \t total loss = 0.354, sub4 = 0.304, sub24 = 0.232, sub124 = 0.204 (1.854 sec/step)\n",
      "step 131 \t total loss = 0.408, sub4 = 0.307, sub24 = 0.258, sub124 = 0.246 (1.793 sec/step)\n",
      "step 132 \t total loss = 0.408, sub4 = 0.360, sub24 = 0.271, sub124 = 0.233 (1.821 sec/step)\n",
      "step 133 \t total loss = 0.313, sub4 = 0.298, sub24 = 0.200, sub124 = 0.175 (1.794 sec/step)\n",
      "step 134 \t total loss = 0.306, sub4 = 0.264, sub24 = 0.199, sub124 = 0.175 (1.844 sec/step)\n",
      "step 135 \t total loss = 0.366, sub4 = 0.311, sub24 = 0.259, sub124 = 0.203 (1.807 sec/step)\n",
      "step 136 \t total loss = 0.344, sub4 = 0.306, sub24 = 0.232, sub124 = 0.193 (1.865 sec/step)\n",
      "step 137 \t total loss = 0.310, sub4 = 0.284, sub24 = 0.201, sub124 = 0.175 (1.820 sec/step)\n",
      "step 138 \t total loss = 0.393, sub4 = 0.331, sub24 = 0.252, sub124 = 0.230 (1.848 sec/step)\n",
      "step 139 \t total loss = 0.307, sub4 = 0.264, sub24 = 0.194, sub124 = 0.178 (1.889 sec/step)\n",
      "step 140 \t total loss = 0.369, sub4 = 0.314, sub24 = 0.238, sub124 = 0.214 (1.838 sec/step)\n",
      "step 141 \t total loss = 0.468, sub4 = 0.366, sub24 = 0.314, sub124 = 0.275 (1.829 sec/step)\n",
      "step 142 \t total loss = 0.329, sub4 = 0.322, sub24 = 0.209, sub124 = 0.185 (1.880 sec/step)\n",
      "step 143 \t total loss = 0.259, sub4 = 0.251, sub24 = 0.170, sub124 = 0.141 (1.847 sec/step)\n",
      "step 144 \t total loss = 0.322, sub4 = 0.269, sub24 = 0.207, sub124 = 0.187 (1.848 sec/step)\n",
      "step 145 \t total loss = 0.420, sub4 = 0.376, sub24 = 0.268, sub124 = 0.243 (1.865 sec/step)\n",
      "step 146 \t total loss = 0.423, sub4 = 0.343, sub24 = 0.274, sub124 = 0.250 (1.781 sec/step)\n",
      "step 147 \t total loss = 0.336, sub4 = 0.270, sub24 = 0.223, sub124 = 0.194 (1.875 sec/step)\n",
      "step 148 \t total loss = 0.426, sub4 = 0.409, sub24 = 0.272, sub124 = 0.243 (1.814 sec/step)\n",
      "step 149 \t total loss = 0.366, sub4 = 0.302, sub24 = 0.230, sub124 = 0.216 (1.883 sec/step)\n",
      "The checkpoint has been created.\n",
      "step 150 \t total loss = 0.229, sub4 = 0.226, sub24 = 0.143, sub124 = 0.126 (2.817 sec/step)\n",
      "step 151 \t total loss = 0.338, sub4 = 0.299, sub24 = 0.219, sub124 = 0.193 (1.437 sec/step)\n",
      "step 152 \t total loss = 0.383, sub4 = 0.327, sub24 = 0.256, sub124 = 0.219 (1.752 sec/step)\n",
      "step 153 \t total loss = 0.415, sub4 = 0.360, sub24 = 0.257, sub124 = 0.245 (1.898 sec/step)\n",
      "step 154 \t total loss = 0.403, sub4 = 0.361, sub24 = 0.269, sub124 = 0.228 (1.823 sec/step)\n",
      "step 155 \t total loss = 0.320, sub4 = 0.281, sub24 = 0.192, sub124 = 0.189 (1.814 sec/step)\n",
      "step 156 \t total loss = 0.454, sub4 = 0.413, sub24 = 0.306, sub124 = 0.256 (1.832 sec/step)\n",
      "step 157 \t total loss = 0.329, sub4 = 0.326, sub24 = 0.207, sub124 = 0.184 (2.044 sec/step)\n",
      "step 158 \t total loss = 0.227, sub4 = 0.218, sub24 = 0.146, sub124 = 0.124 (1.809 sec/step)\n",
      "step 159 \t total loss = 0.561, sub4 = 0.501, sub24 = 0.350, sub124 = 0.332 (1.809 sec/step)\n",
      "step 160 \t total loss = 0.313, sub4 = 0.267, sub24 = 0.194, sub124 = 0.183 (1.860 sec/step)\n",
      "step 161 \t total loss = 0.371, sub4 = 0.389, sub24 = 0.237, sub124 = 0.205 (1.800 sec/step)\n",
      "step 162 \t total loss = 0.545, sub4 = 0.486, sub24 = 0.338, sub124 = 0.322 (1.888 sec/step)\n",
      "step 163 \t total loss = 0.278, sub4 = 0.238, sub24 = 0.177, sub124 = 0.160 (1.787 sec/step)\n",
      "step 164 \t total loss = 0.358, sub4 = 0.322, sub24 = 0.233, sub124 = 0.204 (1.857 sec/step)\n",
      "step 165 \t total loss = 0.287, sub4 = 0.299, sub24 = 0.175, sub124 = 0.160 (1.824 sec/step)\n",
      "step 166 \t total loss = 0.325, sub4 = 0.277, sub24 = 0.214, sub124 = 0.186 (1.849 sec/step)\n",
      "step 167 \t total loss = 0.302, sub4 = 0.285, sub24 = 0.188, sub124 = 0.172 (1.871 sec/step)\n"
     ]
    },
    {
     "name": "stdout",
     "output_type": "stream",
     "text": [
      "step 168 \t total loss = 0.356, sub4 = 0.290, sub24 = 0.232, sub124 = 0.207 (1.782 sec/step)\n",
      "step 169 \t total loss = 0.362, sub4 = 0.309, sub24 = 0.218, sub124 = 0.216 (1.840 sec/step)\n",
      "step 170 \t total loss = 0.295, sub4 = 0.308, sub24 = 0.187, sub124 = 0.161 (1.810 sec/step)\n",
      "step 171 \t total loss = 0.331, sub4 = 0.309, sub24 = 0.200, sub124 = 0.192 (1.912 sec/step)\n",
      "step 172 \t total loss = 0.425, sub4 = 0.319, sub24 = 0.269, sub124 = 0.257 (1.848 sec/step)\n",
      "step 173 \t total loss = 0.514, sub4 = 0.464, sub24 = 0.308, sub124 = 0.307 (1.858 sec/step)\n",
      "step 174 \t total loss = 0.305, sub4 = 0.309, sub24 = 0.187, sub124 = 0.171 (1.819 sec/step)\n",
      "step 175 \t total loss = 0.431, sub4 = 0.363, sub24 = 0.289, sub124 = 0.247 (1.798 sec/step)\n",
      "step 176 \t total loss = 0.337, sub4 = 0.307, sub24 = 0.218, sub124 = 0.191 (1.809 sec/step)\n",
      "step 177 \t total loss = 0.304, sub4 = 0.262, sub24 = 0.197, sub124 = 0.173 (1.880 sec/step)\n",
      "step 178 \t total loss = 0.281, sub4 = 0.262, sub24 = 0.181, sub124 = 0.157 (1.787 sec/step)\n",
      "step 179 \t total loss = 0.385, sub4 = 0.363, sub24 = 0.234, sub124 = 0.224 (1.840 sec/step)\n",
      "step 180 \t total loss = 0.475, sub4 = 0.397, sub24 = 0.296, sub124 = 0.284 (1.808 sec/step)\n",
      "step 181 \t total loss = 0.294, sub4 = 0.248, sub24 = 0.193, sub124 = 0.168 (1.859 sec/step)\n",
      "step 182 \t total loss = 0.303, sub4 = 0.261, sub24 = 0.185, sub124 = 0.177 (1.790 sec/step)\n",
      "step 183 \t total loss = 0.352, sub4 = 0.319, sub24 = 0.231, sub124 = 0.199 (1.872 sec/step)\n",
      "step 184 \t total loss = 0.532, sub4 = 0.443, sub24 = 0.338, sub124 = 0.317 (1.858 sec/step)\n",
      "step 185 \t total loss = 0.280, sub4 = 0.270, sub24 = 0.189, sub124 = 0.152 (1.798 sec/step)\n",
      "step 186 \t total loss = 0.286, sub4 = 0.233, sub24 = 0.191, sub124 = 0.163 (1.866 sec/step)\n",
      "step 187 \t total loss = 0.309, sub4 = 0.288, sub24 = 0.193, sub124 = 0.177 (1.806 sec/step)\n",
      "step 188 \t total loss = 0.318, sub4 = 0.314, sub24 = 0.207, sub124 = 0.176 (1.868 sec/step)\n",
      "step 189 \t total loss = 0.451, sub4 = 0.404, sub24 = 0.274, sub124 = 0.267 (1.887 sec/step)\n",
      "step 190 \t total loss = 0.252, sub4 = 0.231, sub24 = 0.161, sub124 = 0.141 (1.818 sec/step)\n",
      "step 191 \t total loss = 0.456, sub4 = 0.390, sub24 = 0.294, sub124 = 0.266 (1.833 sec/step)\n",
      "step 192 \t total loss = 0.355, sub4 = 0.299, sub24 = 0.247, sub124 = 0.199 (1.803 sec/step)\n",
      "step 193 \t total loss = 0.446, sub4 = 0.366, sub24 = 0.289, sub124 = 0.262 (1.824 sec/step)\n",
      "step 194 \t total loss = 0.417, sub4 = 0.352, sub24 = 0.255, sub124 = 0.249 (1.809 sec/step)\n",
      "step 195 \t total loss = 0.418, sub4 = 0.332, sub24 = 0.270, sub124 = 0.247 (1.876 sec/step)\n",
      "step 196 \t total loss = 0.633, sub4 = 0.623, sub24 = 0.376, sub124 = 0.374 (1.810 sec/step)\n",
      "step 197 \t total loss = 0.376, sub4 = 0.353, sub24 = 0.243, sub124 = 0.213 (1.846 sec/step)\n",
      "step 198 \t total loss = 0.329, sub4 = 0.282, sub24 = 0.203, sub124 = 0.194 (1.855 sec/step)\n",
      "step 199 \t total loss = 0.293, sub4 = 0.276, sub24 = 0.188, sub124 = 0.164 (1.806 sec/step)\n",
      "The checkpoint has been created.\n",
      "step 200 \t total loss = 0.705, sub4 = 0.617, sub24 = 0.460, sub124 = 0.413 (2.812 sec/step)\n",
      "step 201 \t total loss = 0.408, sub4 = 0.333, sub24 = 0.267, sub124 = 0.238 (1.443 sec/step)\n",
      "step 202 \t total loss = 0.428, sub4 = 0.364, sub24 = 0.280, sub124 = 0.248 (1.810 sec/step)\n",
      "step 203 \t total loss = 0.291, sub4 = 0.249, sub24 = 0.206, sub124 = 0.159 (1.839 sec/step)\n",
      "step 204 \t total loss = 0.379, sub4 = 0.324, sub24 = 0.254, sub124 = 0.216 (1.797 sec/step)\n",
      "step 205 \t total loss = 0.382, sub4 = 0.371, sub24 = 0.242, sub124 = 0.216 (1.826 sec/step)\n",
      "step 206 \t total loss = 0.410, sub4 = 0.329, sub24 = 0.266, sub124 = 0.242 (1.867 sec/step)\n",
      "step 207 \t total loss = 0.280, sub4 = 0.262, sub24 = 0.166, sub124 = 0.162 (1.819 sec/step)\n",
      "step 208 \t total loss = 0.438, sub4 = 0.389, sub24 = 0.285, sub124 = 0.253 (1.878 sec/step)\n",
      "step 209 \t total loss = 0.363, sub4 = 0.307, sub24 = 0.222, sub124 = 0.215 (1.841 sec/step)\n",
      "step 210 \t total loss = 0.494, sub4 = 0.447, sub24 = 0.301, sub124 = 0.293 (1.820 sec/step)\n",
      "step 211 \t total loss = 0.474, sub4 = 0.463, sub24 = 0.292, sub124 = 0.274 (1.874 sec/step)\n",
      "step 212 \t total loss = 0.503, sub4 = 0.412, sub24 = 0.325, sub124 = 0.298 (1.833 sec/step)\n",
      "step 213 \t total loss = 0.267, sub4 = 0.292, sub24 = 0.168, sub124 = 0.144 (1.816 sec/step)\n",
      "step 214 \t total loss = 0.492, sub4 = 0.391, sub24 = 0.333, sub124 = 0.287 (1.806 sec/step)\n",
      "step 215 \t total loss = 0.479, sub4 = 0.412, sub24 = 0.313, sub124 = 0.279 (1.860 sec/step)\n",
      "step 216 \t total loss = 0.250, sub4 = 0.262, sub24 = 0.156, sub124 = 0.136 (1.816 sec/step)\n",
      "step 217 \t total loss = 0.324, sub4 = 0.316, sub24 = 0.218, sub124 = 0.177 (1.849 sec/step)\n",
      "step 218 \t total loss = 0.403, sub4 = 0.358, sub24 = 0.251, sub124 = 0.236 (1.815 sec/step)\n",
      "step 219 \t total loss = 0.529, sub4 = 0.467, sub24 = 0.333, sub124 = 0.312 (1.842 sec/step)\n",
      "step 220 \t total loss = 0.269, sub4 = 0.257, sub24 = 0.169, sub124 = 0.151 (1.822 sec/step)\n",
      "step 221 \t total loss = 0.401, sub4 = 0.364, sub24 = 0.245, sub124 = 0.236 (1.878 sec/step)\n",
      "step 222 \t total loss = 0.267, sub4 = 0.252, sub24 = 0.172, sub124 = 0.148 (1.838 sec/step)\n",
      "step 223 \t total loss = 0.362, sub4 = 0.323, sub24 = 0.240, sub124 = 0.205 (1.788 sec/step)\n",
      "step 224 \t total loss = 0.462, sub4 = 0.369, sub24 = 0.296, sub124 = 0.275 (1.863 sec/step)\n",
      "step 225 \t total loss = 0.419, sub4 = 0.339, sub24 = 0.270, sub124 = 0.247 (1.798 sec/step)\n",
      "step 226 \t total loss = 0.256, sub4 = 0.210, sub24 = 0.172, sub124 = 0.145 (1.829 sec/step)\n",
      "step 227 \t total loss = 0.539, sub4 = 0.389, sub24 = 0.344, sub124 = 0.329 (1.849 sec/step)\n",
      "step 228 \t total loss = 0.481, sub4 = 0.499, sub24 = 0.296, sub124 = 0.273 (1.849 sec/step)\n",
      "step 229 \t total loss = 0.289, sub4 = 0.283, sub24 = 0.188, sub124 = 0.159 (1.823 sec/step)\n",
      "step 230 \t total loss = 0.328, sub4 = 0.305, sub24 = 0.211, sub124 = 0.185 (1.801 sec/step)\n",
      "step 231 \t total loss = 0.625, sub4 = 0.506, sub24 = 0.418, sub124 = 0.367 (1.843 sec/step)\n",
      "step 232 \t total loss = 0.411, sub4 = 0.350, sub24 = 0.277, sub124 = 0.235 (1.883 sec/step)\n",
      "step 233 \t total loss = 0.322, sub4 = 0.292, sub24 = 0.215, sub124 = 0.180 (1.836 sec/step)\n",
      "step 234 \t total loss = 0.407, sub4 = 0.389, sub24 = 0.269, sub124 = 0.228 (1.849 sec/step)\n",
      "step 235 \t total loss = 0.272, sub4 = 0.257, sub24 = 0.186, sub124 = 0.147 (1.779 sec/step)\n",
      "step 236 \t total loss = 0.295, sub4 = 0.267, sub24 = 0.186, sub124 = 0.169 (1.823 sec/step)\n",
      "step 237 \t total loss = 0.684, sub4 = 0.523, sub24 = 0.436, sub124 = 0.416 (1.822 sec/step)\n",
      "step 238 \t total loss = 0.276, sub4 = 0.242, sub24 = 0.173, sub124 = 0.159 (1.813 sec/step)\n",
      "step 239 \t total loss = 0.578, sub4 = 0.536, sub24 = 0.362, sub124 = 0.338 (1.883 sec/step)\n",
      "step 240 \t total loss = 0.452, sub4 = 0.418, sub24 = 0.286, sub124 = 0.261 (1.810 sec/step)\n",
      "step 241 \t total loss = 0.421, sub4 = 0.372, sub24 = 0.256, sub124 = 0.250 (1.839 sec/step)\n",
      "step 242 \t total loss = 0.336, sub4 = 0.294, sub24 = 0.219, sub124 = 0.192 (1.862 sec/step)\n",
      "step 243 \t total loss = 0.312, sub4 = 0.256, sub24 = 0.202, sub124 = 0.181 (1.843 sec/step)\n",
      "step 244 \t total loss = 0.307, sub4 = 0.239, sub24 = 0.195, sub124 = 0.182 (1.831 sec/step)\n",
      "step 245 \t total loss = 0.375, sub4 = 0.326, sub24 = 0.234, sub124 = 0.220 (1.874 sec/step)\n",
      "step 246 \t total loss = 0.366, sub4 = 0.329, sub24 = 0.229, sub124 = 0.212 (1.890 sec/step)\n",
      "step 247 \t total loss = 0.393, sub4 = 0.328, sub24 = 0.266, sub124 = 0.225 (1.835 sec/step)\n",
      "step 248 \t total loss = 0.228, sub4 = 0.220, sub24 = 0.146, sub124 = 0.125 (1.828 sec/step)\n",
      "step 249 \t total loss = 0.271, sub4 = 0.258, sub24 = 0.170, sub124 = 0.152 (1.847 sec/step)\n",
      "The checkpoint has been created.\n",
      "step 250 \t total loss = 0.387, sub4 = 0.349, sub24 = 0.247, sub124 = 0.223 (2.725 sec/step)\n",
      "step 251 \t total loss = 0.392, sub4 = 0.354, sub24 = 0.248, sub124 = 0.226 (1.434 sec/step)\n",
      "step 252 \t total loss = 0.363, sub4 = 0.309, sub24 = 0.239, sub124 = 0.208 (1.800 sec/step)\n",
      "step 253 \t total loss = 0.738, sub4 = 0.591, sub24 = 0.499, sub124 = 0.434 (1.823 sec/step)\n",
      "step 254 \t total loss = 0.412, sub4 = 0.400, sub24 = 0.257, sub124 = 0.236 (1.841 sec/step)\n",
      "step 255 \t total loss = 0.383, sub4 = 0.334, sub24 = 0.231, sub124 = 0.228 (1.791 sec/step)\n",
      "step 256 \t total loss = 0.414, sub4 = 0.364, sub24 = 0.254, sub124 = 0.244 (1.863 sec/step)\n",
      "step 257 \t total loss = 0.427, sub4 = 0.393, sub24 = 0.283, sub124 = 0.241 (1.819 sec/step)\n",
      "step 258 \t total loss = 0.261, sub4 = 0.260, sub24 = 0.160, sub124 = 0.146 (1.821 sec/step)\n",
      "step 259 \t total loss = 0.302, sub4 = 0.286, sub24 = 0.199, sub124 = 0.167 (1.851 sec/step)\n"
     ]
    },
    {
     "name": "stdout",
     "output_type": "stream",
     "text": [
      "step 260 \t total loss = 0.394, sub4 = 0.338, sub24 = 0.252, sub124 = 0.229 (1.809 sec/step)\n",
      "step 261 \t total loss = 0.303, sub4 = 0.296, sub24 = 0.198, sub124 = 0.167 (1.820 sec/step)\n",
      "step 262 \t total loss = 0.258, sub4 = 0.218, sub24 = 0.170, sub124 = 0.146 (1.841 sec/step)\n",
      "step 263 \t total loss = 0.347, sub4 = 0.278, sub24 = 0.228, sub124 = 0.202 (1.808 sec/step)\n",
      "step 264 \t total loss = 0.361, sub4 = 0.324, sub24 = 0.244, sub124 = 0.202 (1.848 sec/step)\n",
      "step 265 \t total loss = 0.478, sub4 = 0.402, sub24 = 0.311, sub124 = 0.280 (1.894 sec/step)\n",
      "step 266 \t total loss = 0.492, sub4 = 0.390, sub24 = 0.335, sub124 = 0.286 (1.811 sec/step)\n",
      "step 267 \t total loss = 0.339, sub4 = 0.286, sub24 = 0.227, sub124 = 0.193 (1.846 sec/step)\n",
      "step 268 \t total loss = 0.448, sub4 = 0.403, sub24 = 0.270, sub124 = 0.266 (1.832 sec/step)\n",
      "step 269 \t total loss = 0.428, sub4 = 0.378, sub24 = 0.273, sub124 = 0.249 (1.852 sec/step)\n",
      "step 270 \t total loss = 0.496, sub4 = 0.439, sub24 = 0.328, sub124 = 0.285 (1.802 sec/step)\n",
      "step 271 \t total loss = 0.284, sub4 = 0.261, sub24 = 0.192, sub124 = 0.156 (1.865 sec/step)\n",
      "step 272 \t total loss = 0.377, sub4 = 0.315, sub24 = 0.242, sub124 = 0.220 (1.768 sec/step)\n",
      "step 273 \t total loss = 0.564, sub4 = 0.451, sub24 = 0.375, sub124 = 0.332 (1.870 sec/step)\n",
      "step 274 \t total loss = 0.211, sub4 = 0.210, sub24 = 0.131, sub124 = 0.115 (1.828 sec/step)\n",
      "step 275 \t total loss = 0.349, sub4 = 0.290, sub24 = 0.228, sub124 = 0.202 (1.840 sec/step)\n",
      "step 276 \t total loss = 0.289, sub4 = 0.251, sub24 = 0.182, sub124 = 0.167 (1.889 sec/step)\n",
      "step 277 \t total loss = 0.851, sub4 = 0.733, sub24 = 0.562, sub124 = 0.499 (1.862 sec/step)\n",
      "step 278 \t total loss = 0.377, sub4 = 0.364, sub24 = 0.250, sub124 = 0.210 (1.793 sec/step)\n",
      "step 279 \t total loss = 0.378, sub4 = 0.315, sub24 = 0.240, sub124 = 0.222 (1.875 sec/step)\n",
      "step 280 \t total loss = 0.340, sub4 = 0.278, sub24 = 0.219, sub124 = 0.199 (1.738 sec/step)\n",
      "step 281 \t total loss = 0.243, sub4 = 0.223, sub24 = 0.153, sub124 = 0.136 (1.854 sec/step)\n",
      "step 282 \t total loss = 0.255, sub4 = 0.219, sub24 = 0.174, sub124 = 0.141 (1.842 sec/step)\n",
      "step 283 \t total loss = 0.294, sub4 = 0.282, sub24 = 0.184, sub124 = 0.166 (1.876 sec/step)\n",
      "step 284 \t total loss = 0.307, sub4 = 0.293, sub24 = 0.191, sub124 = 0.174 (1.797 sec/step)\n",
      "step 285 \t total loss = 0.410, sub4 = 0.295, sub24 = 0.286, sub124 = 0.239 (1.832 sec/step)\n",
      "step 286 \t total loss = 0.323, sub4 = 0.317, sub24 = 0.199, sub124 = 0.183 (1.847 sec/step)\n",
      "step 287 \t total loss = 0.440, sub4 = 0.359, sub24 = 0.289, sub124 = 0.257 (1.848 sec/step)\n",
      "step 288 \t total loss = 0.393, sub4 = 0.391, sub24 = 0.257, sub124 = 0.218 (1.845 sec/step)\n",
      "step 289 \t total loss = 0.389, sub4 = 0.365, sub24 = 0.232, sub124 = 0.228 (1.822 sec/step)\n",
      "step 290 \t total loss = 0.340, sub4 = 0.333, sub24 = 0.209, sub124 = 0.193 (1.846 sec/step)\n",
      "step 291 \t total loss = 0.528, sub4 = 0.456, sub24 = 0.343, sub124 = 0.308 (1.797 sec/step)\n",
      "step 292 \t total loss = 0.431, sub4 = 0.396, sub24 = 0.270, sub124 = 0.250 (1.837 sec/step)\n",
      "step 293 \t total loss = 0.344, sub4 = 0.335, sub24 = 0.226, sub124 = 0.190 (1.802 sec/step)\n",
      "step 294 \t total loss = 0.311, sub4 = 0.261, sub24 = 0.204, sub124 = 0.178 (1.851 sec/step)\n",
      "step 295 \t total loss = 0.342, sub4 = 0.316, sub24 = 0.220, sub124 = 0.194 (1.854 sec/step)\n",
      "step 296 \t total loss = 0.274, sub4 = 0.257, sub24 = 0.170, sub124 = 0.155 (1.849 sec/step)\n",
      "step 297 \t total loss = 0.431, sub4 = 0.379, sub24 = 0.294, sub124 = 0.243 (1.822 sec/step)\n",
      "step 298 \t total loss = 0.455, sub4 = 0.450, sub24 = 0.283, sub124 = 0.260 (1.818 sec/step)\n",
      "step 299 \t total loss = 0.509, sub4 = 0.417, sub24 = 0.332, sub124 = 0.300 (1.829 sec/step)\n",
      "The checkpoint has been created.\n",
      "step 300 \t total loss = 0.417, sub4 = 0.385, sub24 = 0.270, sub124 = 0.237 (2.823 sec/step)\n",
      "step 301 \t total loss = 0.372, sub4 = 0.323, sub24 = 0.218, sub124 = 0.224 (1.446 sec/step)\n",
      "step 302 \t total loss = 0.636, sub4 = 0.573, sub24 = 0.404, sub124 = 0.373 (1.751 sec/step)\n",
      "step 303 \t total loss = 0.472, sub4 = 0.375, sub24 = 0.319, sub124 = 0.275 (1.844 sec/step)\n",
      "step 304 \t total loss = 0.405, sub4 = 0.384, sub24 = 0.251, sub124 = 0.233 (1.881 sec/step)\n",
      "step 305 \t total loss = 0.449, sub4 = 0.393, sub24 = 0.298, sub124 = 0.257 (1.793 sec/step)\n",
      "step 306 \t total loss = 0.399, sub4 = 0.324, sub24 = 0.269, sub124 = 0.230 (1.851 sec/step)\n",
      "step 307 \t total loss = 0.472, sub4 = 0.405, sub24 = 0.317, sub124 = 0.270 (1.842 sec/step)\n",
      "step 308 \t total loss = 0.332, sub4 = 0.322, sub24 = 0.202, sub124 = 0.190 (1.813 sec/step)\n",
      "step 309 \t total loss = 0.484, sub4 = 0.414, sub24 = 0.309, sub124 = 0.285 (1.894 sec/step)\n",
      "step 310 \t total loss = 0.396, sub4 = 0.343, sub24 = 0.264, sub124 = 0.226 (1.837 sec/step)\n",
      "step 311 \t total loss = 0.418, sub4 = 0.433, sub24 = 0.261, sub124 = 0.235 (1.830 sec/step)\n",
      "step 312 \t total loss = 0.308, sub4 = 0.278, sub24 = 0.199, sub124 = 0.174 (1.789 sec/step)\n",
      "step 313 \t total loss = 0.450, sub4 = 0.402, sub24 = 0.294, sub124 = 0.258 (1.862 sec/step)\n",
      "step 314 \t total loss = 0.321, sub4 = 0.289, sub24 = 0.203, sub124 = 0.184 (1.817 sec/step)\n",
      "step 315 \t total loss = 0.302, sub4 = 0.268, sub24 = 0.191, sub124 = 0.173 (1.861 sec/step)\n",
      "step 316 \t total loss = 0.353, sub4 = 0.321, sub24 = 0.243, sub124 = 0.195 (1.820 sec/step)\n",
      "step 317 \t total loss = 0.483, sub4 = 0.493, sub24 = 0.294, sub124 = 0.277 (1.877 sec/step)\n",
      "step 318 \t total loss = 0.331, sub4 = 0.289, sub24 = 0.209, sub124 = 0.192 (1.829 sec/step)\n",
      "step 319 \t total loss = 0.404, sub4 = 0.344, sub24 = 0.281, sub124 = 0.227 (1.848 sec/step)\n",
      "step 320 \t total loss = 0.422, sub4 = 0.414, sub24 = 0.277, sub124 = 0.236 (1.828 sec/step)\n",
      "step 321 \t total loss = 0.305, sub4 = 0.269, sub24 = 0.188, sub124 = 0.177 (1.836 sec/step)\n",
      "step 322 \t total loss = 0.311, sub4 = 0.262, sub24 = 0.196, sub124 = 0.181 (1.893 sec/step)\n",
      "step 323 \t total loss = 0.380, sub4 = 0.344, sub24 = 0.238, sub124 = 0.220 (1.896 sec/step)\n",
      "step 324 \t total loss = 0.346, sub4 = 0.323, sub24 = 0.213, sub124 = 0.199 (1.825 sec/step)\n",
      "step 325 \t total loss = 0.291, sub4 = 0.229, sub24 = 0.184, sub124 = 0.171 (1.835 sec/step)\n",
      "step 326 \t total loss = 0.521, sub4 = 0.542, sub24 = 0.336, sub124 = 0.291 (1.835 sec/step)\n",
      "step 327 \t total loss = 0.337, sub4 = 0.300, sub24 = 0.217, sub124 = 0.193 (1.845 sec/step)\n",
      "step 328 \t total loss = 0.338, sub4 = 0.284, sub24 = 0.217, sub124 = 0.196 (1.865 sec/step)\n",
      "step 329 \t total loss = 0.312, sub4 = 0.244, sub24 = 0.209, sub124 = 0.180 (1.837 sec/step)\n",
      "step 330 \t total loss = 0.303, sub4 = 0.281, sub24 = 0.210, sub124 = 0.165 (1.814 sec/step)\n",
      "step 331 \t total loss = 0.370, sub4 = 0.314, sub24 = 0.226, sub124 = 0.220 (1.821 sec/step)\n",
      "step 332 \t total loss = 0.425, sub4 = 0.327, sub24 = 0.268, sub124 = 0.255 (1.875 sec/step)\n",
      "step 333 \t total loss = 0.304, sub4 = 0.298, sub24 = 0.193, sub124 = 0.170 (1.812 sec/step)\n",
      "step 334 \t total loss = 0.289, sub4 = 0.244, sub24 = 0.189, sub124 = 0.165 (1.876 sec/step)\n",
      "step 335 \t total loss = 0.407, sub4 = 0.357, sub24 = 0.251, sub124 = 0.240 (1.819 sec/step)\n",
      "step 336 \t total loss = 0.475, sub4 = 0.411, sub24 = 0.340, sub124 = 0.263 (1.856 sec/step)\n",
      "step 337 \t total loss = 0.407, sub4 = 0.406, sub24 = 0.255, sub124 = 0.231 (1.880 sec/step)\n",
      "step 338 \t total loss = 0.390, sub4 = 0.320, sub24 = 0.248, sub124 = 0.230 (1.800 sec/step)\n",
      "step 339 \t total loss = 0.353, sub4 = 0.297, sub24 = 0.211, sub124 = 0.211 (1.897 sec/step)\n",
      "step 340 \t total loss = 0.597, sub4 = 0.519, sub24 = 0.407, sub124 = 0.342 (1.852 sec/step)\n",
      "step 341 \t total loss = 0.355, sub4 = 0.317, sub24 = 0.226, sub124 = 0.204 (1.836 sec/step)\n",
      "step 342 \t total loss = 0.381, sub4 = 0.324, sub24 = 0.253, sub124 = 0.219 (1.840 sec/step)\n",
      "step 343 \t total loss = 0.381, sub4 = 0.311, sub24 = 0.244, sub124 = 0.225 (1.803 sec/step)\n",
      "step 344 \t total loss = 0.364, sub4 = 0.292, sub24 = 0.243, sub124 = 0.211 (1.868 sec/step)\n",
      "step 345 \t total loss = 0.334, sub4 = 0.291, sub24 = 0.222, sub124 = 0.190 (1.822 sec/step)\n",
      "step 346 \t total loss = 0.325, sub4 = 0.287, sub24 = 0.202, sub124 = 0.189 (1.840 sec/step)\n",
      "step 347 \t total loss = 0.348, sub4 = 0.312, sub24 = 0.229, sub124 = 0.197 (1.871 sec/step)\n",
      "step 348 \t total loss = 0.501, sub4 = 0.446, sub24 = 0.299, sub124 = 0.300 (1.827 sec/step)\n",
      "step 349 \t total loss = 0.250, sub4 = 0.245, sub24 = 0.150, sub124 = 0.141 (1.830 sec/step)\n",
      "The checkpoint has been created.\n",
      "step 350 \t total loss = 0.604, sub4 = 0.576, sub24 = 0.382, sub124 = 0.349 (2.804 sec/step)\n",
      "step 351 \t total loss = 0.319, sub4 = 0.280, sub24 = 0.193, sub124 = 0.188 (1.445 sec/step)\n"
     ]
    },
    {
     "name": "stdout",
     "output_type": "stream",
     "text": [
      "step 352 \t total loss = 0.303, sub4 = 0.268, sub24 = 0.203, sub124 = 0.170 (1.815 sec/step)\n",
      "step 353 \t total loss = 0.442, sub4 = 0.383, sub24 = 0.285, sub124 = 0.258 (1.861 sec/step)\n",
      "step 354 \t total loss = 0.395, sub4 = 0.352, sub24 = 0.250, sub124 = 0.229 (1.874 sec/step)\n",
      "step 355 \t total loss = 0.344, sub4 = 0.308, sub24 = 0.217, sub124 = 0.198 (1.816 sec/step)\n",
      "step 356 \t total loss = 0.294, sub4 = 0.276, sub24 = 0.180, sub124 = 0.168 (1.842 sec/step)\n",
      "step 357 \t total loss = 0.285, sub4 = 0.255, sub24 = 0.180, sub124 = 0.162 (1.870 sec/step)\n",
      "step 358 \t total loss = 0.375, sub4 = 0.342, sub24 = 0.243, sub124 = 0.213 (1.842 sec/step)\n",
      "step 359 \t total loss = 0.365, sub4 = 0.328, sub24 = 0.240, sub124 = 0.207 (1.843 sec/step)\n",
      "step 360 \t total loss = 0.478, sub4 = 0.485, sub24 = 0.305, sub124 = 0.269 (1.856 sec/step)\n",
      "step 361 \t total loss = 0.282, sub4 = 0.245, sub24 = 0.189, sub124 = 0.158 (2.090 sec/step)\n",
      "step 362 \t total loss = 0.313, sub4 = 0.278, sub24 = 0.206, sub124 = 0.176 (1.857 sec/step)\n",
      "step 363 \t total loss = 0.792, sub4 = 0.729, sub24 = 0.512, sub124 = 0.461 (1.881 sec/step)\n",
      "step 364 \t total loss = 0.393, sub4 = 0.330, sub24 = 0.260, sub124 = 0.226 (1.814 sec/step)\n",
      "step 365 \t total loss = 0.413, sub4 = 0.353, sub24 = 0.258, sub124 = 0.244 (1.851 sec/step)\n",
      "step 366 \t total loss = 0.393, sub4 = 0.331, sub24 = 0.263, sub124 = 0.226 (1.859 sec/step)\n",
      "step 367 \t total loss = 0.247, sub4 = 0.234, sub24 = 0.152, sub124 = 0.139 (1.845 sec/step)\n",
      "step 368 \t total loss = 0.341, sub4 = 0.306, sub24 = 0.221, sub124 = 0.194 (1.855 sec/step)\n",
      "step 369 \t total loss = 0.399, sub4 = 0.367, sub24 = 0.266, sub124 = 0.224 (1.812 sec/step)\n",
      "step 370 \t total loss = 0.274, sub4 = 0.239, sub24 = 0.170, sub124 = 0.158 (1.835 sec/step)\n",
      "step 371 \t total loss = 0.254, sub4 = 0.201, sub24 = 0.168, sub124 = 0.145 (1.822 sec/step)\n",
      "step 372 \t total loss = 0.320, sub4 = 0.286, sub24 = 0.202, sub124 = 0.184 (1.894 sec/step)\n",
      "step 373 \t total loss = 0.418, sub4 = 0.354, sub24 = 0.282, sub124 = 0.240 (1.820 sec/step)\n",
      "step 374 \t total loss = 0.360, sub4 = 0.322, sub24 = 0.237, sub124 = 0.204 (1.866 sec/step)\n",
      "step 375 \t total loss = 0.336, sub4 = 0.335, sub24 = 0.214, sub124 = 0.187 (1.834 sec/step)\n",
      "step 376 \t total loss = 0.309, sub4 = 0.260, sub24 = 0.203, sub124 = 0.177 (1.795 sec/step)\n",
      "step 377 \t total loss = 0.285, sub4 = 0.258, sub24 = 0.187, sub124 = 0.159 (1.873 sec/step)\n",
      "step 378 \t total loss = 0.446, sub4 = 0.397, sub24 = 0.304, sub124 = 0.251 (1.852 sec/step)\n",
      "step 379 \t total loss = 0.427, sub4 = 0.381, sub24 = 0.284, sub124 = 0.243 (1.868 sec/step)\n",
      "step 380 \t total loss = 0.445, sub4 = 0.395, sub24 = 0.274, sub124 = 0.263 (1.801 sec/step)\n",
      "step 381 \t total loss = 0.465, sub4 = 0.439, sub24 = 0.281, sub124 = 0.273 (1.879 sec/step)\n",
      "step 382 \t total loss = 0.396, sub4 = 0.388, sub24 = 0.239, sub124 = 0.229 (1.817 sec/step)\n",
      "step 383 \t total loss = 0.274, sub4 = 0.233, sub24 = 0.169, sub124 = 0.160 (1.853 sec/step)\n",
      "step 384 \t total loss = 0.357, sub4 = 0.308, sub24 = 0.237, sub124 = 0.203 (1.924 sec/step)\n",
      "step 385 \t total loss = 0.435, sub4 = 0.385, sub24 = 0.302, sub124 = 0.243 (1.799 sec/step)\n",
      "step 386 \t total loss = 0.316, sub4 = 0.268, sub24 = 0.202, sub124 = 0.182 (1.870 sec/step)\n",
      "step 387 \t total loss = 0.254, sub4 = 0.214, sub24 = 0.161, sub124 = 0.146 (1.806 sec/step)\n",
      "step 388 \t total loss = 0.390, sub4 = 0.355, sub24 = 0.250, sub124 = 0.224 (1.832 sec/step)\n",
      "step 389 \t total loss = 0.417, sub4 = 0.349, sub24 = 0.272, sub124 = 0.243 (1.910 sec/step)\n",
      "step 390 \t total loss = 0.323, sub4 = 0.293, sub24 = 0.209, sub124 = 0.183 (1.833 sec/step)\n",
      "step 391 \t total loss = 0.417, sub4 = 0.370, sub24 = 0.249, sub124 = 0.248 (1.855 sec/step)\n",
      "step 392 \t total loss = 0.334, sub4 = 0.278, sub24 = 0.214, sub124 = 0.194 (1.822 sec/step)\n",
      "step 393 \t total loss = 0.224, sub4 = 0.229, sub24 = 0.140, sub124 = 0.122 (1.868 sec/step)\n",
      "step 394 \t total loss = 0.413, sub4 = 0.371, sub24 = 0.256, sub124 = 0.242 (1.821 sec/step)\n",
      "step 395 \t total loss = 0.548, sub4 = 0.501, sub24 = 0.346, sub124 = 0.320 (1.850 sec/step)\n",
      "step 396 \t total loss = 0.386, sub4 = 0.338, sub24 = 0.239, sub124 = 0.226 (1.886 sec/step)\n",
      "step 397 \t total loss = 0.428, sub4 = 0.350, sub24 = 0.270, sub124 = 0.255 (1.827 sec/step)\n",
      "step 398 \t total loss = 0.309, sub4 = 0.257, sub24 = 0.184, sub124 = 0.185 (1.826 sec/step)\n",
      "step 399 \t total loss = 0.332, sub4 = 0.313, sub24 = 0.197, sub124 = 0.193 (1.854 sec/step)\n",
      "The checkpoint has been created.\n",
      "step 400 \t total loss = 0.349, sub4 = 0.305, sub24 = 0.228, sub124 = 0.199 (2.835 sec/step)\n",
      "step 401 \t total loss = 0.339, sub4 = 0.300, sub24 = 0.213, sub124 = 0.197 (1.409 sec/step)\n",
      "step 402 \t total loss = 0.297, sub4 = 0.271, sub24 = 0.186, sub124 = 0.170 (1.725 sec/step)\n",
      "step 403 \t total loss = 0.293, sub4 = 0.292, sub24 = 0.187, sub124 = 0.162 (1.828 sec/step)\n",
      "step 404 \t total loss = 0.325, sub4 = 0.340, sub24 = 0.189, sub124 = 0.185 (1.865 sec/step)\n",
      "step 405 \t total loss = 0.320, sub4 = 0.272, sub24 = 0.208, sub124 = 0.183 (1.801 sec/step)\n",
      "step 406 \t total loss = 0.521, sub4 = 0.448, sub24 = 0.326, sub124 = 0.309 (1.897 sec/step)\n",
      "step 407 \t total loss = 0.384, sub4 = 0.381, sub24 = 0.228, sub124 = 0.222 (1.840 sec/step)\n",
      "step 408 \t total loss = 0.438, sub4 = 0.370, sub24 = 0.262, sub124 = 0.264 (1.856 sec/step)\n",
      "step 409 \t total loss = 0.286, sub4 = 0.272, sub24 = 0.182, sub124 = 0.160 (1.834 sec/step)\n",
      "step 410 \t total loss = 0.356, sub4 = 0.321, sub24 = 0.214, sub124 = 0.210 (1.924 sec/step)\n",
      "step 411 \t total loss = 0.347, sub4 = 0.293, sub24 = 0.223, sub124 = 0.201 (1.816 sec/step)\n",
      "step 412 \t total loss = 0.322, sub4 = 0.285, sub24 = 0.207, sub124 = 0.184 (1.854 sec/step)\n",
      "step 413 \t total loss = 0.279, sub4 = 0.229, sub24 = 0.180, sub124 = 0.161 (1.858 sec/step)\n",
      "step 414 \t total loss = 0.392, sub4 = 0.363, sub24 = 0.239, sub124 = 0.228 (1.858 sec/step)\n",
      "step 415 \t total loss = 0.312, sub4 = 0.281, sub24 = 0.201, sub124 = 0.177 (1.842 sec/step)\n",
      "step 416 \t total loss = 0.565, sub4 = 0.467, sub24 = 0.342, sub124 = 0.344 (1.811 sec/step)\n",
      "step 417 \t total loss = 0.548, sub4 = 0.507, sub24 = 0.348, sub124 = 0.318 (1.879 sec/step)\n",
      "step 418 \t total loss = 0.492, sub4 = 0.404, sub24 = 0.309, sub124 = 0.294 (1.846 sec/step)\n",
      "step 419 \t total loss = 0.349, sub4 = 0.303, sub24 = 0.219, sub124 = 0.203 (1.886 sec/step)\n",
      "step 420 \t total loss = 0.375, sub4 = 0.300, sub24 = 0.238, sub124 = 0.222 (1.838 sec/step)\n",
      "step 421 \t total loss = 0.249, sub4 = 0.242, sub24 = 0.151, sub124 = 0.140 (1.812 sec/step)\n",
      "step 422 \t total loss = 0.373, sub4 = 0.348, sub24 = 0.229, sub124 = 0.217 (1.868 sec/step)\n",
      "step 423 \t total loss = 0.474, sub4 = 0.383, sub24 = 0.313, sub124 = 0.278 (1.831 sec/step)\n",
      "step 424 \t total loss = 0.343, sub4 = 0.268, sub24 = 0.222, sub124 = 0.201 (1.909 sec/step)\n",
      "step 425 \t total loss = 0.362, sub4 = 0.292, sub24 = 0.240, sub124 = 0.210 (1.859 sec/step)\n",
      "step 426 \t total loss = 0.271, sub4 = 0.250, sub24 = 0.172, sub124 = 0.153 (1.786 sec/step)\n",
      "step 427 \t total loss = 0.282, sub4 = 0.268, sub24 = 0.173, sub124 = 0.161 (1.867 sec/step)\n",
      "step 428 \t total loss = 0.392, sub4 = 0.375, sub24 = 0.243, sub124 = 0.225 (1.852 sec/step)\n",
      "step 429 \t total loss = 0.386, sub4 = 0.332, sub24 = 0.256, sub124 = 0.221 (1.872 sec/step)\n",
      "step 430 \t total loss = 0.311, sub4 = 0.267, sub24 = 0.202, sub124 = 0.179 (1.826 sec/step)\n",
      "step 431 \t total loss = 0.361, sub4 = 0.352, sub24 = 0.227, sub124 = 0.204 (1.852 sec/step)\n",
      "step 432 \t total loss = 0.374, sub4 = 0.342, sub24 = 0.236, sub124 = 0.216 (1.911 sec/step)\n",
      "step 433 \t total loss = 0.280, sub4 = 0.251, sub24 = 0.178, sub124 = 0.159 (1.801 sec/step)\n",
      "step 434 \t total loss = 0.321, sub4 = 0.309, sub24 = 0.213, sub124 = 0.177 (1.843 sec/step)\n",
      "step 435 \t total loss = 0.407, sub4 = 0.341, sub24 = 0.274, sub124 = 0.233 (1.853 sec/step)\n",
      "step 436 \t total loss = 0.344, sub4 = 0.302, sub24 = 0.227, sub124 = 0.195 (1.857 sec/step)\n",
      "step 437 \t total loss = 0.352, sub4 = 0.299, sub24 = 0.229, sub124 = 0.203 (1.907 sec/step)\n",
      "step 438 \t total loss = 0.335, sub4 = 0.320, sub24 = 0.218, sub124 = 0.187 (1.819 sec/step)\n",
      "step 439 \t total loss = 0.314, sub4 = 0.289, sub24 = 0.197, sub124 = 0.179 (1.872 sec/step)\n",
      "step 440 \t total loss = 0.419, sub4 = 0.341, sub24 = 0.292, sub124 = 0.238 (1.880 sec/step)\n",
      "step 441 \t total loss = 0.245, sub4 = 0.231, sub24 = 0.162, sub124 = 0.134 (1.799 sec/step)\n",
      "step 442 \t total loss = 0.338, sub4 = 0.325, sub24 = 0.216, sub124 = 0.191 (1.840 sec/step)\n"
     ]
    },
    {
     "name": "stdout",
     "output_type": "stream",
     "text": [
      "step 443 \t total loss = 0.320, sub4 = 0.292, sub24 = 0.200, sub124 = 0.184 (1.875 sec/step)\n",
      "step 444 \t total loss = 0.330, sub4 = 0.269, sub24 = 0.215, sub124 = 0.192 (1.902 sec/step)\n",
      "step 445 \t total loss = 0.280, sub4 = 0.231, sub24 = 0.179, sub124 = 0.162 (1.789 sec/step)\n",
      "step 446 \t total loss = 0.395, sub4 = 0.326, sub24 = 0.250, sub124 = 0.233 (1.882 sec/step)\n",
      "step 447 \t total loss = 0.441, sub4 = 0.370, sub24 = 0.267, sub124 = 0.266 (1.885 sec/step)\n",
      "step 448 \t total loss = 0.504, sub4 = 0.452, sub24 = 0.337, sub124 = 0.287 (1.870 sec/step)\n",
      "step 449 \t total loss = 0.310, sub4 = 0.272, sub24 = 0.201, sub124 = 0.176 (1.860 sec/step)\n",
      "The checkpoint has been created.\n",
      "step 450 \t total loss = 0.285, sub4 = 0.301, sub24 = 0.187, sub124 = 0.152 (2.822 sec/step)\n",
      "step 451 \t total loss = 0.295, sub4 = 0.277, sub24 = 0.189, sub124 = 0.166 (1.446 sec/step)\n",
      "step 452 \t total loss = 0.256, sub4 = 0.244, sub24 = 0.161, sub124 = 0.143 (1.864 sec/step)\n",
      "step 453 \t total loss = 0.356, sub4 = 0.331, sub24 = 0.240, sub124 = 0.198 (1.851 sec/step)\n",
      "step 454 \t total loss = 0.446, sub4 = 0.375, sub24 = 0.283, sub124 = 0.263 (1.849 sec/step)\n",
      "step 455 \t total loss = 0.273, sub4 = 0.271, sub24 = 0.182, sub124 = 0.148 (1.877 sec/step)\n",
      "step 456 \t total loss = 0.389, sub4 = 0.376, sub24 = 0.245, sub124 = 0.221 (1.835 sec/step)\n",
      "step 457 \t total loss = 0.373, sub4 = 0.368, sub24 = 0.235, sub124 = 0.211 (1.844 sec/step)\n",
      "step 458 \t total loss = 0.337, sub4 = 0.273, sub24 = 0.215, sub124 = 0.198 (1.899 sec/step)\n",
      "step 459 \t total loss = 0.606, sub4 = 0.558, sub24 = 0.382, sub124 = 0.354 (1.799 sec/step)\n",
      "step 460 \t total loss = 0.431, sub4 = 0.340, sub24 = 0.272, sub124 = 0.258 (1.859 sec/step)\n",
      "step 461 \t total loss = 0.465, sub4 = 0.379, sub24 = 0.303, sub124 = 0.273 (1.799 sec/step)\n",
      "step 462 \t total loss = 0.397, sub4 = 0.318, sub24 = 0.266, sub124 = 0.230 (1.839 sec/step)\n",
      "step 463 \t total loss = 0.472, sub4 = 0.399, sub24 = 0.313, sub124 = 0.274 (1.840 sec/step)\n",
      "step 464 \t total loss = 0.354, sub4 = 0.299, sub24 = 0.234, sub124 = 0.203 (1.888 sec/step)\n",
      "step 465 \t total loss = 0.363, sub4 = 0.365, sub24 = 0.226, sub124 = 0.205 (1.799 sec/step)\n",
      "step 466 \t total loss = 0.479, sub4 = 0.418, sub24 = 0.314, sub124 = 0.277 (1.846 sec/step)\n",
      "step 467 \t total loss = 0.442, sub4 = 0.386, sub24 = 0.292, sub124 = 0.254 (1.875 sec/step)\n",
      "step 468 \t total loss = 0.363, sub4 = 0.327, sub24 = 0.227, sub124 = 0.211 (1.894 sec/step)\n",
      "step 469 \t total loss = 0.429, sub4 = 0.412, sub24 = 0.273, sub124 = 0.244 (1.862 sec/step)\n",
      "step 470 \t total loss = 0.377, sub4 = 0.353, sub24 = 0.247, sub124 = 0.212 (1.797 sec/step)\n",
      "step 471 \t total loss = 0.418, sub4 = 0.310, sub24 = 0.277, sub124 = 0.248 (1.877 sec/step)\n",
      "step 472 \t total loss = 0.612, sub4 = 0.479, sub24 = 0.375, sub124 = 0.376 (1.845 sec/step)\n",
      "step 473 \t total loss = 0.366, sub4 = 0.309, sub24 = 0.232, sub124 = 0.214 (1.852 sec/step)\n",
      "step 474 \t total loss = 0.359, sub4 = 0.329, sub24 = 0.242, sub124 = 0.200 (1.861 sec/step)\n",
      "step 475 \t total loss = 0.355, sub4 = 0.340, sub24 = 0.222, sub124 = 0.202 (1.878 sec/step)\n",
      "step 476 \t total loss = 0.403, sub4 = 0.331, sub24 = 0.267, sub124 = 0.234 (1.841 sec/step)\n",
      "step 477 \t total loss = 0.330, sub4 = 0.285, sub24 = 0.217, sub124 = 0.188 (1.880 sec/step)\n",
      "step 478 \t total loss = 0.402, sub4 = 0.341, sub24 = 0.238, sub124 = 0.242 (1.855 sec/step)\n",
      "step 479 \t total loss = 0.406, sub4 = 0.381, sub24 = 0.255, sub124 = 0.234 (1.854 sec/step)\n",
      "step 480 \t total loss = 0.274, sub4 = 0.285, sub24 = 0.175, sub124 = 0.149 (1.876 sec/step)\n",
      "step 481 \t total loss = 0.375, sub4 = 0.308, sub24 = 0.246, sub124 = 0.218 (1.860 sec/step)\n",
      "step 482 \t total loss = 0.524, sub4 = 0.483, sub24 = 0.338, sub124 = 0.302 (1.894 sec/step)\n",
      "step 483 \t total loss = 0.284, sub4 = 0.260, sub24 = 0.185, sub124 = 0.159 (1.857 sec/step)\n",
      "step 484 \t total loss = 0.275, sub4 = 0.261, sub24 = 0.172, sub124 = 0.154 (1.833 sec/step)\n",
      "step 485 \t total loss = 0.321, sub4 = 0.270, sub24 = 0.216, sub124 = 0.182 (1.856 sec/step)\n",
      "step 486 \t total loss = 0.282, sub4 = 0.269, sub24 = 0.183, sub124 = 0.156 (1.878 sec/step)\n",
      "step 487 \t total loss = 0.369, sub4 = 0.327, sub24 = 0.250, sub124 = 0.207 (1.841 sec/step)\n",
      "step 488 \t total loss = 0.348, sub4 = 0.277, sub24 = 0.235, sub124 = 0.200 (1.884 sec/step)\n",
      "step 489 \t total loss = 0.382, sub4 = 0.342, sub24 = 0.256, sub124 = 0.215 (1.782 sec/step)\n",
      "step 490 \t total loss = 0.280, sub4 = 0.268, sub24 = 0.173, sub124 = 0.158 (1.840 sec/step)\n",
      "step 491 \t total loss = 0.303, sub4 = 0.291, sub24 = 0.195, sub124 = 0.169 (1.844 sec/step)\n",
      "step 492 \t total loss = 0.654, sub4 = 0.615, sub24 = 0.423, sub124 = 0.377 (1.826 sec/step)\n",
      "step 493 \t total loss = 0.320, sub4 = 0.295, sub24 = 0.216, sub124 = 0.176 (1.814 sec/step)\n",
      "step 494 \t total loss = 0.438, sub4 = 0.329, sub24 = 0.280, sub124 = 0.264 (1.808 sec/step)\n",
      "step 495 \t total loss = 0.498, sub4 = 0.433, sub24 = 0.320, sub124 = 0.291 (1.863 sec/step)\n",
      "step 496 \t total loss = 0.288, sub4 = 0.239, sub24 = 0.195, sub124 = 0.162 (1.764 sec/step)\n",
      "step 497 \t total loss = 0.348, sub4 = 0.309, sub24 = 0.218, sub124 = 0.202 (1.848 sec/step)\n",
      "step 498 \t total loss = 0.563, sub4 = 0.539, sub24 = 0.368, sub124 = 0.320 (1.776 sec/step)\n",
      "step 499 \t total loss = 0.408, sub4 = 0.362, sub24 = 0.266, sub124 = 0.234 (1.795 sec/step)\n",
      "The checkpoint has been created.\n",
      "step 500 \t total loss = 0.465, sub4 = 0.395, sub24 = 0.289, sub124 = 0.276 (2.859 sec/step)\n",
      "step 501 \t total loss = 0.196, sub4 = 0.210, sub24 = 0.117, sub124 = 0.106 (1.428 sec/step)\n",
      "step 502 \t total loss = 0.491, sub4 = 0.430, sub24 = 0.325, sub124 = 0.283 (1.697 sec/step)\n",
      "step 503 \t total loss = 0.368, sub4 = 0.326, sub24 = 0.239, sub124 = 0.211 (1.858 sec/step)\n",
      "step 504 \t total loss = 0.404, sub4 = 0.348, sub24 = 0.269, sub124 = 0.231 (1.786 sec/step)\n",
      "step 505 \t total loss = 0.328, sub4 = 0.302, sub24 = 0.210, sub124 = 0.186 (1.894 sec/step)\n",
      "step 506 \t total loss = 0.379, sub4 = 0.371, sub24 = 0.249, sub124 = 0.210 (1.854 sec/step)\n",
      "step 507 \t total loss = 0.397, sub4 = 0.360, sub24 = 0.261, sub124 = 0.225 (1.802 sec/step)\n",
      "step 508 \t total loss = 0.858, sub4 = 0.746, sub24 = 0.541, sub124 = 0.513 (1.816 sec/step)\n",
      "step 509 \t total loss = 0.381, sub4 = 0.356, sub24 = 0.235, sub124 = 0.221 (1.853 sec/step)\n",
      "step 510 \t total loss = 0.524, sub4 = 0.446, sub24 = 0.329, sub124 = 0.311 (1.764 sec/step)\n",
      "step 511 \t total loss = 0.881, sub4 = 0.786, sub24 = 0.590, sub124 = 0.509 (1.832 sec/step)\n",
      "step 512 \t total loss = 0.352, sub4 = 0.310, sub24 = 0.217, sub124 = 0.206 (1.781 sec/step)\n",
      "step 513 \t total loss = 0.272, sub4 = 0.259, sub24 = 0.166, sub124 = 0.154 (1.844 sec/step)\n",
      "step 514 \t total loss = 0.534, sub4 = 0.427, sub24 = 0.354, sub124 = 0.314 (1.765 sec/step)\n",
      "step 515 \t total loss = 0.482, sub4 = 0.398, sub24 = 0.305, sub124 = 0.286 (1.834 sec/step)\n",
      "step 516 \t total loss = 0.386, sub4 = 0.297, sub24 = 0.251, sub124 = 0.229 (1.837 sec/step)\n",
      "step 517 \t total loss = 0.327, sub4 = 0.295, sub24 = 0.214, sub124 = 0.185 (1.790 sec/step)\n",
      "step 518 \t total loss = 0.293, sub4 = 0.283, sub24 = 0.186, sub124 = 0.163 (1.794 sec/step)\n",
      "step 519 \t total loss = 0.419, sub4 = 0.328, sub24 = 0.281, sub124 = 0.245 (1.851 sec/step)\n",
      "step 520 \t total loss = 0.309, sub4 = 0.309, sub24 = 0.195, sub124 = 0.172 (1.802 sec/step)\n",
      "step 521 \t total loss = 0.364, sub4 = 0.308, sub24 = 0.226, sub124 = 0.215 (1.803 sec/step)\n",
      "step 522 \t total loss = 0.251, sub4 = 0.228, sub24 = 0.153, sub124 = 0.144 (1.820 sec/step)\n",
      "step 523 \t total loss = 0.452, sub4 = 0.393, sub24 = 0.304, sub124 = 0.258 (1.873 sec/step)\n",
      "step 524 \t total loss = 0.389, sub4 = 0.355, sub24 = 0.251, sub124 = 0.222 (1.763 sec/step)\n",
      "step 525 \t total loss = 0.367, sub4 = 0.359, sub24 = 0.226, sub124 = 0.210 (1.793 sec/step)\n",
      "step 526 \t total loss = 0.303, sub4 = 0.309, sub24 = 0.191, sub124 = 0.168 (1.802 sec/step)\n",
      "step 527 \t total loss = 0.721, sub4 = 0.630, sub24 = 0.488, sub124 = 0.416 (1.836 sec/step)\n",
      "step 528 \t total loss = 0.530, sub4 = 0.533, sub24 = 0.313, sub124 = 0.310 (1.789 sec/step)\n",
      "step 529 \t total loss = 0.262, sub4 = 0.238, sub24 = 0.165, sub124 = 0.148 (1.865 sec/step)\n",
      "step 530 \t total loss = 0.428, sub4 = 0.357, sub24 = 0.286, sub124 = 0.247 (1.789 sec/step)\n",
      "step 531 \t total loss = 0.325, sub4 = 0.292, sub24 = 0.207, sub124 = 0.186 (1.892 sec/step)\n",
      "step 532 \t total loss = 0.292, sub4 = 0.283, sub24 = 0.177, sub124 = 0.166 (1.829 sec/step)\n"
     ]
    },
    {
     "name": "stdout",
     "output_type": "stream",
     "text": [
      "step 533 \t total loss = 0.297, sub4 = 0.257, sub24 = 0.189, sub124 = 0.171 (1.785 sec/step)\n",
      "step 534 \t total loss = 0.418, sub4 = 0.353, sub24 = 0.268, sub124 = 0.245 (1.803 sec/step)\n",
      "step 535 \t total loss = 0.336, sub4 = 0.288, sub24 = 0.212, sub124 = 0.196 (1.826 sec/step)\n",
      "step 536 \t total loss = 0.288, sub4 = 0.280, sub24 = 0.175, sub124 = 0.164 (1.815 sec/step)\n",
      "step 537 \t total loss = 0.328, sub4 = 0.311, sub24 = 0.191, sub124 = 0.193 (1.805 sec/step)\n",
      "step 538 \t total loss = 0.315, sub4 = 0.313, sub24 = 0.196, sub124 = 0.177 (1.845 sec/step)\n",
      "step 539 \t total loss = 0.493, sub4 = 0.426, sub24 = 0.314, sub124 = 0.290 (1.816 sec/step)\n",
      "step 540 \t total loss = 0.447, sub4 = 0.385, sub24 = 0.283, sub124 = 0.262 (1.840 sec/step)\n",
      "step 541 \t total loss = 0.351, sub4 = 0.320, sub24 = 0.242, sub124 = 0.194 (1.821 sec/step)\n",
      "step 542 \t total loss = 0.496, sub4 = 0.421, sub24 = 0.317, sub124 = 0.292 (1.775 sec/step)\n",
      "step 543 \t total loss = 0.534, sub4 = 0.466, sub24 = 0.349, sub124 = 0.311 (1.837 sec/step)\n",
      "step 544 \t total loss = 0.422, sub4 = 0.333, sub24 = 0.276, sub124 = 0.249 (1.809 sec/step)\n",
      "step 545 \t total loss = 0.317, sub4 = 0.269, sub24 = 0.200, sub124 = 0.184 (1.827 sec/step)\n",
      "step 546 \t total loss = 0.361, sub4 = 0.351, sub24 = 0.233, sub124 = 0.202 (1.812 sec/step)\n",
      "step 547 \t total loss = 0.512, sub4 = 0.436, sub24 = 0.311, sub124 = 0.309 (1.821 sec/step)\n",
      "step 548 \t total loss = 0.392, sub4 = 0.324, sub24 = 0.257, sub124 = 0.227 (1.811 sec/step)\n",
      "step 549 \t total loss = 0.343, sub4 = 0.298, sub24 = 0.208, sub124 = 0.202 (1.855 sec/step)\n",
      "The checkpoint has been created.\n",
      "step 550 \t total loss = 0.283, sub4 = 0.240, sub24 = 0.170, sub124 = 0.167 (2.822 sec/step)\n",
      "step 551 \t total loss = 0.366, sub4 = 0.347, sub24 = 0.249, sub124 = 0.202 (1.427 sec/step)\n",
      "step 552 \t total loss = 0.341, sub4 = 0.314, sub24 = 0.214, sub124 = 0.195 (1.713 sec/step)\n",
      "^C\n",
      "Copying file://snapshots/model.ckpt-0.index [Content-Type=application/octet-stream]...\n",
      "Copying file://snapshots/model.ckpt-100.data-00000-of-00001 [Content-Type=application/octet-stream]...\n",
      "Copying file://snapshots/model.ckpt-100.meta [Content-Type=application/octet-stream]...\n",
      "Copying file://snapshots/model.ckpt-0.data-00000-of-00001 [Content-Type=application/octet-stream]...\n",
      "Copying file://snapshots/checkpoint [Content-Type=application/octet-stream]...\n",
      "Copying file://snapshots/model.ckpt-150.data-00000-of-00001 [Content-Type=application/octet-stream]...\n",
      "Copying file://snapshots/model.ckpt-0.meta [Content-Type=application/octet-stream]...\n",
      "Copying file://snapshots/model.ckpt-150.index [Content-Type=application/octet-stream]...\n",
      "Copying file://snapshots/model.ckpt-150.meta [Content-Type=application/octet-stream]...\n",
      "Copying file://snapshots/model.ckpt-100.index [Content-Type=application/octet-stream]...\n",
      "Copying file://snapshots/model.ckpt-200.data-00000-of-00001 [Content-Type=application/octet-stream]...\n",
      "Copying file://snapshots/model.ckpt-200.index [Content-Type=application/octet-stream]...\n",
      "Copying file://snapshots/model.ckpt-250.data-00000-of-00001 [Content-Type=application/octet-stream]...\n",
      "Copying file://snapshots/model.ckpt-200.meta [Content-Type=application/octet-stream]...\n",
      "Copying file://snapshots/model.ckpt-250.index [Content-Type=application/octet-stream]...\n",
      "Copying file://snapshots/model.ckpt-250.meta [Content-Type=application/octet-stream]...\n",
      "Copying file://snapshots/model.ckpt-300.data-00000-of-00001 [Content-Type=application/octet-stream]...\n",
      "Copying file://snapshots/model.ckpt-300.index [Content-Type=application/octet-stream]...\n",
      "Copying file://snapshots/model.ckpt-300.meta [Content-Type=application/octet-stream]...\n",
      "Copying file://snapshots/model.ckpt-350.data-00000-of-00001 [Content-Type=application/octet-stream]...\n",
      "Copying file://snapshots/model.ckpt-350.index [Content-Type=application/octet-stream]...\n",
      "Copying file://snapshots/model.ckpt-350.meta [Content-Type=application/octet-stream]...\n",
      "Copying file://snapshots/model.ckpt-400.data-00000-of-00001 [Content-Type=application/octet-stream]...\n",
      "Copying file://snapshots/model.ckpt-400.index [Content-Type=application/octet-stream]...\n",
      "Copying file://snapshots/model.ckpt-400.meta [Content-Type=application/octet-stream]...\n",
      "Copying file://snapshots/model.ckpt-450.data-00000-of-00001 [Content-Type=application/octet-stream]...\n",
      "Copying file://snapshots/model.ckpt-450.index [Content-Type=application/octet-stream]...\n",
      "Copying file://snapshots/model.ckpt-450.meta [Content-Type=application/octet-stream]...\n",
      "Copying file://snapshots/model.ckpt-50.data-00000-of-00001 [Content-Type=application/octet-stream]...\n",
      "Copying file://snapshots/model.ckpt-50.index [Content-Type=application/octet-stream]...\n",
      "Copying file://snapshots/model.ckpt-50.meta [Content-Type=application/octet-stream]...\n",
      "Copying file://snapshots/model.ckpt-500.data-00000-of-00001 [Content-Type=application/octet-stream]...\n",
      "Copying file://snapshots/model.ckpt-500.index [Content-Type=application/octet-stream]...\n",
      "Copying file://snapshots/model.ckpt-500.meta [Content-Type=application/octet-stream]...\n",
      "Copying file://snapshots/model.ckpt-550.data-00000-of-00001 [Content-Type=application/octet-stream]...\n",
      "Copying file://snapshots/model.ckpt-550.index [Content-Type=application/octet-stream]...\n",
      "Copying file://snapshots/model.ckpt-550.meta [Content-Type=application/octet-stream]...\n",
      "| [37/37 files][647.3 MiB/647.3 MiB] 100% Done                                  \n",
      "Operation completed over 37 objects/647.3 MiB.                                   \n"
     ]
    }
   ],
   "source": [
    "!python train.py --train-beta-gamma --num-steps 801 --loss_mult_nonego_car 2.5 --loss_mult_road 1.5 --learning-rate 1e-6\n",
    "\n",
    "!gsutil -m cp snapshots/* gs://{GCS_BUCKET}/models/icnet/cityscape-hellochick/snapshots-2positiveclasses-run08/"
   ]
  },
  {
   "cell_type": "markdown",
   "metadata": {
    "colab_type": "text",
    "id": "DfS5nNpuPaHa"
   },
   "source": [
    "### Freeze"
   ]
  },
  {
   "cell_type": "code",
   "execution_count": 166,
   "metadata": {
    "colab": {
     "autoexec": {
      "startup": false,
      "wait_interval": 0
     },
     "base_uri": "https://localhost:8080/",
     "height": 34
    },
    "colab_type": "code",
    "executionInfo": {
     "elapsed": 249,
     "status": "ok",
     "timestamp": 1528072863003,
     "user": {
      "displayName": "Yoshiaki Sono",
      "photoUrl": "//lh6.googleusercontent.com/-QqkpoqOp_fA/AAAAAAAAAAI/AAAAAAAAA8A/EfPYTWzQRSI/s50-c-k-no/photo.jpg",
      "userId": "110633234607464757614"
     },
     "user_tz": 420
    },
    "id": "18WIPm1MLBfj",
    "outputId": "48b36eef-3351-47c9-f3dd-1106d950f6a0"
   },
   "outputs": [
    {
     "data": {
      "text/plain": [
       "<module 'bn_common' from '/content/ICNet-tensorflow/bn_common.py'>"
      ]
     },
     "execution_count": 166,
     "metadata": {
      "tags": []
     },
     "output_type": "execute_result"
    }
   ],
   "source": [
    "import bn_common\n",
    "import importlib\n",
    "importlib.reload(bn_common)"
   ]
  },
  {
   "cell_type": "code",
   "execution_count": 171,
   "metadata": {
    "colab": {
     "autoexec": {
      "startup": false,
      "wait_interval": 0
     },
     "base_uri": "https://localhost:8080/",
     "height": 102
    },
    "colab_type": "code",
    "executionInfo": {
     "elapsed": 4895,
     "status": "ok",
     "timestamp": 1528073125448,
     "user": {
      "displayName": "Yoshiaki Sono",
      "photoUrl": "//lh6.googleusercontent.com/-QqkpoqOp_fA/AAAAAAAAAAI/AAAAAAAAA8A/EfPYTWzQRSI/s50-c-k-no/photo.jpg",
      "userId": "110633234607464757614"
     },
     "user_tz": 420
    },
    "id": "wdNSXpw4UgSF",
    "outputId": "db7d683b-be05-422a-88b5-aef80c771220"
   },
   "outputs": [
    {
     "name": "stderr",
     "output_type": "stream",
     "text": [
      "restoring from ./snapshots/model.ckpt-550\n"
     ]
    },
    {
     "name": "stdout",
     "output_type": "stream",
     "text": [
      "INFO:tensorflow:Restoring parameters from ./snapshots/model.ckpt-550\n",
      "raw_output_up.name output_2positiveclasses:0\n",
      "INFO:tensorflow:Froze 211 variables.\n",
      "Converted 211 variables to const ops.\n"
     ]
    }
   ],
   "source": [
    "def freeze(is_training):\n",
    "    import sys\n",
    "    import tensorflow as tf\n",
    "    \n",
    "    tf.reset_default_graph()\n",
    "\n",
    "    raw_inputs = tf.placeholder(dtype=tf.uint8, shape=(None, 600, 800, 3),\n",
    "#                                 name='inputs_600_800')\n",
    "#     raw_inputs = tf.placeholder(dtype=tf.uint8, shape=(None, 192, 256, 3),\n",
    "                                name='inputs_192_256')\n",
    "\n",
    "    sess, raw_output_up = bn_common.recreate_bn_model(raw_inputs, is_training=is_training)\n",
    "#     sess, raw_output_up = bn_common.recreate_bn_model(raw_inputs, is_training=is_training, crop_size=None)\n",
    "\n",
    "    print('raw_output_up.name', raw_output_up.name)\n",
    "    \n",
    "    graph_def = tf.graph_util.convert_variables_to_constants(\n",
    "        sess,\n",
    "        sess.graph_def,\n",
    "        output_node_names=['output_2positiveclasses']\n",
    "#         output_node_names=['output_sparse']\n",
    "    )\n",
    "\n",
    "    with tf.gfile.FastGFile('./frozen_inference_graph.pb', 'wb') as f:\n",
    "        f.write(graph_def.SerializeToString())\n",
    "\n",
    "    sess.close()\n",
    "\n",
    "freeze(True)"
   ]
  },
  {
   "cell_type": "code",
   "execution_count": 172,
   "metadata": {
    "colab": {
     "autoexec": {
      "startup": false,
      "wait_interval": 0
     },
     "base_uri": "https://localhost:8080/",
     "height": 68
    },
    "colab_type": "code",
    "executionInfo": {
     "elapsed": 3775,
     "status": "ok",
     "timestamp": 1528073129947,
     "user": {
      "displayName": "Yoshiaki Sono",
      "photoUrl": "//lh6.googleusercontent.com/-QqkpoqOp_fA/AAAAAAAAAAI/AAAAAAAAA8A/EfPYTWzQRSI/s50-c-k-no/photo.jpg",
      "userId": "110633234607464757614"
     },
     "user_tz": 420
    },
    "id": "_Oln1zH1Uu5c",
    "outputId": "8b0fb606-20a0-4d69-b808-25e1d012de16"
   },
   "outputs": [
    {
     "name": "stdout",
     "output_type": "stream",
     "text": [
      "Copying file://frozen_inference_graph.pb [Content-Type=application/octet-stream]...\n",
      "-\n",
      "Operation completed over 1 objects/25.7 MiB.                                     \n"
     ]
    }
   ],
   "source": [
    "!gsutil cp frozen_inference_graph.pb gs://ysono-ml/models/icnet/cityscape-hellochick/snapshots-2positiveclasses-run08/frozen_inference_graph-550.pb"
   ]
  },
  {
   "cell_type": "code",
   "execution_count": 87,
   "metadata": {
    "colab": {
     "autoexec": {
      "startup": false,
      "wait_interval": 0
     },
     "base_uri": "https://localhost:8080/",
     "height": 85
    },
    "colab_type": "code",
    "executionInfo": {
     "elapsed": 5430,
     "status": "ok",
     "timestamp": 1527454355277,
     "user": {
      "displayName": "Yoshiaki Sono",
      "photoUrl": "//lh6.googleusercontent.com/-QqkpoqOp_fA/AAAAAAAAAAI/AAAAAAAAA8A/EfPYTWzQRSI/s50-c-k-no/photo.jpg",
      "userId": "110633234607464757614"
     },
     "user_tz": 420
    },
    "id": "tZr7ZYeiU2yd",
    "outputId": "7473b0a3-3957-4b7e-f182-ba81642b356e"
   },
   "outputs": [
    {
     "name": "stdout",
     "output_type": "stream",
     "text": [
      "Requirement already satisfied: imageio in /usr/local/lib/python3.6/dist-packages (2.3.0)\r\n",
      "Requirement already satisfied: pillow in /usr/local/lib/python3.6/dist-packages (from imageio) (4.0.0)\r\n",
      "Requirement already satisfied: numpy in /usr/local/lib/python3.6/dist-packages (from imageio) (1.14.3)\r\n",
      "Requirement already satisfied: olefile in /usr/local/lib/python3.6/dist-packages (from pillow->imageio) (0.45.1)\r\n"
     ]
    }
   ],
   "source": [
    "!pip install imageio\n",
    "import imageio\n",
    "import numpy as np\n",
    "import tensorflow as tf\n",
    "\n",
    "# import bn_common\n",
    "\n",
    "def infer_frozen(in_imgs):\n",
    "    tf.reset_default_graph()\n",
    "  \n",
    "    graph_def = tf.GraphDef()\n",
    "    with tf.gfile.FastGFile('./frozen_inference_graph.pb', \"rb\") as f:\n",
    "        graph_def.ParseFromString(f.read())\n",
    "\n",
    "    tf.import_graph_def(graph_def)\n",
    "    \n",
    "    inpt, outpt = [\n",
    "        tf.get_default_graph().get_tensor_by_name(n) for n in [\n",
    "            'import/inputs_600_800:0', 'import/output_sparse:0'\n",
    "        ]\n",
    "    ]\n",
    "    \n",
    "    with tf.Session() as sess:\n",
    "        \n",
    "        out_imgs = []\n",
    "        batch_size = 16\n",
    "        for batch_i in range(0, len(in_imgs), batch_size):\n",
    "            in_imgs_batch = in_imgs[batch_i : batch_i+batch_size]\n",
    "            out_imgs_batch = sess.run(outpt, feed_dict={inpt: in_imgs_batch})\n",
    "            for out_img in out_imgs_batch:\n",
    "                out_imgs.append(out_img)\n",
    "    \n",
    "    return out_imgs\n",
    "\n",
    "  \n",
    "def infer_frozen_image_paths_to_images(in_paths):\n",
    "    in_imgs = np.array([imageio.imread(in_path) for in_path in in_paths])\n",
    "    \n",
    "    return infer_frozen(in_imgs)\n",
    "\n",
    "temp = infer_frozen_image_paths_to_images(glob.glob(os.path.join(HOME_PATH, 'CameraRGB/F[67]?-*'))[:5])"
   ]
  },
  {
   "cell_type": "code",
   "execution_count": 89,
   "metadata": {
    "colab": {
     "autoexec": {
      "startup": false,
      "wait_interval": 0
     },
     "base_uri": "https://localhost:8080/",
     "height": 196
    },
    "colab_type": "code",
    "executionInfo": {
     "elapsed": 1083,
     "status": "ok",
     "timestamp": 1527454367126,
     "user": {
      "displayName": "Yoshiaki Sono",
      "photoUrl": "//lh6.googleusercontent.com/-QqkpoqOp_fA/AAAAAAAAAAI/AAAAAAAAA8A/EfPYTWzQRSI/s50-c-k-no/photo.jpg",
      "userId": "110633234607464757614"
     },
     "user_tz": 420
    },
    "id": "xc0o0YErX_RT",
    "outputId": "623bdcf6-37d2-48dd-a511-8e1e90f275f4"
   },
   "outputs": [
    {
     "data": {
      "image/png": "[encoded data removed]",
      "text/plain": [
       "<matplotlib.figure.Figure at 0x7f8572e56160>"
      ]
     },
     "metadata": {
      "tags": []
     },
     "output_type": "display_data"
    }
   ],
   "source": [
    "import matplotlib.pyplot as plt\n",
    "\n",
    "_, axes = plt.subplots(nrows=1, ncols=len(temp), figsize=(20, 5))\n",
    "\n",
    "for img, ax in zip(temp, axes):\n",
    "    ax.imshow(img, cmap='Greys_r')"
   ]
  },
  {
   "cell_type": "markdown",
   "metadata": {
    "colab_type": "text",
    "id": "RCHjc2r119HP"
   },
   "source": [
    "### Infer"
   ]
  },
  {
   "cell_type": "code",
   "execution_count": 28,
   "metadata": {
    "colab": {
     "autoexec": {
      "startup": false,
      "wait_interval": 0
     },
     "base_uri": "https://localhost:8080/",
     "height": 13379
    },
    "colab_type": "code",
    "executionInfo": {
     "elapsed": 45515,
     "status": "ok",
     "timestamp": 1527039480091,
     "user": {
      "displayName": "Yoshiaki Sono",
      "photoUrl": "//lh6.googleusercontent.com/-QqkpoqOp_fA/AAAAAAAAAAI/AAAAAAAAA8A/EfPYTWzQRSI/s50-c-k-no/photo.jpg",
      "userId": "110633234607464757614"
     },
     "user_tz": 420
    },
    "id": "tIKiWwChtKfv",
    "outputId": "3e6d9d6f-a5e0-460a-c3d5-e93a5bccc706"
   },
   "outputs": [
    {
     "name": "stdout",
     "output_type": "stream",
     "text": [
      "Reading package lists...\n",
      "Building dependency tree...\n",
      "Reading state information...\n",
      "The following additional packages will be installed:\n",
      "  dbus i965-va-driver libaacs0 libapparmor1 libasound2 libasound2-data libass9\n",
      "  libasyncns0 libavc1394-0 libavcodec57 libavdevice57 libavfilter6\n",
      "  libavformat57 libavresample3 libavutil55 libbdplus0 libbluray2\n",
      "  libboost-filesystem1.62.0 libboost-system1.62.0 libbs2b0 libcaca0 libcairo2\n",
      "  libcapnp-0.5.3 libcdio-cdda1 libcdio-paranoia1 libcdio13 libchromaprint1\n",
      "  libcrystalhd3 libdbus-1-3 libdc1394-22 libdrm-amdgpu1 libdrm-common\n",
      "  libdrm-intel1 libdrm-nouveau2 libdrm-radeon1 libdrm2 libegl1-mesa libelf1\n",
      "  libfftw3-double3 libflac8 libflite1 libfribidi0 libgbm1 libgl1-mesa-dri\n",
      "  libgl1-mesa-glx libglapi-mesa libgme0 libgraphite2-3 libgsm1 libharfbuzz0b\n",
      "  libiec61883-0 libjack-jackd2-0 libllvm5.0 libmirclient9 libmircommon7\n",
      "  libmircore1 libmirprotobuf3 libmp3lame0 libmpg123-0 libnuma1 libogg0\n",
      "  libopenal-data libopenal1 libopencv-core3.1 libopencv-imgproc3.1\n",
      "  libopenjp2-7 libopenmpt0 libopus0 libpciaccess0 libpixman-1-0 libpostproc54\n",
      "  libprotobuf-lite10 libpulse0 libraw1394-11 librubberband2v5 libsamplerate0\n",
      "  libsdl2-2.0-0 libsensors4 libshine3 libslang2 libsnappy1v5 libsndfile1\n",
      "  libsndio6.1 libsoxr0 libspeex1 libssh-gcrypt-4 libswresample2 libswscale4\n",
      "  libtbb2 libtheora0 libtwolame0 libtxc-dxtn-s2tc libusb-1.0-0 libva-drm1\n",
      "  libva-x11-1 libva1 libvdpau1 libvorbis0a libvorbisenc2 libvorbisfile3\n",
      "  libvpx4 libwavpack1 libwayland-client0 libwayland-cursor0\n",
      "  libwayland-egl1-mesa libwayland-server0 libwebp6 libwebpmux3 libwrap0\n",
      "  libx11-xcb1 libx264-148 libx265-130 libxcb-dri2-0 libxcb-dri3-0 libxcb-glx0\n",
      "  libxcb-present0 libxcb-render0 libxcb-shape0 libxcb-shm0 libxcb-sync1\n",
      "  libxcb-xfixes0 libxcursor1 libxdamage1 libxfixes3 libxi6 libxinerama1\n",
      "  libxkbcommon0 libxrandr2 libxshmfence1 libxv1 libxvidcore4 libxxf86vm1\n",
      "  libzvbi-common libzvbi0 mesa-va-drivers mesa-vdpau-drivers tcpd\n",
      "  va-driver-all vdpau-driver-all xkb-data\n",
      "Suggested packages:\n",
      "  default-dbus-session-bus | dbus-session-bus ffmpeg-doc libasound2-plugins\n",
      "  alsa-utils libbluray-bdj firmware-crystalhd libfftw3-bin libfftw3-dev jackd2\n",
      "  libportaudio2 opus-tools pciutils pulseaudio libraw1394-doc lm-sensors\n",
      "  sndiod speex libfglrx-amdxvba1 libvdpau-va-gl1 nvidia-vdpau-driver\n",
      "  nvidia-legacy-340xx-vdpau-driver\n",
      "The following NEW packages will be installed:\n",
      "  dbus ffmpeg i965-va-driver libaacs0 libapparmor1 libasound2 libasound2-data\n",
      "  libass9 libasyncns0 libavc1394-0 libavcodec57 libavdevice57 libavfilter6\n",
      "  libavformat57 libavresample3 libavutil55 libbdplus0 libbluray2\n",
      "  libboost-filesystem1.62.0 libboost-system1.62.0 libbs2b0 libcaca0 libcairo2\n",
      "  libcapnp-0.5.3 libcdio-cdda1 libcdio-paranoia1 libcdio13 libchromaprint1\n",
      "  libcrystalhd3 libdbus-1-3 libdc1394-22 libdrm-amdgpu1 libdrm-common\n",
      "  libdrm-intel1 libdrm-nouveau2 libdrm-radeon1 libdrm2 libegl1-mesa libelf1\n",
      "  libfftw3-double3 libflac8 libflite1 libfribidi0 libgbm1 libgl1-mesa-dri\n",
      "  libgl1-mesa-glx libglapi-mesa libgme0 libgraphite2-3 libgsm1 libharfbuzz0b\n",
      "  libiec61883-0 libjack-jackd2-0 libllvm5.0 libmirclient9 libmircommon7\n",
      "  libmircore1 libmirprotobuf3 libmp3lame0 libmpg123-0 libnuma1 libogg0\n",
      "  libopenal-data libopenal1 libopencv-core3.1 libopencv-imgproc3.1\n",
      "  libopenjp2-7 libopenmpt0 libopus0 libpciaccess0 libpixman-1-0 libpostproc54\n",
      "  libprotobuf-lite10 libpulse0 libraw1394-11 librubberband2v5 libsamplerate0\n",
      "  libsdl2-2.0-0 libsensors4 libshine3 libslang2 libsnappy1v5 libsndfile1\n",
      "  libsndio6.1 libsoxr0 libspeex1 libssh-gcrypt-4 libswresample2 libswscale4\n",
      "  libtbb2 libtheora0 libtwolame0 libtxc-dxtn-s2tc libusb-1.0-0 libva-drm1\n",
      "  libva-x11-1 libva1 libvdpau1 libvorbis0a libvorbisenc2 libvorbisfile3\n",
      "  libvpx4 libwavpack1 libwayland-client0 libwayland-cursor0\n",
      "  libwayland-egl1-mesa libwayland-server0 libwebp6 libwebpmux3 libwrap0\n",
      "  libx11-xcb1 libx264-148 libx265-130 libxcb-dri2-0 libxcb-dri3-0 libxcb-glx0\n",
      "  libxcb-present0 libxcb-render0 libxcb-shape0 libxcb-shm0 libxcb-sync1\n",
      "  libxcb-xfixes0 libxcursor1 libxdamage1 libxfixes3 libxi6 libxinerama1\n",
      "  libxkbcommon0 libxrandr2 libxshmfence1 libxv1 libxvidcore4 libxxf86vm1\n",
      "  libzvbi-common libzvbi0 mesa-va-drivers mesa-vdpau-drivers tcpd\n",
      "  va-driver-all vdpau-driver-all xkb-data\n",
      "0 upgraded, 141 newly installed, 0 to remove and 0 not upgraded.\n",
      "Need to get 60.1 MB of archives.\n",
      "After this operation, 336 MB of additional disk space will be used.\n",
      "Get:1 http://archive.ubuntu.com/ubuntu artful/universe amd64 libgsm1 amd64 1.0.13-4 [27.1 kB]\n",
      "Get:2 http://archive.ubuntu.com/ubuntu artful/main amd64 libogg0 amd64 1.3.2-1 [17.2 kB]\n",
      "Get:3 http://archive.ubuntu.com/ubuntu artful/main amd64 libxinerama1 amd64 2:1.1.3-1 [7,908 B]\n",
      "Get:4 http://archive.ubuntu.com/ubuntu artful/main amd64 libxshmfence1 amd64 1.2-1 [5,042 B]\n",
      "Get:5 http://archive.ubuntu.com/ubuntu artful/main amd64 libxxf86vm1 amd64 1:1.1.4-1 [10.6 kB]\n",
      "Get:6 http://archive.ubuntu.com/ubuntu artful-updates/main amd64 libapparmor1 amd64 2.11.0-2ubuntu17.1 [28.9 kB]\n",
      "Get:7 http://archive.ubuntu.com/ubuntu artful/main amd64 libdbus-1-3 amd64 1.10.22-1ubuntu1 [165 kB]\n",
      "Get:8 http://archive.ubuntu.com/ubuntu artful/main amd64 dbus amd64 1.10.22-1ubuntu1 [144 kB]\n",
      "Get:9 http://archive.ubuntu.com/ubuntu artful/main amd64 libelf1 amd64 0.170-0.1 [44.3 kB]\n",
      "Get:10 http://archive.ubuntu.com/ubuntu artful/main amd64 libfribidi0 amd64 0.19.7-1 [25.1 kB]\n",
      "Get:11 http://archive.ubuntu.com/ubuntu artful/main amd64 libslang2 amd64 2.3.1-5ubuntu1 [422 kB]\n",
      "Get:12 http://archive.ubuntu.com/ubuntu artful/main amd64 xkb-data all 2.19-1.1ubuntu1 [312 kB]\n",
      "Get:13 http://archive.ubuntu.com/ubuntu artful/main amd64 libdrm-common all 2.4.83-1 [4,938 B]\n",
      "Get:14 http://archive.ubuntu.com/ubuntu artful/main amd64 libdrm2 amd64 2.4.83-1 [30.6 kB]\n",
      "Get:15 http://archive.ubuntu.com/ubuntu artful/main amd64 libnuma1 amd64 2.0.11-2.1 [21.6 kB]\n",
      "Get:16 http://archive.ubuntu.com/ubuntu artful/main amd64 libusb-1.0-0 amd64 2:1.0.21-2 [43.3 kB]\n",
      "Get:17 http://archive.ubuntu.com/ubuntu artful/universe amd64 libva-drm1 amd64 1.8.3-2 [7,858 B]\n",
      "Get:18 http://archive.ubuntu.com/ubuntu artful/universe amd64 libva1 amd64 1.8.3-2 [44.9 kB]\n",
      "Get:19 http://archive.ubuntu.com/ubuntu artful/main amd64 libxfixes3 amd64 1:5.0.3-1 [10.8 kB]\n",
      "Get:20 http://archive.ubuntu.com/ubuntu artful/universe amd64 libva-x11-1 amd64 1.8.3-2 [11.4 kB]\n",
      "Get:21 http://archive.ubuntu.com/ubuntu artful/main amd64 libvdpau1 amd64 1.1.1-3ubuntu1 [25.5 kB]\n",
      "Get:22 http://archive.ubuntu.com/ubuntu artful/universe amd64 libavutil55 amd64 7:3.3.4-2 [183 kB]\n",
      "Get:23 http://archive.ubuntu.com/ubuntu artful/universe amd64 libcrystalhd3 amd64 1:0.0~git20110715.fdd2f19-12 [45.8 kB]\n",
      "Get:24 http://archive.ubuntu.com/ubuntu artful/universe amd64 libmp3lame0 amd64 3.99.5+repack1-9build1 [127 kB]\n",
      "Get:25 http://archive.ubuntu.com/ubuntu artful/universe amd64 libopenjp2-7 amd64 2.2.0-1 [133 kB]\n",
      "Get:26 http://archive.ubuntu.com/ubuntu artful/main amd64 libopus0 amd64 1.1.2-1ubuntu1 [159 kB]\n",
      "Get:27 http://archive.ubuntu.com/ubuntu artful/universe amd64 libshine3 amd64 3.1.1-1 [22.9 kB]\n",
      "Get:28 http://archive.ubuntu.com/ubuntu artful/main amd64 libsnappy1v5 amd64 1.1.6-4 [16.0 kB]\n",
      "Get:29 http://archive.ubuntu.com/ubuntu artful/main amd64 libspeex1 amd64 1.2~rc1.2-1ubuntu1 [51.3 kB]\n",
      "Get:30 http://archive.ubuntu.com/ubuntu artful/universe amd64 libsoxr0 amd64 0.1.2-2 [64.7 kB]\n",
      "Get:31 http://archive.ubuntu.com/ubuntu artful/universe amd64 libswresample2 amd64 7:3.3.4-2 [55.4 kB]\n",
      "Get:32 http://archive.ubuntu.com/ubuntu artful/main amd64 libpixman-1-0 amd64 0.34.0-1 [230 kB]\n",
      "Get:33 http://archive.ubuntu.com/ubuntu artful/main amd64 libxcb-render0 amd64 1.12-1ubuntu1 [14.8 kB]\n",
      "Get:34 http://archive.ubuntu.com/ubuntu artful/main amd64 libxcb-shm0 amd64 1.12-1ubuntu1 [5,482 B]\n",
      "Get:35 http://archive.ubuntu.com/ubuntu artful/main amd64 libcairo2 amd64 1.14.10-1ubuntu1 [558 kB]\n",
      "Get:36 http://archive.ubuntu.com/ubuntu artful/main amd64 libtheora0 amd64 1.1.1+dfsg.1-14 [170 kB]\n",
      "Get:37 http://archive.ubuntu.com/ubuntu artful/universe amd64 libtwolame0 amd64 0.3.13-2 [46.1 kB]\n",
      "Get:38 http://archive.ubuntu.com/ubuntu artful-updates/main amd64 libvorbis0a amd64 1.3.5-4ubuntu0.2 [86.5 kB]\n",
      "Get:39 http://archive.ubuntu.com/ubuntu artful-updates/main amd64 libvorbisenc2 amd64 1.3.5-4ubuntu0.2 [70.6 kB]\n",
      "Get:40 http://archive.ubuntu.com/ubuntu artful/main amd64 libvpx4 amd64 1.6.1-3 [763 kB]\n",
      "Get:41 http://archive.ubuntu.com/ubuntu artful-updates/main amd64 libwavpack1 amd64 5.1.0-2ubuntu0.3 [76.3 kB]\n"
     ]
    },
    {
     "name": "stdout",
     "output_type": "stream",
     "text": [
      "Get:42 http://archive.ubuntu.com/ubuntu artful/main amd64 libwebp6 amd64 0.6.0-3 [181 kB]\n",
      "Get:43 http://archive.ubuntu.com/ubuntu artful/main amd64 libwebpmux3 amd64 0.6.0-3 [20.0 kB]\n",
      "Get:44 http://archive.ubuntu.com/ubuntu artful/universe amd64 libx264-148 amd64 2:0.148.2795+gitaaa9aa8-1 [604 kB]\n",
      "Get:45 http://archive.ubuntu.com/ubuntu artful/universe amd64 libx265-130 amd64 2.5-2 [1,044 kB]\n",
      "Get:46 http://archive.ubuntu.com/ubuntu artful/universe amd64 libxvidcore4 amd64 2:1.3.4-1 [206 kB]\n",
      "Get:47 http://archive.ubuntu.com/ubuntu artful/universe amd64 libzvbi-common all 0.2.35-13 [32.1 kB]\n",
      "Get:48 http://archive.ubuntu.com/ubuntu artful/universe amd64 libzvbi0 amd64 0.2.35-13 [235 kB]\n",
      "Get:49 http://archive.ubuntu.com/ubuntu artful/universe amd64 libavcodec57 amd64 7:3.3.4-2 [4,513 kB]\n",
      "Get:50 http://archive.ubuntu.com/ubuntu artful/main amd64 libasound2-data all 1.1.3-5 [36.1 kB]\n",
      "Get:51 http://archive.ubuntu.com/ubuntu artful/main amd64 libasound2 amd64 1.1.3-5 [357 kB]\n",
      "Get:52 http://archive.ubuntu.com/ubuntu artful/main amd64 libraw1394-11 amd64 2.1.2-1 [30.7 kB]\n",
      "Get:53 http://archive.ubuntu.com/ubuntu artful/main amd64 libavc1394-0 amd64 0.5.4-4 [16.1 kB]\n",
      "Get:54 http://archive.ubuntu.com/ubuntu artful/main amd64 libgraphite2-3 amd64 1.3.10-2 [78.3 kB]\n",
      "Get:55 http://archive.ubuntu.com/ubuntu artful/main amd64 libharfbuzz0b amd64 1.4.2-1 [211 kB]\n",
      "Get:56 http://archive.ubuntu.com/ubuntu artful/universe amd64 libass9 amd64 1:0.13.7-2 [83.7 kB]\n",
      "Get:57 http://archive.ubuntu.com/ubuntu artful/universe amd64 libbluray2 amd64 1:1.0.1.deb1-2 [136 kB]\n",
      "Get:58 http://archive.ubuntu.com/ubuntu artful/universe amd64 libchromaprint1 amd64 1.4.2-1 [36.8 kB]\n",
      "Get:59 http://archive.ubuntu.com/ubuntu artful/universe amd64 libgme0 amd64 0.6.1-1 [122 kB]\n",
      "Get:60 http://archive.ubuntu.com/ubuntu artful/universe amd64 libmpg123-0 amd64 1.25.6-1 [125 kB]\n",
      "Get:61 http://archive.ubuntu.com/ubuntu artful-updates/main amd64 libvorbisfile3 amd64 1.3.5-4ubuntu0.2 [15.9 kB]\n",
      "Get:62 http://archive.ubuntu.com/ubuntu artful/universe amd64 libopenmpt0 amd64 0.2.8760~beta27-1 [474 kB]\n",
      "Get:63 http://archive.ubuntu.com/ubuntu artful/main amd64 libssh-gcrypt-4 amd64 0.7.5-1 [162 kB]\n",
      "Get:64 http://archive.ubuntu.com/ubuntu artful/universe amd64 libavformat57 amd64 7:3.3.4-2 [924 kB]\n",
      "Get:65 http://archive.ubuntu.com/ubuntu artful/universe amd64 libavresample3 amd64 7:3.3.4-2 [52.7 kB]\n",
      "Get:66 http://archive.ubuntu.com/ubuntu artful/universe amd64 libbs2b0 amd64 3.1.0+dfsg-2.2 [10.5 kB]\n",
      "Get:67 http://archive.ubuntu.com/ubuntu artful/universe amd64 libflite1 amd64 2.0.0-release-4 [12.9 MB]\n",
      "Get:68 http://archive.ubuntu.com/ubuntu artful/universe amd64 libtbb2 amd64 2017~U7-6 [112 kB]\n",
      "Get:69 http://archive.ubuntu.com/ubuntu artful/universe amd64 libopencv-core3.1 amd64 3.1.0+dfsg1-1~exp1ubuntu3 [698 kB]\n",
      "Get:70 http://archive.ubuntu.com/ubuntu artful/universe amd64 libopencv-imgproc3.1 amd64 3.1.0+dfsg1-1~exp1ubuntu3 [778 kB]\n",
      "Get:71 http://archive.ubuntu.com/ubuntu artful/universe amd64 libpostproc54 amd64 7:3.3.4-2 [50.5 kB]\n",
      "Get:72 http://archive.ubuntu.com/ubuntu artful/main amd64 libfftw3-double3 amd64 3.3.6p2-1 [727 kB]\n",
      "Get:73 http://archive.ubuntu.com/ubuntu artful/main amd64 libsamplerate0 amd64 0.1.9-1 [938 kB]\n",
      "Get:74 http://archive.ubuntu.com/ubuntu artful/universe amd64 librubberband2v5 amd64 1.8.1-6ubuntu2 [85.3 kB]\n",
      "Get:75 http://archive.ubuntu.com/ubuntu artful/universe amd64 libswscale4 amd64 7:3.3.4-2 [150 kB]\n",
      "Get:76 http://archive.ubuntu.com/ubuntu artful/universe amd64 libavfilter6 amd64 7:3.3.4-2 [812 kB]\n",
      "Get:77 http://archive.ubuntu.com/ubuntu artful/main amd64 libcaca0 amd64 0.99.beta19-2build2~gcc5.2 [202 kB]\n",
      "Get:78 http://archive.ubuntu.com/ubuntu artful/main amd64 libcdio13 amd64 0.83-4.2ubuntu1 [53.0 kB]\n",
      "Get:79 http://archive.ubuntu.com/ubuntu artful/main amd64 libcdio-cdda1 amd64 0.83-4.2ubuntu1 [15.7 kB]\n",
      "Get:80 http://archive.ubuntu.com/ubuntu artful/main amd64 libcdio-paranoia1 amd64 0.83-4.2ubuntu1 [15.4 kB]\n",
      "Get:81 http://archive.ubuntu.com/ubuntu artful/universe amd64 libdc1394-22 amd64 2.2.5-1 [77.5 kB]\n",
      "Get:82 http://archive.ubuntu.com/ubuntu artful-updates/main amd64 libglapi-mesa amd64 17.2.8-0ubuntu0~17.10.1 [22.2 kB]\n",
      "Get:83 http://archive.ubuntu.com/ubuntu artful/main amd64 libx11-xcb1 amd64 2:1.6.4-3 [9,626 B]\n",
      "Get:84 http://archive.ubuntu.com/ubuntu artful/main amd64 libxcb-dri2-0 amd64 1.12-1ubuntu1 [6,838 B]\n",
      "Get:85 http://archive.ubuntu.com/ubuntu artful/main amd64 libxcb-dri3-0 amd64 1.12-1ubuntu1 [5,156 B]\n",
      "Get:86 http://archive.ubuntu.com/ubuntu artful/main amd64 libxcb-glx0 amd64 1.12-1ubuntu1 [22.3 kB]\n",
      "Get:87 http://archive.ubuntu.com/ubuntu artful/main amd64 libxcb-present0 amd64 1.12-1ubuntu1 [5,436 B]\n",
      "Get:88 http://archive.ubuntu.com/ubuntu artful/main amd64 libxcb-sync1 amd64 1.12-1ubuntu1 [8,746 B]\n",
      "Get:89 http://archive.ubuntu.com/ubuntu artful/main amd64 libxdamage1 amd64 1:1.1.4-3 [6,934 B]\n",
      "Get:90 http://archive.ubuntu.com/ubuntu artful/main amd64 libdrm-amdgpu1 amd64 2.4.83-1 [18.5 kB]\n",
      "Get:91 http://archive.ubuntu.com/ubuntu artful/main amd64 libpciaccess0 amd64 0.13.4-1ubuntu1 [17.9 kB]\n",
      "Get:92 http://archive.ubuntu.com/ubuntu artful/main amd64 libdrm-intel1 amd64 2.4.83-1 [59.7 kB]\n",
      "Get:93 http://archive.ubuntu.com/ubuntu artful/main amd64 libdrm-nouveau2 amd64 2.4.83-1 [16.4 kB]\n",
      "Get:94 http://archive.ubuntu.com/ubuntu artful/main amd64 libdrm-radeon1 amd64 2.4.83-1 [21.6 kB]\n",
      "Get:95 http://archive.ubuntu.com/ubuntu artful/main amd64 libllvm5.0 amd64 1:5.0-3 [13.7 MB]\n",
      "Get:96 http://archive.ubuntu.com/ubuntu artful/main amd64 libsensors4 amd64 1:3.4.0-4 [28.8 kB]\n",
      "Get:97 http://archive.ubuntu.com/ubuntu artful-updates/main amd64 libgl1-mesa-dri amd64 17.2.8-0ubuntu0~17.10.1 [5,707 kB]\n",
      "Get:98 http://archive.ubuntu.com/ubuntu artful-updates/main amd64 libgl1-mesa-glx amd64 17.2.8-0ubuntu0~17.10.1 [130 kB]\n",
      "Get:99 http://archive.ubuntu.com/ubuntu artful/main amd64 libiec61883-0 amd64 1.2.0-2 [23.5 kB]\n",
      "Get:100 http://archive.ubuntu.com/ubuntu artful/main amd64 libjack-jackd2-0 amd64 1.9.10+20150825git1ed50c92~dfsg-5ubuntu1 [256 kB]\n",
      "Get:101 http://archive.ubuntu.com/ubuntu artful/universe amd64 libopenal-data all 1:1.17.2-4 [101 kB]\n",
      "Get:102 http://archive.ubuntu.com/ubuntu artful/universe amd64 libsndio6.1 amd64 1.1.0-3 [23.4 kB]\n",
      "Get:103 http://archive.ubuntu.com/ubuntu artful/universe amd64 libopenal1 amd64 1:1.17.2-4 [207 kB]\n",
      "Get:104 http://archive.ubuntu.com/ubuntu artful/main amd64 libasyncns0 amd64 0.8-6 [12.1 kB]\n",
      "Get:105 http://archive.ubuntu.com/ubuntu artful/main amd64 libflac8 amd64 1.3.2-1 [213 kB]\n",
      "Get:106 http://archive.ubuntu.com/ubuntu artful/main amd64 libsndfile1 amd64 1.0.28-4 [169 kB]\n",
      "Get:107 http://archive.ubuntu.com/ubuntu artful/main amd64 libwrap0 amd64 7.6.q-26 [46.1 kB]\n",
      "Get:108 http://archive.ubuntu.com/ubuntu artful-updates/main amd64 libpulse0 amd64 1:10.0-2ubuntu3.1 [265 kB]\n",
      "Get:109 http://archive.ubuntu.com/ubuntu artful-updates/main amd64 libwayland-client0 amd64 1.14.0-1ubuntu0.1 [22.5 kB]\n",
      "Get:110 http://archive.ubuntu.com/ubuntu artful-updates/main amd64 libwayland-cursor0 amd64 1.14.0-1ubuntu0.1 [9,890 B]\n",
      "Get:111 http://archive.ubuntu.com/ubuntu artful-updates/main amd64 libwayland-server0 amd64 1.14.0-1ubuntu0.1 [28.5 kB]\n",
      "Get:112 http://archive.ubuntu.com/ubuntu artful-updates/main amd64 libgbm1 amd64 17.2.8-0ubuntu0~17.10.1 [24.4 kB]\n",
      "Get:113 http://archive.ubuntu.com/ubuntu artful/main amd64 libboost-system1.62.0 amd64 1.62.0+dfsg-4build3 [9,212 B]\n",
      "Get:114 http://archive.ubuntu.com/ubuntu artful/main amd64 libcapnp-0.5.3 amd64 0.5.3-2ubuntu2 [569 kB]\n",
      "Get:115 http://archive.ubuntu.com/ubuntu artful/main amd64 libboost-filesystem1.62.0 amd64 1.62.0+dfsg-4build3 [38.6 kB]\n",
      "Get:116 http://archive.ubuntu.com/ubuntu artful/main amd64 libmircore1 amd64 0.28.0+17.10.20171011.1-0ubuntu1 [31.5 kB]\n",
      "Get:117 http://archive.ubuntu.com/ubuntu artful/main amd64 libmircommon7 amd64 0.28.0+17.10.20171011.1-0ubuntu1 [73.2 kB]\n",
      "Get:118 http://archive.ubuntu.com/ubuntu artful/main amd64 libprotobuf-lite10 amd64 3.0.0-9ubuntu5 [97.1 kB]\n",
      "Get:119 http://archive.ubuntu.com/ubuntu artful/main amd64 libmirprotobuf3 amd64 0.28.0+17.10.20171011.1-0ubuntu1 [131 kB]\n",
      "Get:120 http://archive.ubuntu.com/ubuntu artful/main amd64 libxkbcommon0 amd64 0.7.1-2 [97.2 kB]\n",
      "Get:121 http://archive.ubuntu.com/ubuntu artful/main amd64 libmirclient9 amd64 0.28.0+17.10.20171011.1-0ubuntu1 [199 kB]\n",
      "Get:122 http://archive.ubuntu.com/ubuntu artful/main amd64 libxcb-xfixes0 amd64 1.12-1ubuntu1 [9,292 B]\n",
      "Get:123 http://archive.ubuntu.com/ubuntu artful-updates/main amd64 libegl1-mesa amd64 17.2.8-0ubuntu0~17.10.1 [85.3 kB]\n",
      "Get:124 http://archive.ubuntu.com/ubuntu artful-updates/main amd64 libwayland-egl1-mesa amd64 17.2.8-0ubuntu0~17.10.1 [5,778 B]\n",
      "Get:125 http://archive.ubuntu.com/ubuntu artful-updates/main amd64 libxcursor1 amd64 1:1.1.14-3ubuntu0.1 [19.8 kB]\n",
      "Get:126 http://archive.ubuntu.com/ubuntu artful/main amd64 libxi6 amd64 2:1.7.9-1 [29.2 kB]\n",
      "Get:127 http://archive.ubuntu.com/ubuntu artful/main amd64 libxrandr2 amd64 2:1.5.1-1 [18.1 kB]\n",
      "Get:128 http://archive.ubuntu.com/ubuntu artful/universe amd64 libsdl2-2.0-0 amd64 2.0.6+dfsg1-3ubuntu1 [346 kB]\n",
      "Get:129 http://archive.ubuntu.com/ubuntu artful/main amd64 libxcb-shape0 amd64 1.12-1ubuntu1 [5,864 B]\n",
      "Get:130 http://archive.ubuntu.com/ubuntu artful/main amd64 libxv1 amd64 2:1.0.11-1 [10.7 kB]\n",
      "Get:131 http://archive.ubuntu.com/ubuntu artful/universe amd64 libavdevice57 amd64 7:3.3.4-2 [73.7 kB]\n",
      "Get:132 http://archive.ubuntu.com/ubuntu artful/universe amd64 ffmpeg amd64 7:3.3.4-2 [1,524 kB]\n",
      "Get:133 http://archive.ubuntu.com/ubuntu artful/universe amd64 libaacs0 amd64 0.9.0-1 [51.4 kB]\n",
      "Get:134 http://archive.ubuntu.com/ubuntu artful/universe amd64 libbdplus0 amd64 0.1.2-2 [46.6 kB]\n",
      "Get:135 http://archive.ubuntu.com/ubuntu artful-updates/universe amd64 mesa-va-drivers amd64 17.2.8-0ubuntu0~17.10.1 [1,532 kB]\n",
      "Get:136 http://archive.ubuntu.com/ubuntu artful-updates/main amd64 mesa-vdpau-drivers amd64 17.2.8-0ubuntu0~17.10.1 [1,658 kB]\n",
      "Get:137 http://archive.ubuntu.com/ubuntu artful/main amd64 tcpd amd64 7.6.q-26 [23.5 kB]\n",
      "Get:138 http://archive.ubuntu.com/ubuntu artful/universe amd64 i965-va-driver amd64 1.8.3-1ubuntu1 [633 kB]\n",
      "Get:139 http://archive.ubuntu.com/ubuntu artful/universe amd64 va-driver-all amd64 1.8.3-2 [4,294 B]\n",
      "Get:140 http://archive.ubuntu.com/ubuntu artful/main amd64 vdpau-driver-all amd64 1.1.1-3ubuntu1 [4,674 B]\n",
      "Get:141 http://archive.ubuntu.com/ubuntu artful/main amd64 libtxc-dxtn-s2tc amd64 1.0+git20151227-2 [48.4 kB]\n",
      "Fetched 60.1 MB in 7s (7,588 kB/s)\n",
      "Extracting templates from packages: 100%\n",
      "Selecting previously unselected package libgsm1:amd64.\n",
      "(Reading database ... 18305 files and directories currently installed.)\n",
      "Preparing to unpack .../000-libgsm1_1.0.13-4_amd64.deb ...\n",
      "Unpacking libgsm1:amd64 (1.0.13-4) ...\n",
      "Selecting previously unselected package libogg0:amd64.\n",
      "Preparing to unpack .../001-libogg0_1.3.2-1_amd64.deb ...\n"
     ]
    },
    {
     "name": "stdout",
     "output_type": "stream",
     "text": [
      "Unpacking libogg0:amd64 (1.3.2-1) ...\n",
      "Selecting previously unselected package libxinerama1:amd64.\n",
      "Preparing to unpack .../002-libxinerama1_2%3a1.1.3-1_amd64.deb ...\n",
      "Unpacking libxinerama1:amd64 (2:1.1.3-1) ...\n",
      "Selecting previously unselected package libxshmfence1:amd64.\n",
      "Preparing to unpack .../003-libxshmfence1_1.2-1_amd64.deb ...\n",
      "Unpacking libxshmfence1:amd64 (1.2-1) ...\n",
      "Selecting previously unselected package libxxf86vm1:amd64.\n",
      "Preparing to unpack .../004-libxxf86vm1_1%3a1.1.4-1_amd64.deb ...\n",
      "Unpacking libxxf86vm1:amd64 (1:1.1.4-1) ...\n",
      "Selecting previously unselected package libapparmor1:amd64.\n",
      "Preparing to unpack .../005-libapparmor1_2.11.0-2ubuntu17.1_amd64.deb ...\n",
      "Unpacking libapparmor1:amd64 (2.11.0-2ubuntu17.1) ...\n",
      "Selecting previously unselected package libdbus-1-3:amd64.\n",
      "Preparing to unpack .../006-libdbus-1-3_1.10.22-1ubuntu1_amd64.deb ...\n",
      "Unpacking libdbus-1-3:amd64 (1.10.22-1ubuntu1) ...\n",
      "Selecting previously unselected package dbus.\n",
      "Preparing to unpack .../007-dbus_1.10.22-1ubuntu1_amd64.deb ...\n",
      "Unpacking dbus (1.10.22-1ubuntu1) ...\n",
      "Selecting previously unselected package libelf1:amd64.\n",
      "Preparing to unpack .../008-libelf1_0.170-0.1_amd64.deb ...\n",
      "Unpacking libelf1:amd64 (0.170-0.1) ...\n",
      "Selecting previously unselected package libfribidi0:amd64.\n",
      "Preparing to unpack .../009-libfribidi0_0.19.7-1_amd64.deb ...\n",
      "Unpacking libfribidi0:amd64 (0.19.7-1) ...\n",
      "Selecting previously unselected package libslang2:amd64.\n",
      "Preparing to unpack .../010-libslang2_2.3.1-5ubuntu1_amd64.deb ...\n",
      "Unpacking libslang2:amd64 (2.3.1-5ubuntu1) ...\n",
      "Selecting previously unselected package xkb-data.\n",
      "Preparing to unpack .../011-xkb-data_2.19-1.1ubuntu1_all.deb ...\n",
      "Unpacking xkb-data (2.19-1.1ubuntu1) ...\n",
      "Selecting previously unselected package libdrm-common.\n",
      "Preparing to unpack .../012-libdrm-common_2.4.83-1_all.deb ...\n",
      "Unpacking libdrm-common (2.4.83-1) ...\n",
      "Selecting previously unselected package libdrm2:amd64.\n",
      "Preparing to unpack .../013-libdrm2_2.4.83-1_amd64.deb ...\n",
      "Unpacking libdrm2:amd64 (2.4.83-1) ...\n",
      "Selecting previously unselected package libnuma1:amd64.\n",
      "Preparing to unpack .../014-libnuma1_2.0.11-2.1_amd64.deb ...\n",
      "Unpacking libnuma1:amd64 (2.0.11-2.1) ...\n",
      "Selecting previously unselected package libusb-1.0-0:amd64.\n",
      "Preparing to unpack .../015-libusb-1.0-0_2%3a1.0.21-2_amd64.deb ...\n",
      "Unpacking libusb-1.0-0:amd64 (2:1.0.21-2) ...\n",
      "Selecting previously unselected package libva-drm1:amd64.\n",
      "Preparing to unpack .../016-libva-drm1_1.8.3-2_amd64.deb ...\n",
      "Unpacking libva-drm1:amd64 (1.8.3-2) ...\n",
      "Selecting previously unselected package libva1:amd64.\n",
      "Preparing to unpack .../017-libva1_1.8.3-2_amd64.deb ...\n",
      "Unpacking libva1:amd64 (1.8.3-2) ...\n",
      "Selecting previously unselected package libxfixes3:amd64.\n",
      "Preparing to unpack .../018-libxfixes3_1%3a5.0.3-1_amd64.deb ...\n",
      "Unpacking libxfixes3:amd64 (1:5.0.3-1) ...\n",
      "Selecting previously unselected package libva-x11-1:amd64.\n",
      "Preparing to unpack .../019-libva-x11-1_1.8.3-2_amd64.deb ...\n",
      "Unpacking libva-x11-1:amd64 (1.8.3-2) ...\n",
      "Selecting previously unselected package libvdpau1:amd64.\n",
      "Preparing to unpack .../020-libvdpau1_1.1.1-3ubuntu1_amd64.deb ...\n",
      "Unpacking libvdpau1:amd64 (1.1.1-3ubuntu1) ...\n",
      "Selecting previously unselected package libavutil55:amd64.\n",
      "Preparing to unpack .../021-libavutil55_7%3a3.3.4-2_amd64.deb ...\n",
      "Unpacking libavutil55:amd64 (7:3.3.4-2) ...\n",
      "Selecting previously unselected package libcrystalhd3:amd64.\n",
      "Preparing to unpack .../022-libcrystalhd3_1%3a0.0~git20110715.fdd2f19-12_amd64.deb ...\n",
      "Unpacking libcrystalhd3:amd64 (1:0.0~git20110715.fdd2f19-12) ...\n",
      "Selecting previously unselected package libmp3lame0:amd64.\n",
      "Preparing to unpack .../023-libmp3lame0_3.99.5+repack1-9build1_amd64.deb ...\n",
      "Unpacking libmp3lame0:amd64 (3.99.5+repack1-9build1) ...\n",
      "Selecting previously unselected package libopenjp2-7:amd64.\n",
      "Preparing to unpack .../024-libopenjp2-7_2.2.0-1_amd64.deb ...\n",
      "Unpacking libopenjp2-7:amd64 (2.2.0-1) ...\n",
      "Selecting previously unselected package libopus0:amd64.\n",
      "Preparing to unpack .../025-libopus0_1.1.2-1ubuntu1_amd64.deb ...\n",
      "Unpacking libopus0:amd64 (1.1.2-1ubuntu1) ...\n",
      "Selecting previously unselected package libshine3:amd64.\n",
      "Preparing to unpack .../026-libshine3_3.1.1-1_amd64.deb ...\n",
      "Unpacking libshine3:amd64 (3.1.1-1) ...\n",
      "Selecting previously unselected package libsnappy1v5:amd64.\n",
      "Preparing to unpack .../027-libsnappy1v5_1.1.6-4_amd64.deb ...\n",
      "Unpacking libsnappy1v5:amd64 (1.1.6-4) ...\n",
      "Selecting previously unselected package libspeex1:amd64.\n",
      "Preparing to unpack .../028-libspeex1_1.2~rc1.2-1ubuntu1_amd64.deb ...\n",
      "Unpacking libspeex1:amd64 (1.2~rc1.2-1ubuntu1) ...\n",
      "Selecting previously unselected package libsoxr0:amd64.\n",
      "Preparing to unpack .../029-libsoxr0_0.1.2-2_amd64.deb ...\n",
      "Unpacking libsoxr0:amd64 (0.1.2-2) ...\n",
      "Selecting previously unselected package libswresample2:amd64.\n",
      "Preparing to unpack .../030-libswresample2_7%3a3.3.4-2_amd64.deb ...\n",
      "Unpacking libswresample2:amd64 (7:3.3.4-2) ...\n",
      "Selecting previously unselected package libpixman-1-0:amd64.\n",
      "Preparing to unpack .../031-libpixman-1-0_0.34.0-1_amd64.deb ...\n",
      "Unpacking libpixman-1-0:amd64 (0.34.0-1) ...\n",
      "Selecting previously unselected package libxcb-render0:amd64.\n",
      "Preparing to unpack .../032-libxcb-render0_1.12-1ubuntu1_amd64.deb ...\n",
      "Unpacking libxcb-render0:amd64 (1.12-1ubuntu1) ...\n",
      "Selecting previously unselected package libxcb-shm0:amd64.\n",
      "Preparing to unpack .../033-libxcb-shm0_1.12-1ubuntu1_amd64.deb ...\n",
      "Unpacking libxcb-shm0:amd64 (1.12-1ubuntu1) ...\n",
      "Selecting previously unselected package libcairo2:amd64.\n",
      "Preparing to unpack .../034-libcairo2_1.14.10-1ubuntu1_amd64.deb ...\n",
      "Unpacking libcairo2:amd64 (1.14.10-1ubuntu1) ...\n",
      "Selecting previously unselected package libtheora0:amd64.\n",
      "Preparing to unpack .../035-libtheora0_1.1.1+dfsg.1-14_amd64.deb ...\n",
      "Unpacking libtheora0:amd64 (1.1.1+dfsg.1-14) ...\n",
      "Selecting previously unselected package libtwolame0:amd64.\n",
      "Preparing to unpack .../036-libtwolame0_0.3.13-2_amd64.deb ...\n",
      "Unpacking libtwolame0:amd64 (0.3.13-2) ...\n",
      "Selecting previously unselected package libvorbis0a:amd64.\n",
      "Preparing to unpack .../037-libvorbis0a_1.3.5-4ubuntu0.2_amd64.deb ...\n",
      "Unpacking libvorbis0a:amd64 (1.3.5-4ubuntu0.2) ...\n",
      "Selecting previously unselected package libvorbisenc2:amd64.\n",
      "Preparing to unpack .../038-libvorbisenc2_1.3.5-4ubuntu0.2_amd64.deb ...\n",
      "Unpacking libvorbisenc2:amd64 (1.3.5-4ubuntu0.2) ...\n",
      "Selecting previously unselected package libvpx4:amd64.\n",
      "Preparing to unpack .../039-libvpx4_1.6.1-3_amd64.deb ...\n",
      "Unpacking libvpx4:amd64 (1.6.1-3) ...\n",
      "Selecting previously unselected package libwavpack1:amd64.\n",
      "Preparing to unpack .../040-libwavpack1_5.1.0-2ubuntu0.3_amd64.deb ...\n",
      "Unpacking libwavpack1:amd64 (5.1.0-2ubuntu0.3) ...\n",
      "Selecting previously unselected package libwebp6:amd64.\n",
      "Preparing to unpack .../041-libwebp6_0.6.0-3_amd64.deb ...\n",
      "Unpacking libwebp6:amd64 (0.6.0-3) ...\n",
      "Selecting previously unselected package libwebpmux3:amd64.\n",
      "Preparing to unpack .../042-libwebpmux3_0.6.0-3_amd64.deb ...\n",
      "Unpacking libwebpmux3:amd64 (0.6.0-3) ...\n",
      "Selecting previously unselected package libx264-148:amd64.\n",
      "Preparing to unpack .../043-libx264-148_2%3a0.148.2795+gitaaa9aa8-1_amd64.deb ...\n",
      "Unpacking libx264-148:amd64 (2:0.148.2795+gitaaa9aa8-1) ...\n",
      "Selecting previously unselected package libx265-130:amd64.\n",
      "Preparing to unpack .../044-libx265-130_2.5-2_amd64.deb ...\n",
      "Unpacking libx265-130:amd64 (2.5-2) ...\n",
      "Selecting previously unselected package libxvidcore4:amd64.\n",
      "Preparing to unpack .../045-libxvidcore4_2%3a1.3.4-1_amd64.deb ...\n",
      "Unpacking libxvidcore4:amd64 (2:1.3.4-1) ...\n",
      "Selecting previously unselected package libzvbi-common.\n",
      "Preparing to unpack .../046-libzvbi-common_0.2.35-13_all.deb ...\n",
      "Unpacking libzvbi-common (0.2.35-13) ...\n",
      "Selecting previously unselected package libzvbi0:amd64.\n",
      "Preparing to unpack .../047-libzvbi0_0.2.35-13_amd64.deb ...\n",
      "Unpacking libzvbi0:amd64 (0.2.35-13) ...\n",
      "Selecting previously unselected package libavcodec57:amd64.\n",
      "Preparing to unpack .../048-libavcodec57_7%3a3.3.4-2_amd64.deb ...\n",
      "Unpacking libavcodec57:amd64 (7:3.3.4-2) ...\n",
      "Selecting previously unselected package libasound2-data.\n",
      "Preparing to unpack .../049-libasound2-data_1.1.3-5_all.deb ...\n",
      "Unpacking libasound2-data (1.1.3-5) ...\n",
      "Selecting previously unselected package libasound2:amd64.\n",
      "Preparing to unpack .../050-libasound2_1.1.3-5_amd64.deb ...\n",
      "Unpacking libasound2:amd64 (1.1.3-5) ...\n",
      "Selecting previously unselected package libraw1394-11:amd64.\n",
      "Preparing to unpack .../051-libraw1394-11_2.1.2-1_amd64.deb ...\n",
      "Unpacking libraw1394-11:amd64 (2.1.2-1) ...\n",
      "Selecting previously unselected package libavc1394-0:amd64.\n",
      "Preparing to unpack .../052-libavc1394-0_0.5.4-4_amd64.deb ...\n",
      "Unpacking libavc1394-0:amd64 (0.5.4-4) ...\n",
      "Selecting previously unselected package libgraphite2-3:amd64.\n",
      "Preparing to unpack .../053-libgraphite2-3_1.3.10-2_amd64.deb ...\n",
      "Unpacking libgraphite2-3:amd64 (1.3.10-2) ...\n",
      "Selecting previously unselected package libharfbuzz0b:amd64.\n",
      "Preparing to unpack .../054-libharfbuzz0b_1.4.2-1_amd64.deb ...\n",
      "Unpacking libharfbuzz0b:amd64 (1.4.2-1) ...\n",
      "Selecting previously unselected package libass9:amd64.\n",
      "Preparing to unpack .../055-libass9_1%3a0.13.7-2_amd64.deb ...\n",
      "Unpacking libass9:amd64 (1:0.13.7-2) ...\n",
      "Selecting previously unselected package libbluray2:amd64.\n",
      "Preparing to unpack .../056-libbluray2_1%3a1.0.1.deb1-2_amd64.deb ...\n",
      "Unpacking libbluray2:amd64 (1:1.0.1.deb1-2) ...\n",
      "Selecting previously unselected package libchromaprint1:amd64.\n",
      "Preparing to unpack .../057-libchromaprint1_1.4.2-1_amd64.deb ...\n",
      "Unpacking libchromaprint1:amd64 (1.4.2-1) ...\n",
      "Selecting previously unselected package libgme0:amd64.\n",
      "Preparing to unpack .../058-libgme0_0.6.1-1_amd64.deb ...\n",
      "Unpacking libgme0:amd64 (0.6.1-1) ...\n",
      "Selecting previously unselected package libmpg123-0:amd64.\n",
      "Preparing to unpack .../059-libmpg123-0_1.25.6-1_amd64.deb ...\n",
      "Unpacking libmpg123-0:amd64 (1.25.6-1) ...\n",
      "Selecting previously unselected package libvorbisfile3:amd64.\n",
      "Preparing to unpack .../060-libvorbisfile3_1.3.5-4ubuntu0.2_amd64.deb ...\n",
      "Unpacking libvorbisfile3:amd64 (1.3.5-4ubuntu0.2) ...\n",
      "Selecting previously unselected package libopenmpt0:amd64.\n",
      "Preparing to unpack .../061-libopenmpt0_0.2.8760~beta27-1_amd64.deb ...\n",
      "Unpacking libopenmpt0:amd64 (0.2.8760~beta27-1) ...\n"
     ]
    },
    {
     "name": "stdout",
     "output_type": "stream",
     "text": [
      "Selecting previously unselected package libssh-gcrypt-4:amd64.\n",
      "Preparing to unpack .../062-libssh-gcrypt-4_0.7.5-1_amd64.deb ...\n",
      "Unpacking libssh-gcrypt-4:amd64 (0.7.5-1) ...\n",
      "Selecting previously unselected package libavformat57:amd64.\n",
      "Preparing to unpack .../063-libavformat57_7%3a3.3.4-2_amd64.deb ...\n",
      "Unpacking libavformat57:amd64 (7:3.3.4-2) ...\n",
      "Selecting previously unselected package libavresample3:amd64.\n",
      "Preparing to unpack .../064-libavresample3_7%3a3.3.4-2_amd64.deb ...\n",
      "Unpacking libavresample3:amd64 (7:3.3.4-2) ...\n",
      "Selecting previously unselected package libbs2b0:amd64.\n",
      "Preparing to unpack .../065-libbs2b0_3.1.0+dfsg-2.2_amd64.deb ...\n",
      "Unpacking libbs2b0:amd64 (3.1.0+dfsg-2.2) ...\n",
      "Selecting previously unselected package libflite1:amd64.\n",
      "Preparing to unpack .../066-libflite1_2.0.0-release-4_amd64.deb ...\n",
      "Unpacking libflite1:amd64 (2.0.0-release-4) ...\n",
      "Selecting previously unselected package libtbb2:amd64.\n",
      "Preparing to unpack .../067-libtbb2_2017~U7-6_amd64.deb ...\n",
      "Unpacking libtbb2:amd64 (2017~U7-6) ...\n",
      "Selecting previously unselected package libopencv-core3.1:amd64.\n",
      "Preparing to unpack .../068-libopencv-core3.1_3.1.0+dfsg1-1~exp1ubuntu3_amd64.deb ...\n",
      "Unpacking libopencv-core3.1:amd64 (3.1.0+dfsg1-1~exp1ubuntu3) ...\n",
      "Selecting previously unselected package libopencv-imgproc3.1:amd64.\n",
      "Preparing to unpack .../069-libopencv-imgproc3.1_3.1.0+dfsg1-1~exp1ubuntu3_amd64.deb ...\n",
      "Unpacking libopencv-imgproc3.1:amd64 (3.1.0+dfsg1-1~exp1ubuntu3) ...\n",
      "Selecting previously unselected package libpostproc54:amd64.\n",
      "Preparing to unpack .../070-libpostproc54_7%3a3.3.4-2_amd64.deb ...\n",
      "Unpacking libpostproc54:amd64 (7:3.3.4-2) ...\n",
      "Selecting previously unselected package libfftw3-double3:amd64.\n",
      "Preparing to unpack .../071-libfftw3-double3_3.3.6p2-1_amd64.deb ...\n",
      "Unpacking libfftw3-double3:amd64 (3.3.6p2-1) ...\n",
      "Selecting previously unselected package libsamplerate0:amd64.\n",
      "Preparing to unpack .../072-libsamplerate0_0.1.9-1_amd64.deb ...\n",
      "Unpacking libsamplerate0:amd64 (0.1.9-1) ...\n",
      "Selecting previously unselected package librubberband2v5:amd64.\n",
      "Preparing to unpack .../073-librubberband2v5_1.8.1-6ubuntu2_amd64.deb ...\n",
      "Unpacking librubberband2v5:amd64 (1.8.1-6ubuntu2) ...\n",
      "Selecting previously unselected package libswscale4:amd64.\n",
      "Preparing to unpack .../074-libswscale4_7%3a3.3.4-2_amd64.deb ...\n",
      "Unpacking libswscale4:amd64 (7:3.3.4-2) ...\n",
      "Selecting previously unselected package libavfilter6:amd64.\n",
      "Preparing to unpack .../075-libavfilter6_7%3a3.3.4-2_amd64.deb ...\n",
      "Unpacking libavfilter6:amd64 (7:3.3.4-2) ...\n",
      "Selecting previously unselected package libcaca0:amd64.\n",
      "Preparing to unpack .../076-libcaca0_0.99.beta19-2build2~gcc5.2_amd64.deb ...\n",
      "Unpacking libcaca0:amd64 (0.99.beta19-2build2~gcc5.2) ...\n",
      "Selecting previously unselected package libcdio13:amd64.\n",
      "Preparing to unpack .../077-libcdio13_0.83-4.2ubuntu1_amd64.deb ...\n",
      "Unpacking libcdio13:amd64 (0.83-4.2ubuntu1) ...\n",
      "Selecting previously unselected package libcdio-cdda1:amd64.\n",
      "Preparing to unpack .../078-libcdio-cdda1_0.83-4.2ubuntu1_amd64.deb ...\n",
      "Unpacking libcdio-cdda1:amd64 (0.83-4.2ubuntu1) ...\n",
      "Selecting previously unselected package libcdio-paranoia1:amd64.\n",
      "Preparing to unpack .../079-libcdio-paranoia1_0.83-4.2ubuntu1_amd64.deb ...\n",
      "Unpacking libcdio-paranoia1:amd64 (0.83-4.2ubuntu1) ...\n",
      "Selecting previously unselected package libdc1394-22:amd64.\n",
      "Preparing to unpack .../080-libdc1394-22_2.2.5-1_amd64.deb ...\n",
      "Unpacking libdc1394-22:amd64 (2.2.5-1) ...\n",
      "Selecting previously unselected package libglapi-mesa:amd64.\n",
      "Preparing to unpack .../081-libglapi-mesa_17.2.8-0ubuntu0~17.10.1_amd64.deb ...\n",
      "Unpacking libglapi-mesa:amd64 (17.2.8-0ubuntu0~17.10.1) ...\n",
      "Selecting previously unselected package libx11-xcb1:amd64.\n",
      "Preparing to unpack .../082-libx11-xcb1_2%3a1.6.4-3_amd64.deb ...\n",
      "Unpacking libx11-xcb1:amd64 (2:1.6.4-3) ...\n",
      "Selecting previously unselected package libxcb-dri2-0:amd64.\n",
      "Preparing to unpack .../083-libxcb-dri2-0_1.12-1ubuntu1_amd64.deb ...\n",
      "Unpacking libxcb-dri2-0:amd64 (1.12-1ubuntu1) ...\n",
      "Selecting previously unselected package libxcb-dri3-0:amd64.\n",
      "Preparing to unpack .../084-libxcb-dri3-0_1.12-1ubuntu1_amd64.deb ...\n",
      "Unpacking libxcb-dri3-0:amd64 (1.12-1ubuntu1) ...\n",
      "Selecting previously unselected package libxcb-glx0:amd64.\n",
      "Preparing to unpack .../085-libxcb-glx0_1.12-1ubuntu1_amd64.deb ...\n",
      "Unpacking libxcb-glx0:amd64 (1.12-1ubuntu1) ...\n",
      "Selecting previously unselected package libxcb-present0:amd64.\n",
      "Preparing to unpack .../086-libxcb-present0_1.12-1ubuntu1_amd64.deb ...\n",
      "Unpacking libxcb-present0:amd64 (1.12-1ubuntu1) ...\n",
      "Selecting previously unselected package libxcb-sync1:amd64.\n",
      "Preparing to unpack .../087-libxcb-sync1_1.12-1ubuntu1_amd64.deb ...\n",
      "Unpacking libxcb-sync1:amd64 (1.12-1ubuntu1) ...\n",
      "Selecting previously unselected package libxdamage1:amd64.\n",
      "Preparing to unpack .../088-libxdamage1_1%3a1.1.4-3_amd64.deb ...\n",
      "Unpacking libxdamage1:amd64 (1:1.1.4-3) ...\n",
      "Selecting previously unselected package libdrm-amdgpu1:amd64.\n",
      "Preparing to unpack .../089-libdrm-amdgpu1_2.4.83-1_amd64.deb ...\n",
      "Unpacking libdrm-amdgpu1:amd64 (2.4.83-1) ...\n",
      "Selecting previously unselected package libpciaccess0:amd64.\n",
      "Preparing to unpack .../090-libpciaccess0_0.13.4-1ubuntu1_amd64.deb ...\n",
      "Unpacking libpciaccess0:amd64 (0.13.4-1ubuntu1) ...\n",
      "Selecting previously unselected package libdrm-intel1:amd64.\n",
      "Preparing to unpack .../091-libdrm-intel1_2.4.83-1_amd64.deb ...\n",
      "Unpacking libdrm-intel1:amd64 (2.4.83-1) ...\n",
      "Selecting previously unselected package libdrm-nouveau2:amd64.\n",
      "Preparing to unpack .../092-libdrm-nouveau2_2.4.83-1_amd64.deb ...\n",
      "Unpacking libdrm-nouveau2:amd64 (2.4.83-1) ...\n",
      "Selecting previously unselected package libdrm-radeon1:amd64.\n",
      "Preparing to unpack .../093-libdrm-radeon1_2.4.83-1_amd64.deb ...\n",
      "Unpacking libdrm-radeon1:amd64 (2.4.83-1) ...\n",
      "Selecting previously unselected package libllvm5.0:amd64.\n",
      "Preparing to unpack .../094-libllvm5.0_1%3a5.0-3_amd64.deb ...\n",
      "Unpacking libllvm5.0:amd64 (1:5.0-3) ...\n",
      "Selecting previously unselected package libsensors4:amd64.\n",
      "Preparing to unpack .../095-libsensors4_1%3a3.4.0-4_amd64.deb ...\n",
      "Unpacking libsensors4:amd64 (1:3.4.0-4) ...\n",
      "Selecting previously unselected package libgl1-mesa-dri:amd64.\n",
      "Preparing to unpack .../096-libgl1-mesa-dri_17.2.8-0ubuntu0~17.10.1_amd64.deb ...\n",
      "Unpacking libgl1-mesa-dri:amd64 (17.2.8-0ubuntu0~17.10.1) ...\n",
      "Selecting previously unselected package libgl1-mesa-glx:amd64.\n",
      "Preparing to unpack .../097-libgl1-mesa-glx_17.2.8-0ubuntu0~17.10.1_amd64.deb ...\n",
      "Unpacking libgl1-mesa-glx:amd64 (17.2.8-0ubuntu0~17.10.1) ...\n",
      "Selecting previously unselected package libiec61883-0:amd64.\n",
      "Preparing to unpack .../098-libiec61883-0_1.2.0-2_amd64.deb ...\n",
      "Unpacking libiec61883-0:amd64 (1.2.0-2) ...\n",
      "Selecting previously unselected package libjack-jackd2-0:amd64.\n",
      "Preparing to unpack .../099-libjack-jackd2-0_1.9.10+20150825git1ed50c92~dfsg-5ubuntu1_amd64.deb ...\n",
      "Unpacking libjack-jackd2-0:amd64 (1.9.10+20150825git1ed50c92~dfsg-5ubuntu1) ...\n",
      "Selecting previously unselected package libopenal-data.\n",
      "Preparing to unpack .../100-libopenal-data_1%3a1.17.2-4_all.deb ...\n",
      "Unpacking libopenal-data (1:1.17.2-4) ...\n",
      "Selecting previously unselected package libsndio6.1:amd64.\n",
      "Preparing to unpack .../101-libsndio6.1_1.1.0-3_amd64.deb ...\n",
      "Unpacking libsndio6.1:amd64 (1.1.0-3) ...\n",
      "Selecting previously unselected package libopenal1:amd64.\n",
      "Preparing to unpack .../102-libopenal1_1%3a1.17.2-4_amd64.deb ...\n",
      "Unpacking libopenal1:amd64 (1:1.17.2-4) ...\n",
      "Selecting previously unselected package libasyncns0:amd64.\n",
      "Preparing to unpack .../103-libasyncns0_0.8-6_amd64.deb ...\n",
      "Unpacking libasyncns0:amd64 (0.8-6) ...\n",
      "Selecting previously unselected package libflac8:amd64.\n",
      "Preparing to unpack .../104-libflac8_1.3.2-1_amd64.deb ...\n",
      "Unpacking libflac8:amd64 (1.3.2-1) ...\n",
      "Selecting previously unselected package libsndfile1:amd64.\n",
      "Preparing to unpack .../105-libsndfile1_1.0.28-4_amd64.deb ...\n",
      "Unpacking libsndfile1:amd64 (1.0.28-4) ...\n",
      "Selecting previously unselected package libwrap0:amd64.\n",
      "Preparing to unpack .../106-libwrap0_7.6.q-26_amd64.deb ...\n",
      "Unpacking libwrap0:amd64 (7.6.q-26) ...\n",
      "Selecting previously unselected package libpulse0:amd64.\n",
      "Preparing to unpack .../107-libpulse0_1%3a10.0-2ubuntu3.1_amd64.deb ...\n",
      "Unpacking libpulse0:amd64 (1:10.0-2ubuntu3.1) ...\n",
      "Selecting previously unselected package libwayland-client0:amd64.\n",
      "Preparing to unpack .../108-libwayland-client0_1.14.0-1ubuntu0.1_amd64.deb ...\n",
      "Unpacking libwayland-client0:amd64 (1.14.0-1ubuntu0.1) ...\n",
      "Selecting previously unselected package libwayland-cursor0:amd64.\n",
      "Preparing to unpack .../109-libwayland-cursor0_1.14.0-1ubuntu0.1_amd64.deb ...\n",
      "Unpacking libwayland-cursor0:amd64 (1.14.0-1ubuntu0.1) ...\n",
      "Selecting previously unselected package libwayland-server0:amd64.\n",
      "Preparing to unpack .../110-libwayland-server0_1.14.0-1ubuntu0.1_amd64.deb ...\n",
      "Unpacking libwayland-server0:amd64 (1.14.0-1ubuntu0.1) ...\n",
      "Selecting previously unselected package libgbm1:amd64.\n",
      "Preparing to unpack .../111-libgbm1_17.2.8-0ubuntu0~17.10.1_amd64.deb ...\n",
      "Unpacking libgbm1:amd64 (17.2.8-0ubuntu0~17.10.1) ...\n",
      "Selecting previously unselected package libboost-system1.62.0:amd64.\n",
      "Preparing to unpack .../112-libboost-system1.62.0_1.62.0+dfsg-4build3_amd64.deb ...\n",
      "Unpacking libboost-system1.62.0:amd64 (1.62.0+dfsg-4build3) ...\n",
      "Selecting previously unselected package libcapnp-0.5.3:amd64.\n",
      "Preparing to unpack .../113-libcapnp-0.5.3_0.5.3-2ubuntu2_amd64.deb ...\n",
      "Unpacking libcapnp-0.5.3:amd64 (0.5.3-2ubuntu2) ...\n",
      "Selecting previously unselected package libboost-filesystem1.62.0:amd64.\n",
      "Preparing to unpack .../114-libboost-filesystem1.62.0_1.62.0+dfsg-4build3_amd64.deb ...\n",
      "Unpacking libboost-filesystem1.62.0:amd64 (1.62.0+dfsg-4build3) ...\n",
      "Selecting previously unselected package libmircore1:amd64.\n",
      "Preparing to unpack .../115-libmircore1_0.28.0+17.10.20171011.1-0ubuntu1_amd64.deb ...\n",
      "Unpacking libmircore1:amd64 (0.28.0+17.10.20171011.1-0ubuntu1) ...\n",
      "Selecting previously unselected package libmircommon7:amd64.\n",
      "Preparing to unpack .../116-libmircommon7_0.28.0+17.10.20171011.1-0ubuntu1_amd64.deb ...\n",
      "Unpacking libmircommon7:amd64 (0.28.0+17.10.20171011.1-0ubuntu1) ...\n",
      "Selecting previously unselected package libprotobuf-lite10:amd64.\n",
      "Preparing to unpack .../117-libprotobuf-lite10_3.0.0-9ubuntu5_amd64.deb ...\n",
      "Unpacking libprotobuf-lite10:amd64 (3.0.0-9ubuntu5) ...\n",
      "Selecting previously unselected package libmirprotobuf3:amd64.\n",
      "Preparing to unpack .../118-libmirprotobuf3_0.28.0+17.10.20171011.1-0ubuntu1_amd64.deb ...\n",
      "Unpacking libmirprotobuf3:amd64 (0.28.0+17.10.20171011.1-0ubuntu1) ...\n",
      "Selecting previously unselected package libxkbcommon0:amd64.\n",
      "Preparing to unpack .../119-libxkbcommon0_0.7.1-2_amd64.deb ...\n",
      "Unpacking libxkbcommon0:amd64 (0.7.1-2) ...\n",
      "Selecting previously unselected package libmirclient9:amd64.\n",
      "Preparing to unpack .../120-libmirclient9_0.28.0+17.10.20171011.1-0ubuntu1_amd64.deb ...\n",
      "Unpacking libmirclient9:amd64 (0.28.0+17.10.20171011.1-0ubuntu1) ...\n"
     ]
    },
    {
     "name": "stdout",
     "output_type": "stream",
     "text": [
      "Selecting previously unselected package libxcb-xfixes0:amd64.\n",
      "Preparing to unpack .../121-libxcb-xfixes0_1.12-1ubuntu1_amd64.deb ...\n",
      "Unpacking libxcb-xfixes0:amd64 (1.12-1ubuntu1) ...\n",
      "Selecting previously unselected package libegl1-mesa:amd64.\n",
      "Preparing to unpack .../122-libegl1-mesa_17.2.8-0ubuntu0~17.10.1_amd64.deb ...\n",
      "Unpacking libegl1-mesa:amd64 (17.2.8-0ubuntu0~17.10.1) ...\n",
      "Selecting previously unselected package libwayland-egl1-mesa:amd64.\n",
      "Preparing to unpack .../123-libwayland-egl1-mesa_17.2.8-0ubuntu0~17.10.1_amd64.deb ...\n",
      "Unpacking libwayland-egl1-mesa:amd64 (17.2.8-0ubuntu0~17.10.1) ...\n",
      "Selecting previously unselected package libxcursor1:amd64.\n",
      "Preparing to unpack .../124-libxcursor1_1%3a1.1.14-3ubuntu0.1_amd64.deb ...\n",
      "Unpacking libxcursor1:amd64 (1:1.1.14-3ubuntu0.1) ...\n",
      "Selecting previously unselected package libxi6:amd64.\n",
      "Preparing to unpack .../125-libxi6_2%3a1.7.9-1_amd64.deb ...\n",
      "Unpacking libxi6:amd64 (2:1.7.9-1) ...\n",
      "Selecting previously unselected package libxrandr2:amd64.\n",
      "Preparing to unpack .../126-libxrandr2_2%3a1.5.1-1_amd64.deb ...\n",
      "Unpacking libxrandr2:amd64 (2:1.5.1-1) ...\n",
      "Selecting previously unselected package libsdl2-2.0-0:amd64.\n",
      "Preparing to unpack .../127-libsdl2-2.0-0_2.0.6+dfsg1-3ubuntu1_amd64.deb ...\n",
      "Unpacking libsdl2-2.0-0:amd64 (2.0.6+dfsg1-3ubuntu1) ...\n",
      "Selecting previously unselected package libxcb-shape0:amd64.\n",
      "Preparing to unpack .../128-libxcb-shape0_1.12-1ubuntu1_amd64.deb ...\n",
      "Unpacking libxcb-shape0:amd64 (1.12-1ubuntu1) ...\n",
      "Selecting previously unselected package libxv1:amd64.\n",
      "Preparing to unpack .../129-libxv1_2%3a1.0.11-1_amd64.deb ...\n",
      "Unpacking libxv1:amd64 (2:1.0.11-1) ...\n",
      "Selecting previously unselected package libavdevice57:amd64.\n",
      "Preparing to unpack .../130-libavdevice57_7%3a3.3.4-2_amd64.deb ...\n",
      "Unpacking libavdevice57:amd64 (7:3.3.4-2) ...\n",
      "Selecting previously unselected package ffmpeg.\n",
      "Preparing to unpack .../131-ffmpeg_7%3a3.3.4-2_amd64.deb ...\n",
      "Unpacking ffmpeg (7:3.3.4-2) ...\n",
      "Selecting previously unselected package libaacs0:amd64.\n",
      "Preparing to unpack .../132-libaacs0_0.9.0-1_amd64.deb ...\n",
      "Unpacking libaacs0:amd64 (0.9.0-1) ...\n",
      "Selecting previously unselected package libbdplus0:amd64.\n",
      "Preparing to unpack .../133-libbdplus0_0.1.2-2_amd64.deb ...\n",
      "Unpacking libbdplus0:amd64 (0.1.2-2) ...\n",
      "Selecting previously unselected package mesa-va-drivers:amd64.\n",
      "Preparing to unpack .../134-mesa-va-drivers_17.2.8-0ubuntu0~17.10.1_amd64.deb ...\n",
      "Unpacking mesa-va-drivers:amd64 (17.2.8-0ubuntu0~17.10.1) ...\n",
      "Selecting previously unselected package mesa-vdpau-drivers:amd64.\n",
      "Preparing to unpack .../135-mesa-vdpau-drivers_17.2.8-0ubuntu0~17.10.1_amd64.deb ...\n",
      "Unpacking mesa-vdpau-drivers:amd64 (17.2.8-0ubuntu0~17.10.1) ...\n",
      "Selecting previously unselected package tcpd.\n",
      "Preparing to unpack .../136-tcpd_7.6.q-26_amd64.deb ...\n",
      "Unpacking tcpd (7.6.q-26) ...\n",
      "Selecting previously unselected package i965-va-driver:amd64.\n",
      "Preparing to unpack .../137-i965-va-driver_1.8.3-1ubuntu1_amd64.deb ...\n",
      "Unpacking i965-va-driver:amd64 (1.8.3-1ubuntu1) ...\n",
      "Selecting previously unselected package va-driver-all:amd64.\n",
      "Preparing to unpack .../138-va-driver-all_1.8.3-2_amd64.deb ...\n",
      "Unpacking va-driver-all:amd64 (1.8.3-2) ...\n",
      "Selecting previously unselected package vdpau-driver-all:amd64.\n",
      "Preparing to unpack .../139-vdpau-driver-all_1.1.1-3ubuntu1_amd64.deb ...\n",
      "Unpacking vdpau-driver-all:amd64 (1.1.1-3ubuntu1) ...\n",
      "Selecting previously unselected package libtxc-dxtn-s2tc:amd64.\n",
      "Preparing to unpack .../140-libtxc-dxtn-s2tc_1.0+git20151227-2_amd64.deb ...\n",
      "Unpacking libtxc-dxtn-s2tc:amd64 (1.0+git20151227-2) ...\n",
      "Setting up libxi6:amd64 (2:1.7.9-1) ...\n",
      "Setting up libxcb-present0:amd64 (1.12-1ubuntu1) ...\n",
      "Setting up libxinerama1:amd64 (2:1.1.3-1) ...\n",
      "Setting up libxcb-dri2-0:amd64 (1.12-1ubuntu1) ...\n",
      "Setting up libxcb-dri3-0:amd64 (1.12-1ubuntu1) ...\n",
      "Setting up libxcb-glx0:amd64 (1.12-1ubuntu1) ...\n",
      "Setting up libtwolame0:amd64 (0.3.13-2) ...\n",
      "Setting up libraw1394-11:amd64 (2.1.2-1) ...\n",
      "Setting up libxcb-xfixes0:amd64 (1.12-1ubuntu1) ...\n",
      "Setting up libxcb-render0:amd64 (1.12-1ubuntu1) ...\n",
      "Setting up libopenjp2-7:amd64 (2.2.0-1) ...\n",
      "Setting up libasyncns0:amd64 (0.8-6) ...\n",
      "Setting up libcdio13:amd64 (0.83-4.2ubuntu1) ...\n",
      "Setting up libx264-148:amd64 (2:0.148.2795+gitaaa9aa8-1) ...\n",
      "Setting up libxdamage1:amd64 (1:1.1.4-3) ...\n",
      "Setting up libxfixes3:amd64 (1:5.0.3-1) ...\n",
      "Setting up libwavpack1:amd64 (5.1.0-2ubuntu0.3) ...\n",
      "Setting up libaacs0:amd64 (0.9.0-1) ...\n",
      "Setting up libnuma1:amd64 (2.0.11-2.1) ...\n",
      "Setting up libtbb2:amd64 (2017~U7-6) ...\n",
      "Setting up libelf1:amd64 (0.170-0.1) ...\n",
      "Setting up libcdio-cdda1:amd64 (0.83-4.2ubuntu1) ...\n",
      "Setting up libsoxr0:amd64 (0.1.2-2) ...\n",
      "Setting up libssh-gcrypt-4:amd64 (0.7.5-1) ...\n",
      "Setting up libasound2-data (1.1.3-5) ...\n",
      "Setting up libxshmfence1:amd64 (1.2-1) ...\n",
      "Setting up libwayland-client0:amd64 (1.14.0-1ubuntu0.1) ...\n",
      "Setting up xkb-data (2.19-1.1ubuntu1) ...\n",
      "Setting up libcapnp-0.5.3:amd64 (0.5.3-2ubuntu2) ...\n",
      "Setting up libbluray2:amd64 (1:1.0.1.deb1-2) ...\n",
      "Setting up libvdpau1:amd64 (1.1.1-3ubuntu1) ...\n",
      "Setting up libllvm5.0:amd64 (1:5.0-3) ...\n",
      "Setting up libshine3:amd64 (3.1.1-1) ...\n",
      "Setting up libtxc-dxtn-s2tc:amd64 (1.0+git20151227-2) ...\n",
      "update-alternatives: using /usr/lib/x86_64-linux-gnu/s2tc/libtxc_dxtn.so to provide /usr/lib/x86_64-linux-gnu/libtxc_dxtn.so (libtxc-dxtn-x86_64-linux-gnu) in auto mode\n",
      "Setting up libiec61883-0:amd64 (1.2.0-2) ...\n",
      "Setting up libglapi-mesa:amd64 (17.2.8-0ubuntu0~17.10.1) ...\n",
      "Setting up libspeex1:amd64 (1.2~rc1.2-1ubuntu1) ...\n",
      "Setting up libfftw3-double3:amd64 (3.3.6p2-1) ...\n",
      "Setting up libxvidcore4:amd64 (2:1.3.4-1) ...\n",
      "Setting up libvpx4:amd64 (1.6.1-3) ...\n",
      "Setting up libopus0:amd64 (1.1.2-1ubuntu1) ...\n",
      "Setting up libva1:amd64 (1.8.3-2) ...\n",
      "Setting up libasound2:amd64 (1.1.3-5) ...\n",
      "Setting up libopenal-data (1:1.17.2-4) ...\n",
      "Setting up libdrm-common (2.4.83-1) ...\n",
      "Setting up libgraphite2-3:amd64 (1.3.10-2) ...\n",
      "Setting up libbs2b0:amd64 (3.1.0+dfsg-2.2) ...\n",
      "Setting up libxcb-sync1:amd64 (1.12-1ubuntu1) ...\n",
      "Setting up libogg0:amd64 (1.3.2-1) ...\n",
      "Setting up libx11-xcb1:amd64 (2:1.6.4-3) ...\n",
      "Setting up libpixman-1-0:amd64 (0.34.0-1) ...\n",
      "Setting up libmp3lame0:amd64 (3.99.5+repack1-9build1) ...\n",
      "Setting up libxcursor1:amd64 (1:1.1.14-3ubuntu0.1) ...\n",
      "Setting up libusb-1.0-0:amd64 (2:1.0.21-2) ...\n",
      "Setting up libcrystalhd3:amd64 (1:0.0~git20110715.fdd2f19-12) ...\n",
      "Processing triggers for libc-bin (2.26-0ubuntu2.1) ...\n",
      "Setting up libapparmor1:amd64 (2.11.0-2ubuntu17.1) ...\n",
      "Setting up libsnappy1v5:amd64 (1.1.6-4) ...\n",
      "Setting up libavc1394-0:amd64 (0.5.4-4) ...\n",
      "Setting up libx265-130:amd64 (2.5-2) ...\n",
      "Setting up libzvbi-common (0.2.35-13) ...\n",
      "Setting up libfribidi0:amd64 (0.19.7-1) ...\n",
      "Setting up libxcb-shm0:amd64 (1.12-1ubuntu1) ...\n",
      "Setting up libxcb-shape0:amd64 (1.12-1ubuntu1) ...\n",
      "Setting up libpciaccess0:amd64 (0.13.4-1ubuntu1) ...\n",
      "Setting up libxv1:amd64 (2:1.0.11-1) ...\n",
      "Setting up libsensors4:amd64 (1:3.4.0-4) ...\n",
      "Setting up libxkbcommon0:amd64 (0.7.1-2) ...\n",
      "Setting up libcdio-paranoia1:amd64 (0.83-4.2ubuntu1) ...\n",
      "Setting up libgme0:amd64 (0.6.1-1) ...\n",
      "Setting up libbdplus0:amd64 (0.1.2-2) ...\n",
      "Setting up libxxf86vm1:amd64 (1:1.1.4-1) ...\n",
      "Setting up libzvbi0:amd64 (0.2.35-13) ...\n",
      "Setting up libsamplerate0:amd64 (0.1.9-1) ...\n",
      "Setting up libsndio6.1:amd64 (1.1.0-3) ...\n",
      "Setting up libvorbis0a:amd64 (1.3.5-4ubuntu0.2) ...\n",
      "Setting up libprotobuf-lite10:amd64 (3.0.0-9ubuntu5) ...\n",
      "Setting up libmpg123-0:amd64 (1.25.6-1) ...\n",
      "Setting up libslang2:amd64 (2.3.1-5ubuntu1) ...\n",
      "Setting up libwayland-cursor0:amd64 (1.14.0-1ubuntu0.1) ...\n",
      "Setting up libgsm1:amd64 (1.0.13-4) ...\n",
      "Setting up libxrandr2:amd64 (2:1.5.1-1) ...\n",
      "Setting up libdbus-1-3:amd64 (1.10.22-1ubuntu1) ...\n",
      "Setting up libboost-system1.62.0:amd64 (1.62.0+dfsg-4build3) ...\n",
      "Setting up libwrap0:amd64 (7.6.q-26) ...\n",
      "Setting up libwayland-server0:amd64 (1.14.0-1ubuntu0.1) ...\n",
      "Setting up libwebp6:amd64 (0.6.0-3) ...\n",
      "Setting up libvorbisfile3:amd64 (1.3.5-4ubuntu0.2) ...\n",
      "Setting up libcairo2:amd64 (1.14.10-1ubuntu1) ...\n",
      "Setting up libopencv-core3.1:amd64 (3.1.0+dfsg1-1~exp1ubuntu3) ...\n",
      "Setting up libopenmpt0:amd64 (0.2.8760~beta27-1) ...\n",
      "Setting up libmirprotobuf3:amd64 (0.28.0+17.10.20171011.1-0ubuntu1) ...\n",
      "Setting up libflite1:amd64 (2.0.0-release-4) ...\n",
      "Setting up libflac8:amd64 (1.3.2-1) ...\n",
      "Setting up libharfbuzz0b:amd64 (1.4.2-1) ...\n",
      "Setting up libdc1394-22:amd64 (2.2.5-1) ...\n",
      "Setting up tcpd (7.6.q-26) ...\n",
      "Setting up libdrm2:amd64 (2.4.83-1) ...\n",
      "Setting up libdrm-intel1:amd64 (2.4.83-1) ...\n",
      "Setting up libwebpmux3:amd64 (0.6.0-3) ...\n",
      "Setting up libopencv-imgproc3.1:amd64 (3.1.0+dfsg1-1~exp1ubuntu3) ...\n",
      "Setting up libboost-filesystem1.62.0:amd64 (1.62.0+dfsg-4build3) ...\n",
      "Setting up libjack-jackd2-0:amd64 (1.9.10+20150825git1ed50c92~dfsg-5ubuntu1) ...\n",
      "Setting up libopenal1:amd64 (1:1.17.2-4) ...\n",
      "Setting up libva-drm1:amd64 (1.8.3-2) ...\n",
      "Setting up libdrm-radeon1:amd64 (2.4.83-1) ...\n",
      "Setting up librubberband2v5:amd64 (1.8.1-6ubuntu2) ...\n",
      "Setting up dbus (1.10.22-1ubuntu1) ...\n",
      "Setting up libvorbisenc2:amd64 (1.3.5-4ubuntu0.2) ...\n",
      "Setting up libdrm-nouveau2:amd64 (2.4.83-1) ...\n",
      "Setting up libcaca0:amd64 (0.99.beta19-2build2~gcc5.2) ...\n",
      "Setting up libmircore1:amd64 (0.28.0+17.10.20171011.1-0ubuntu1) ...\n",
      "Setting up libtheora0:amd64 (1.1.1+dfsg.1-14) ...\n",
      "Setting up libva-x11-1:amd64 (1.8.3-2) ...\n",
      "Setting up libavutil55:amd64 (7:3.3.4-2) ...\n",
      "Setting up libdrm-amdgpu1:amd64 (2.4.83-1) ...\n",
      "Setting up mesa-vdpau-drivers:amd64 (17.2.8-0ubuntu0~17.10.1) ...\n",
      "Setting up libgbm1:amd64 (17.2.8-0ubuntu0~17.10.1) ...\n",
      "Setting up libass9:amd64 (1:0.13.7-2) ...\n",
      "Setting up libgl1-mesa-dri:amd64 (17.2.8-0ubuntu0~17.10.1) ...\n"
     ]
    },
    {
     "name": "stdout",
     "output_type": "stream",
     "text": [
      "Setting up libswresample2:amd64 (7:3.3.4-2) ...\r\n",
      "Setting up libsndfile1:amd64 (1.0.28-4) ...\n",
      "Setting up i965-va-driver:amd64 (1.8.3-1ubuntu1) ...\n",
      "Setting up libgl1-mesa-glx:amd64 (17.2.8-0ubuntu0~17.10.1) ...\n",
      "update-alternatives: using /usr/lib/x86_64-linux-gnu/mesa/ld.so.conf to provide /etc/ld.so.conf.d/x86_64-linux-gnu_GL.conf (x86_64-linux-gnu_gl_conf) in auto mode\n",
      "Setting up libswscale4:amd64 (7:3.3.4-2) ...\n",
      "Setting up mesa-va-drivers:amd64 (17.2.8-0ubuntu0~17.10.1) ...\n",
      "Setting up libpostproc54:amd64 (7:3.3.4-2) ...\n",
      "Setting up libmircommon7:amd64 (0.28.0+17.10.20171011.1-0ubuntu1) ...\n",
      "Setting up vdpau-driver-all:amd64 (1.1.1-3ubuntu1) ...\n",
      "Setting up libavresample3:amd64 (7:3.3.4-2) ...\n",
      "Setting up libavcodec57:amd64 (7:3.3.4-2) ...\n",
      "Setting up libmirclient9:amd64 (0.28.0+17.10.20171011.1-0ubuntu1) ...\n",
      "Setting up libpulse0:amd64 (1:10.0-2ubuntu3.1) ...\n",
      "Setting up va-driver-all:amd64 (1.8.3-2) ...\n",
      "Setting up libegl1-mesa:amd64 (17.2.8-0ubuntu0~17.10.1) ...\n",
      "update-alternatives: using /usr/lib/x86_64-linux-gnu/mesa-egl/ld.so.conf to provide /etc/ld.so.conf.d/x86_64-linux-gnu_EGL.conf (x86_64-linux-gnu_egl_conf) in auto mode\n",
      "Setting up libchromaprint1:amd64 (1.4.2-1) ...\n",
      "Setting up libwayland-egl1-mesa:amd64 (17.2.8-0ubuntu0~17.10.1) ...\n",
      "Setting up libavformat57:amd64 (7:3.3.4-2) ...\n",
      "Setting up libavfilter6:amd64 (7:3.3.4-2) ...\n",
      "Setting up libsdl2-2.0-0:amd64 (2.0.6+dfsg1-3ubuntu1) ...\n",
      "Setting up libavdevice57:amd64 (7:3.3.4-2) ...\n",
      "Setting up ffmpeg (7:3.3.4-2) ...\n",
      "Processing triggers for libc-bin (2.26-0ubuntu2.1) ...\n",
      "Collecting scikit-video\n",
      "\u001b[?25l  Downloading https://files.pythonhosted.org/packages/45/e8/2aeec50c37bf7be3ac72b74cf9a1a615fb20de01277408fbef9e5ef2855e/scikit_video-1.1.10-py2.py3-none-any.whl (2.3MB)\n",
      "\u001b[K    100% |████████████████████████████████| 2.3MB 4.7MB/s \n",
      "\u001b[?25hRequirement already satisfied: numpy in /usr/local/lib/python3.6/dist-packages (from scikit-video) (1.14.3)\n",
      "Requirement already satisfied: scipy in /usr/local/lib/python3.6/dist-packages (from scikit-video) (0.19.1)\n",
      "Installing collected packages: scikit-video\n",
      "Successfully installed scikit-video-1.1.10\n"
     ]
    }
   ],
   "source": [
    "!apt-get install -qq -y ffmpeg\n",
    "!pip install scikit-video imageio\n",
    "# import skvideo.io"
   ]
  },
  {
   "cell_type": "code",
   "execution_count": 0,
   "metadata": {
    "colab": {
     "autoexec": {
      "startup": false,
      "wait_interval": 0
     },
     "base_uri": "https://localhost:8080/",
     "height": 51
    },
    "colab_type": "code",
    "id": "3N7IYFUlpHgQ",
    "outputId": "f50bb82b-7eb4-40bf-98f4-163b17ed40bd"
   },
   "outputs": [
    {
     "name": "stderr",
     "output_type": "stream",
     "text": [
      "restoring from ./snapshots/model.ckpt-150\n"
     ]
    },
    {
     "name": "stdout",
     "output_type": "stream",
     "text": [
      "INFO:tensorflow:Restoring parameters from ./snapshots/model.ckpt-150\n"
     ]
    }
   ],
   "source": [
    "import imageio\n",
    "import numpy as np\n",
    "import tensorflow as tf\n",
    "import skvideo.io\n",
    "\n",
    "import bn_common\n",
    "\n",
    "def infer_images(in_imgs):\n",
    "    tf.reset_default_graph()\n",
    "  \n",
    "    raw_inputs = tf.placeholder(dtype=tf.uint8, shape=(None, 600, 800, 3))\n",
    "    sess, raw_output_up = bn_common.recreate_bn_model(raw_inputs)\n",
    "    \n",
    "    out_imgs = []\n",
    "    batch_size = 64\n",
    "    for batch_i in range(0, len(in_imgs), batch_size):\n",
    "        in_imgs_batch = in_imgs[batch_i : batch_i+batch_size]\n",
    "        out_imgs_batch = sess.run(raw_output_up, feed_dict={raw_inputs: in_imgs_batch})\n",
    "        for out_img in out_imgs_batch:\n",
    "            out_imgs.append(out_img)\n",
    "    \n",
    "    sess.close()\n",
    "    \n",
    "    return out_imgs\n",
    "\n",
    "  \n",
    "def infer_image_paths_to_images(in_paths):\n",
    "    in_imgs = np.array([imageio.imread(in_path) for in_path in in_paths])\n",
    "    \n",
    "    return infer_images(in_imgs)\n",
    "\n",
    "def infer_image_paths_to_video(in_paths, out_path):\n",
    "    skvideo.io.vwrite(out_path, np.array(infer_image_paths_to_images(in_paths)))\n",
    "\n",
    "# temp = infer_image_paths_to_images(glob.glob(os.path.join(HOME_PATH, 'CameraRGB/F[67]?-*'))[:5])\n",
    "\n",
    "infer_image_paths_to_video(glob.glob(os.path.join(HOME_PATH, 'CameraRGB/F[67]?-*')), './F6.mp4')"
   ]
  },
  {
   "cell_type": "code",
   "execution_count": 46,
   "metadata": {
    "colab": {
     "autoexec": {
      "startup": false,
      "wait_interval": 0
     },
     "base_uri": "https://localhost:8080/",
     "height": 196
    },
    "colab_type": "code",
    "executionInfo": {
     "elapsed": 1165,
     "status": "ok",
     "timestamp": 1527040293986,
     "user": {
      "displayName": "Yoshiaki Sono",
      "photoUrl": "//lh6.googleusercontent.com/-QqkpoqOp_fA/AAAAAAAAAAI/AAAAAAAAA8A/EfPYTWzQRSI/s50-c-k-no/photo.jpg",
      "userId": "110633234607464757614"
     },
     "user_tz": 420
    },
    "id": "Tu-Rl5wQrauh",
    "outputId": "52f35b97-699c-43ab-e739-4f5ecbb4c9cb"
   },
   "outputs": [
    {
     "data": {
      "image/png": "[encoded data removed]",
      "text/plain": [
       "<matplotlib.figure.Figure at 0x7f984cc86eb8>"
      ]
     },
     "metadata": {
      "tags": []
     },
     "output_type": "display_data"
    }
   ],
   "source": [
    "import matplotlib.pyplot as plt\n",
    "\n",
    "_, axes = plt.subplots(nrows=1, ncols=len(temp), figsize=(20, 5))\n",
    "\n",
    "for img, ax in zip(temp, axes):\n",
    "    ax.imshow(img, cmap='Greys_r')"
   ]
  },
  {
   "cell_type": "code",
   "execution_count": 54,
   "metadata": {
    "colab": {
     "autoexec": {
      "startup": false,
      "wait_interval": 0
     },
     "base_uri": "https://localhost:8080/",
     "height": 102
    },
    "colab_type": "code",
    "executionInfo": {
     "elapsed": 5787,
     "status": "ok",
     "timestamp": 1527007036308,
     "user": {
      "displayName": "Yoshiaki Sono",
      "photoUrl": "//lh6.googleusercontent.com/-QqkpoqOp_fA/AAAAAAAAAAI/AAAAAAAAA8A/EfPYTWzQRSI/s50-c-k-no/photo.jpg",
      "userId": "110633234607464757614"
     },
     "user_tz": 420
    },
    "id": "-4l7U--3tZc4",
    "outputId": "6be2e27c-7054-45e1-c1a7-b4e9b4459fab"
   },
   "outputs": [
    {
     "name": "stdout",
     "output_type": "stream",
     "text": [
      "Copying gs://ysono-ml/datasets/carla/test_video_large.mp4...\r\n",
      "Copying gs://ysono-ml/datasets/carla/graded_video.mp4...\r\n",
      "Copying gs://ysono-ml/datasets/carla/test_video_small.mp4...\n",
      "\\ [3/3 files][ 47.1 MiB/ 47.1 MiB] 100% Done                                    \n",
      "Operation completed over 3 objects/47.1 MiB.                                     \n"
     ]
    }
   ],
   "source": [
    "!mkdir -p videos\n",
    "!gsutil -m cp gs://ysono-ml/datasets/carla/*mp4 videos/"
   ]
  },
  {
   "cell_type": "code",
   "execution_count": 55,
   "metadata": {
    "colab": {
     "autoexec": {
      "startup": false,
      "wait_interval": 0
     },
     "base_uri": "https://localhost:8080/",
     "height": 68
    },
    "colab_type": "code",
    "executionInfo": {
     "elapsed": 1442,
     "status": "ok",
     "timestamp": 1527007058417,
     "user": {
      "displayName": "Yoshiaki Sono",
      "photoUrl": "//lh6.googleusercontent.com/-QqkpoqOp_fA/AAAAAAAAAAI/AAAAAAAAA8A/EfPYTWzQRSI/s50-c-k-no/photo.jpg",
      "userId": "110633234607464757614"
     },
     "user_tz": 420
    },
    "id": "35xtjW1ktLy4",
    "outputId": "94c0442a-c1f6-4701-81e4-b93c258488ce"
   },
   "outputs": [
    {
     "name": "stdout",
     "output_type": "stream",
     "text": [
      "python bn_infer_video.py graded_video.mp4\r\n",
      "python bn_infer_video.py test_video_large.mp4\r\n",
      "python bn_infer_video.py test_video_small.mp4\r\n"
     ]
    }
   ],
   "source": [
    "!for f in $(ls videos); do echo python bn_infer_video.py $f; done"
   ]
  },
  {
   "cell_type": "code",
   "execution_count": 91,
   "metadata": {
    "colab": {
     "autoexec": {
      "startup": false,
      "wait_interval": 0
     },
     "base_uri": "https://localhost:8080/",
     "height": 275
    },
    "colab_type": "code",
    "executionInfo": {
     "elapsed": 22539,
     "status": "ok",
     "timestamp": 1527008920838,
     "user": {
      "displayName": "Yoshiaki Sono",
      "photoUrl": "//lh6.googleusercontent.com/-QqkpoqOp_fA/AAAAAAAAAAI/AAAAAAAAA8A/EfPYTWzQRSI/s50-c-k-no/photo.jpg",
      "userId": "110633234607464757614"
     },
     "user_tz": 420
    },
    "id": "dE3n9I0yt5LK",
    "outputId": "d7436d14-bf4b-492d-ed5b-00767683562f"
   },
   "outputs": [
    {
     "name": "stdout",
     "output_type": "stream",
     "text": [
      "/usr/local/lib/python3.6/dist-packages/h5py/__init__.py:36: FutureWarning: Conversion of the second argument of issubdtype from `float` to `np.floating` is deprecated. In future, it will be treated as `np.float64 == np.dtype(float).type`.\r\n",
      "  from ._conv import register_converters as _register_converters\n",
      "2018-05-22 17:08:29.785490: I tensorflow/stream_executor/cuda/cuda_gpu_executor.cc:898] successful NUMA node read from SysFS had negative value (-1), but there must be at least one NUMA node, so returning NUMA node zero\n",
      "2018-05-22 17:08:29.786181: I tensorflow/core/common_runtime/gpu/gpu_device.cc:1356] Found device 0 with properties: \n",
      "name: Tesla K80 major: 3 minor: 7 memoryClockRate(GHz): 0.8235\n",
      "pciBusID: 0000:00:04.0\n",
      "totalMemory: 11.17GiB freeMemory: 11.10GiB\n",
      "2018-05-22 17:08:29.786225: I tensorflow/core/common_runtime/gpu/gpu_device.cc:1435] Adding visible gpu devices: 0\n",
      "2018-05-22 17:08:30.177564: I tensorflow/core/common_runtime/gpu/gpu_device.cc:923] Device interconnect StreamExecutor with strength 1 edge matrix:\n",
      "2018-05-22 17:08:30.177623: I tensorflow/core/common_runtime/gpu/gpu_device.cc:929]      0 \n",
      "2018-05-22 17:08:30.177649: I tensorflow/core/common_runtime/gpu/gpu_device.cc:942] 0:   N \n",
      "2018-05-22 17:08:30.178018: I tensorflow/core/common_runtime/gpu/gpu_device.cc:1053] Created TensorFlow device (/job:localhost/replica:0/task:0/device:GPU:0 with 10765 MB memory) -> physical GPU (device: 0, name: Tesla K80, pci bus id: 0000:00:04.0, compute capability: 3.7)\n",
      "restoring from ./snapshots/model.ckpt-150\n",
      "out_path= ./out_videos/test_video_small.mp4 out shape = (31, 600, 800, 3)\n"
     ]
    }
   ],
   "source": [
    "!mkdir -p out_videos\n",
    "!python bn_draw_video.py videos/test_video_small.mp4"
   ]
  },
  {
   "cell_type": "code",
   "execution_count": 92,
   "metadata": {
    "colab": {
     "autoexec": {
      "startup": false,
      "wait_interval": 0
     },
     "base_uri": "https://localhost:8080/",
     "height": 51
    },
    "colab_type": "code",
    "executionInfo": {
     "elapsed": 1477,
     "status": "ok",
     "timestamp": 1527008927092,
     "user": {
      "displayName": "Yoshiaki Sono",
      "photoUrl": "//lh6.googleusercontent.com/-QqkpoqOp_fA/AAAAAAAAAAI/AAAAAAAAA8A/EfPYTWzQRSI/s50-c-k-no/photo.jpg",
      "userId": "110633234607464757614"
     },
     "user_tz": 420
    },
    "id": "gK1r053-xBPR",
    "outputId": "17674c13-7df9-4438-b92b-451a963772ed"
   },
   "outputs": [
    {
     "name": "stdout",
     "output_type": "stream",
     "text": [
      "total 260\r\n",
      "-rw-r--r-- 1 root root 263043 May 22 17:08 test_video_small.mp4\r\n"
     ]
    }
   ],
   "source": [
    "!ls -l out_videos"
   ]
  },
  {
   "cell_type": "code",
   "execution_count": 93,
   "metadata": {
    "colab": {
     "autoexec": {
      "startup": false,
      "wait_interval": 0
     },
     "base_uri": "https://localhost:8080/",
     "height": 68
    },
    "colab_type": "code",
    "executionInfo": {
     "elapsed": 3523,
     "status": "ok",
     "timestamp": 1527008932089,
     "user": {
      "displayName": "Yoshiaki Sono",
      "photoUrl": "//lh6.googleusercontent.com/-QqkpoqOp_fA/AAAAAAAAAAI/AAAAAAAAA8A/EfPYTWzQRSI/s50-c-k-no/photo.jpg",
      "userId": "110633234607464757614"
     },
     "user_tz": 420
    },
    "id": "pdpFSYldz8Lq",
    "outputId": "c9653cf8-f3bc-41ba-87b2-c9a4f064c2d6"
   },
   "outputs": [
    {
     "name": "stdout",
     "output_type": "stream",
     "text": [
      "Copying file://out_videos/test_video_small.mp4 [Content-Type=video/mp4]...\n",
      "/ [1/1 files][256.9 KiB/256.9 KiB] 100% Done                                    \n",
      "Operation completed over 1 objects/256.9 KiB.                                    \n"
     ]
    }
   ],
   "source": [
    "!gsutil -m cp -n out_videos/* gs://ysono-ml/models/icnet/cityscape-hellochick/out_videos/"
   ]
  },
  {
   "cell_type": "code",
   "execution_count": 0,
   "metadata": {
    "colab": {
     "autoexec": {
      "startup": false,
      "wait_interval": 0
     }
    },
    "colab_type": "code",
    "collapsed": true,
    "id": "uKsyMPk10yLh"
   },
   "outputs": [],
   "source": [
    "%load bn_draw_video.py"
   ]
  }
 ],
 "metadata": {
  "accelerator": "GPU",
  "colab": {
   "collapsed_sections": [],
   "default_view": {},
   "name": "icenet github/hellochick/ICNet-tensorflow",
   "provenance": [],
   "toc_visible": true,
   "version": "0.3.2",
   "views": {}
  },
  "kernelspec": {
   "display_name": "Python [default]",
   "language": "python",
   "name": "python3"
  },
  "language_info": {
   "codemirror_mode": {
    "name": "ipython",
    "version": 3
   },
   "file_extension": ".py",
   "mimetype": "text/x-python",
   "name": "python",
   "nbconvert_exporter": "python",
   "pygments_lexer": "ipython3",
   "version": "3.6.5"
  }
 },
 "nbformat": 4,
 "nbformat_minor": 1
}
