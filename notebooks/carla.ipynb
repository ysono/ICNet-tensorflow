{
 "cells": [
  {
   "cell_type": "code",
   "execution_count": 1,
   "metadata": {
    "colab": {
     "autoexec": {
      "startup": false,
      "wait_interval": 0
     },
     "base_uri": "https://localhost:8080/",
     "height": 51
    },
    "colab_type": "code",
    "executionInfo": {
     "elapsed": 1687,
     "status": "ok",
     "timestamp": 1527935388434,
     "user": {
      "displayName": "Yoshiaki Sono",
      "photoUrl": "//lh6.googleusercontent.com/-QqkpoqOp_fA/AAAAAAAAAAI/AAAAAAAAA8A/EfPYTWzQRSI/s50-c-k-no/photo.jpg",
      "userId": "110633234607464757614"
     },
     "user_tz": 420
    },
    "id": "JUl1M6vBNufv",
    "outputId": "bfdec324-524a-4c78-d897-c196c4acc7cd"
   },
   "outputs": [
    {
     "name": "stdout",
     "output_type": "stream",
     "text": [
      "/content\r\n",
      "datalab\r\n"
     ]
    }
   ],
   "source": [
    "!pwd; ls"
   ]
  },
  {
   "cell_type": "code",
   "execution_count": 0,
   "metadata": {
    "colab": {
     "autoexec": {
      "startup": false,
      "wait_interval": 0
     }
    },
    "colab_type": "code",
    "id": "3lWAcGinNzW6"
   },
   "outputs": [],
   "source": [
    "from google.colab import auth\n",
    "auth.authenticate_user()\n",
    "GCS_BUCKET = 'ysono-ml'"
   ]
  },
  {
   "cell_type": "markdown",
   "metadata": {
    "colab_type": "text",
    "id": "guTF7cjJbFDb"
   },
   "source": [
    "\n",
    "## Download 13ch datasets"
   ]
  },
  {
   "cell_type": "code",
   "execution_count": 0,
   "metadata": {
    "colab": {
     "autoexec": {
      "startup": false,
      "wait_interval": 0
     }
    },
    "colab_type": "code",
    "id": "AmJBcV6MAC76"
   },
   "outputs": [],
   "source": [
    "# !find Train -type d -exec sh -c 'echo {} && ls -l {} | grep -v ^d | tail -n +2 | head -5' \\;"
   ]
  },
  {
   "cell_type": "markdown",
   "metadata": {
    "colab_type": "text",
    "id": "JbFMxEUg2TFW"
   },
   "source": [
    "### From Udacity"
   ]
  },
  {
   "cell_type": "code",
   "execution_count": 210,
   "metadata": {
    "colab": {
     "autoexec": {
      "startup": false,
      "wait_interval": 0
     },
     "base_uri": "https://localhost:8080/",
     "height": 68
    },
    "colab_type": "code",
    "executionInfo": {
     "elapsed": 3016,
     "status": "ok",
     "timestamp": 1527518809481,
     "user": {
      "displayName": "Yoshiaki Sono",
      "photoUrl": "//lh6.googleusercontent.com/-QqkpoqOp_fA/AAAAAAAAAAI/AAAAAAAAA8A/EfPYTWzQRSI/s50-c-k-no/photo.jpg",
      "userId": "110633234607464757614"
     },
     "user_tz": 420
    },
    "id": "bFIyDozYNsyc",
    "outputId": "9835b2d3-31b3-496b-e9ec-91c28db8566e"
   },
   "outputs": [
    {
     "name": "stdout",
     "output_type": "stream",
     "text": [
      "Copying gs://ysono-ml/datasets/carla/udacity-13cls-sparse-png-rch.tgz...\n",
      "/ [1 files][ 15.8 MiB/ 15.8 MiB]                                                \n",
      "Operation completed over 1 objects/15.8 MiB.                                     \n"
     ]
    }
   ],
   "source": [
    "!gsutil cp gs://ysono-ml/datasets/carla/udacity-13cls-sparse-png-rch.tgz ."
   ]
  },
  {
   "cell_type": "code",
   "execution_count": 57,
   "metadata": {
    "colab": {
     "autoexec": {
      "startup": false,
      "wait_interval": 0
     },
     "base_uri": "https://localhost:8080/",
     "height": 119
    },
    "colab_type": "code",
    "executionInfo": {
     "elapsed": 1745,
     "status": "ok",
     "timestamp": 1527558268114,
     "user": {
      "displayName": "Yoshiaki Sono",
      "photoUrl": "//lh6.googleusercontent.com/-QqkpoqOp_fA/AAAAAAAAAAI/AAAAAAAAA8A/EfPYTWzQRSI/s50-c-k-no/photo.jpg",
      "userId": "110633234607464757614"
     },
     "user_tz": 420
    },
    "id": "1d9X8yozNvIf",
    "outputId": "ccdeccc0-79a2-4f61-bdda-da167bae5396"
   },
   "outputs": [
    {
     "name": "stdout",
     "output_type": "stream",
     "text": [
      "Train/CameraSeg/\r\n",
      "Train/CameraSeg/udacity-13.png\r\n",
      "Train/CameraSeg/udacity-744.png\r\n",
      "Train/CameraSeg/udacity-134.png\r\n",
      "Train/CameraSeg/udacity-913.png\n",
      "tar: write error\n"
     ]
    }
   ],
   "source": [
    "!tar -ztf udacity-13cls-sparse-png-rch.tgz | head -5"
   ]
  },
  {
   "cell_type": "code",
   "execution_count": 0,
   "metadata": {
    "colab": {
     "autoexec": {
      "startup": false,
      "wait_interval": 0
     }
    },
    "colab_type": "code",
    "id": "DAgwaAcgNv23"
   },
   "outputs": [],
   "source": [
    "!mkdir udacity\n",
    "!tar -C udacity -zxf udacity-13cls-sparse-png-rch.tgz"
   ]
  },
  {
   "cell_type": "code",
   "execution_count": 219,
   "metadata": {
    "colab": {
     "autoexec": {
      "startup": false,
      "wait_interval": 0
     },
     "base_uri": "https://localhost:8080/",
     "height": 368
    },
    "colab_type": "code",
    "executionInfo": {
     "elapsed": 648,
     "status": "ok",
     "timestamp": 1527519041969,
     "user": {
      "displayName": "Yoshiaki Sono",
      "photoUrl": "//lh6.googleusercontent.com/-QqkpoqOp_fA/AAAAAAAAAAI/AAAAAAAAA8A/EfPYTWzQRSI/s50-c-k-no/photo.jpg",
      "userId": "110633234607464757614"
     },
     "user_tz": 420
    },
    "id": "PQijXdPmN9oA",
    "outputId": "28b5bae6-ce95-4b53-cd26-0f033400c427"
   },
   "outputs": [
    {
     "name": "stdout",
     "output_type": "stream",
     "text": [
      "bool (600, 800)\n"
     ]
    },
    {
     "data": {
      "image/png": "[encoded data removed]",
      "text/plain": [
       "<matplotlib.figure.Figure at 0x7facb03ba630>"
      ]
     },
     "metadata": {
      "tags": []
     },
     "output_type": "display_data"
    }
   ],
   "source": [
    "# temp = imageio.imread('Train/CameraSeg/udacity-13.png')\n",
    "# temp = temp[..., 0]\n",
    "# temp = temp == 10\n",
    "# temp[:495, ...] = False\n",
    "# print(temp.dtype, temp.shape)\n",
    "# plt.imshow(temp, cmap='Greys_r')\n",
    "# import numpy as np\n",
    "# np.save('./ego', temp)"
   ]
  },
  {
   "cell_type": "code",
   "execution_count": 221,
   "metadata": {
    "colab": {
     "autoexec": {
      "startup": false,
      "wait_interval": 0
     },
     "base_uri": "https://localhost:8080/",
     "height": 68
    },
    "colab_type": "code",
    "executionInfo": {
     "elapsed": 2878,
     "status": "ok",
     "timestamp": 1527519096609,
     "user": {
      "displayName": "Yoshiaki Sono",
      "photoUrl": "//lh6.googleusercontent.com/-QqkpoqOp_fA/AAAAAAAAAAI/AAAAAAAAA8A/EfPYTWzQRSI/s50-c-k-no/photo.jpg",
      "userId": "110633234607464757614"
     },
     "user_tz": 420
    },
    "id": "cGxtj6joOzB1",
    "outputId": "fc6e766d-9c09-41d5-af09-47bfc83096f4"
   },
   "outputs": [
    {
     "name": "stdout",
     "output_type": "stream",
     "text": [
      "Copying file://ego.npy [Content-Type=application/octet-stream]...\n",
      "/ [1 files][468.9 KiB/468.9 KiB]                                                \n",
      "Operation completed over 1 objects/468.9 KiB.                                    \n"
     ]
    }
   ],
   "source": [
    "# !gsutil cp ego.npy gs://ysono-ml/datasets/carla/udacity-lyft-challenge-ego-mask-bool.npy"
   ]
  },
  {
   "cell_type": "code",
   "execution_count": 5,
   "metadata": {
    "colab": {
     "autoexec": {
      "startup": false,
      "wait_interval": 0
     },
     "base_uri": "https://localhost:8080/",
     "height": 68
    },
    "colab_type": "code",
    "executionInfo": {
     "elapsed": 2782,
     "status": "ok",
     "timestamp": 1527555568843,
     "user": {
      "displayName": "Yoshiaki Sono",
      "photoUrl": "//lh6.googleusercontent.com/-QqkpoqOp_fA/AAAAAAAAAAI/AAAAAAAAA8A/EfPYTWzQRSI/s50-c-k-no/photo.jpg",
      "userId": "110633234607464757614"
     },
     "user_tz": 420
    },
    "id": "C3OtoowBO-wq",
    "outputId": "7150054a-0818-4b3e-a0ce-9a9582df0bc5"
   },
   "outputs": [
    {
     "name": "stdout",
     "output_type": "stream",
     "text": [
      "Copying gs://ysono-ml/datasets/carla/udacity-lyft-challenge-ego-mask-bool.npy...\n",
      "/ [1 files][468.9 KiB/468.9 KiB]                                                \n",
      "Operation completed over 1 objects/468.9 KiB.                                    \n"
     ]
    }
   ],
   "source": [
    "# !gsutil cp gs://ysono-ml/datasets/carla/udacity-lyft-challenge-ego-mask-bool.npy ego.npy"
   ]
  },
  {
   "cell_type": "markdown",
   "metadata": {
    "colab_type": "text",
    "id": "gEMAHX8X0Hqf"
   },
   "source": [
    "### From github.com/ongchinkiat"
   ]
  },
  {
   "cell_type": "code",
   "execution_count": 55,
   "metadata": {
    "colab": {
     "autoexec": {
      "startup": false,
      "wait_interval": 0
     },
     "base_uri": "https://localhost:8080/",
     "height": 119
    },
    "colab_type": "code",
    "executionInfo": {
     "elapsed": 20260,
     "status": "ok",
     "timestamp": 1527527728370,
     "user": {
      "displayName": "Yoshiaki Sono",
      "photoUrl": "//lh6.googleusercontent.com/-QqkpoqOp_fA/AAAAAAAAAAI/AAAAAAAAA8A/EfPYTWzQRSI/s50-c-k-no/photo.jpg",
      "userId": "110633234607464757614"
     },
     "user_tz": 420
    },
    "id": "fwVXcZMG2Zt3",
    "outputId": "a174cffc-fcdc-4909-a3a8-c04f67dabf5f"
   },
   "outputs": [
    {
     "name": "stdout",
     "output_type": "stream",
     "text": [
      "Copying gs://ysono-ml/datasets/carla/chinkiat0-mostlyroad.zip...\n",
      "/ [1 files][527.4 MiB/527.4 MiB]                                                \n",
      "Operation completed over 1 objects/527.4 MiB.                                    \n",
      "Copying gs://ysono-ml/datasets/carla/chinkiat1-morecars.zip...\n",
      "/ [1 files][572.6 MiB/572.6 MiB]                                                \n",
      "Operation completed over 1 objects/572.6 MiB.                                    \n"
     ]
    }
   ],
   "source": [
    "# !gsutil cp gs://{GCS_BUCKET}/datasets/carla/chinkiat0-mostlyroad.zip .\n",
    "# !gsutil cp gs://{GCS_BUCKET}/datasets/carla/chinkiat1-morecars.zip ."
   ]
  },
  {
   "cell_type": "code",
   "execution_count": 77,
   "metadata": {
    "colab": {
     "autoexec": {
      "startup": false,
      "wait_interval": 0
     },
     "base_uri": "https://localhost:8080/",
     "height": 68
    },
    "colab_type": "code",
    "executionInfo": {
     "elapsed": 3242,
     "status": "ok",
     "timestamp": 1527558741911,
     "user": {
      "displayName": "Yoshiaki Sono",
      "photoUrl": "//lh6.googleusercontent.com/-QqkpoqOp_fA/AAAAAAAAAAI/AAAAAAAAA8A/EfPYTWzQRSI/s50-c-k-no/photo.jpg",
      "userId": "110633234607464757614"
     },
     "user_tz": 420
    },
    "id": "1gTmNxC813Fg",
    "outputId": "99d38d5e-cc03-4098-e05b-09fc3489f701"
   },
   "outputs": [
    {
     "name": "stdout",
     "output_type": "stream",
     "text": [
      "Copying gs://ysono-ml/datasets/carla/chinkiat1-13cls-sparse-png-rch.tgz...\n",
      "/ [1 files][ 16.0 MiB/ 16.0 MiB]                                                \n",
      "Operation completed over 1 objects/16.0 MiB.                                     \n"
     ]
    }
   ],
   "source": [
    "# !gsutil cp gs://{GCS_BUCKET}/datasets/carla/chinkiat0-13cls-sparse-png-rch.tgz .\n",
    "!gsutil cp gs://{GCS_BUCKET}/datasets/carla/chinkiat1-13cls-sparse-png-rch.tgz ."
   ]
  },
  {
   "cell_type": "code",
   "execution_count": 78,
   "metadata": {
    "colab": {
     "autoexec": {
      "startup": false,
      "wait_interval": 0
     },
     "base_uri": "https://localhost:8080/",
     "height": 119
    },
    "colab_type": "code",
    "executionInfo": {
     "elapsed": 1782,
     "status": "ok",
     "timestamp": 1527558762370,
     "user": {
      "displayName": "Yoshiaki Sono",
      "photoUrl": "//lh6.googleusercontent.com/-QqkpoqOp_fA/AAAAAAAAAAI/AAAAAAAAA8A/EfPYTWzQRSI/s50-c-k-no/photo.jpg",
      "userId": "110633234607464757614"
     },
     "user_tz": 420
    },
    "id": "kJDvR5NBmNTv",
    "outputId": "e48f8bfa-8bf6-4224-a28a-4948e0926223"
   },
   "outputs": [
    {
     "name": "stdout",
     "output_type": "stream",
     "text": [
      "CameraSeg/\r\n",
      "CameraSeg/F69-20.png\r\n",
      "CameraSeg/F69-97.png\r\n",
      "CameraSeg/F70-83.png\r\n",
      "CameraSeg/F67-90.png\n",
      "tar: write error\n"
     ]
    }
   ],
   "source": [
    "!tar -ztf chinkiat1-13cls-sparse-png-rch.tgz | head -5"
   ]
  },
  {
   "cell_type": "code",
   "execution_count": 0,
   "metadata": {
    "colab": {
     "autoexec": {
      "startup": false,
      "wait_interval": 0
     }
    },
    "colab_type": "code",
    "id": "VkGQw9eg2BxJ"
   },
   "outputs": [],
   "source": [
    "!mkdir chinkiat1\n",
    "!tar -C chinkiat1 -zxf chinkiat1-13cls-sparse-png-rch.tgz "
   ]
  },
  {
   "cell_type": "code",
   "execution_count": 80,
   "metadata": {
    "colab": {
     "autoexec": {
      "startup": false,
      "wait_interval": 0
     },
     "base_uri": "https://localhost:8080/",
     "height": 102
    },
    "colab_type": "code",
    "executionInfo": {
     "elapsed": 1468,
     "status": "ok",
     "timestamp": 1527558777463,
     "user": {
      "displayName": "Yoshiaki Sono",
      "photoUrl": "//lh6.googleusercontent.com/-QqkpoqOp_fA/AAAAAAAAAAI/AAAAAAAAA8A/EfPYTWzQRSI/s50-c-k-no/photo.jpg",
      "userId": "110633234607464757614"
     },
     "user_tz": 420
    },
    "id": "tgemyV7W2rYu",
    "outputId": "b12fd7f8-7ff4-4f67-893b-41899fa6dc13"
   },
   "outputs": [
    {
     "name": "stdout",
     "output_type": "stream",
     "text": [
      "CameraSeg/F61-100.png\r\n",
      "CameraSeg/F61-10.png\r\n",
      "CameraSeg/F61-11.png\r\n",
      "CameraSeg/F61-12.png\r\n",
      "CameraSeg/F61-13.png\r\n"
     ]
    }
   ],
   "source": [
    "!ls CameraSeg/* | head -5\n",
    "import glob\n",
    "assert len(list(glob.glob('CameraSeg/*'))) == 1000"
   ]
  },
  {
   "cell_type": "markdown",
   "metadata": {
    "colab_type": "text",
    "id": "CHKSSFKIo2VR"
   },
   "source": [
    "### More from ongchinkiat"
   ]
  },
  {
   "cell_type": "code",
   "execution_count": 89,
   "metadata": {
    "colab": {
     "autoexec": {
      "startup": false,
      "wait_interval": 0
     },
     "base_uri": "https://localhost:8080/",
     "height": 68
    },
    "colab_type": "code",
    "executionInfo": {
     "elapsed": 4418,
     "status": "ok",
     "timestamp": 1527559011702,
     "user": {
      "displayName": "Yoshiaki Sono",
      "photoUrl": "//lh6.googleusercontent.com/-QqkpoqOp_fA/AAAAAAAAAAI/AAAAAAAAA8A/EfPYTWzQRSI/s50-c-k-no/photo.jpg",
      "userId": "110633234607464757614"
     },
     "user_tz": 420
    },
    "id": "xLwa21DQrCiR",
    "outputId": "80871ab6-f193-4b47-c4d3-8c8f7743be9a"
   },
   "outputs": [
    {
     "name": "stdout",
     "output_type": "stream",
     "text": [
      "Copying gs://ysono-ml/datasets/carla/chinkiat2-13cls-sparse-png-rch.tgz...\n",
      "/ [1 files][ 15.5 MiB/ 15.5 MiB]                                                \n",
      "Operation completed over 1 objects/15.5 MiB.                                     \n"
     ]
    }
   ],
   "source": [
    "!gsutil cp gs://ysono-ml/datasets/carla/chinkiat2-13cls-sparse-png-rch.tgz ."
   ]
  },
  {
   "cell_type": "code",
   "execution_count": 90,
   "metadata": {
    "colab": {
     "autoexec": {
      "startup": false,
      "wait_interval": 0
     },
     "base_uri": "https://localhost:8080/",
     "height": 136
    },
    "colab_type": "code",
    "executionInfo": {
     "elapsed": 3022,
     "status": "ok",
     "timestamp": 1527559041639,
     "user": {
      "displayName": "Yoshiaki Sono",
      "photoUrl": "//lh6.googleusercontent.com/-QqkpoqOp_fA/AAAAAAAAAAI/AAAAAAAAA8A/EfPYTWzQRSI/s50-c-k-no/photo.jpg",
      "userId": "110633234607464757614"
     },
     "user_tz": 420
    },
    "id": "09gNZtjwnPh6",
    "outputId": "607a858c-d2ff-47cf-80bd-e7116cbd5a39"
   },
   "outputs": [
    {
     "name": "stdout",
     "output_type": "stream",
     "text": [
      "CameraSeg/\r\n",
      "CameraSeg/M4-73.png\r\n",
      "CameraSeg/M8-93.png\r\n",
      "CameraSeg/M8-49.png\r\n",
      "CameraSeg/M10-38.png\n",
      "tar: write error\n",
      "1001\n"
     ]
    }
   ],
   "source": [
    "!tar ztf chinkiat2-13cls-sparse-png-rch.tgz | head -5\n",
    "!tar ztf chinkiat2-13cls-sparse-png-rch.tgz | wc -l"
   ]
  },
  {
   "cell_type": "code",
   "execution_count": 0,
   "metadata": {
    "colab": {
     "autoexec": {
      "startup": false,
      "wait_interval": 0
     }
    },
    "colab_type": "code",
    "id": "f1JbXRv3rO96"
   },
   "outputs": [],
   "source": [
    "!mkdir chinkiat2\n",
    "!tar -C chinkiat2 -zxf chinkiat2-13cls-sparse-png-rch.tgz"
   ]
  },
  {
   "cell_type": "markdown",
   "metadata": {
    "colab_type": "text",
    "id": "KbrkYYtoVjcE"
   },
   "source": [
    "### From udacity student @faisall"
   ]
  },
  {
   "cell_type": "code",
   "execution_count": 15,
   "metadata": {
    "colab": {
     "autoexec": {
      "startup": false,
      "wait_interval": 0
     },
     "base_uri": "https://localhost:8080/",
     "height": 68
    },
    "colab_type": "code",
    "executionInfo": {
     "elapsed": 5092,
     "status": "ok",
     "timestamp": 1527540608459,
     "user": {
      "displayName": "Yoshiaki Sono",
      "photoUrl": "//lh6.googleusercontent.com/-QqkpoqOp_fA/AAAAAAAAAAI/AAAAAAAAA8A/EfPYTWzQRSI/s50-c-k-no/photo.jpg",
      "userId": "110633234607464757614"
     },
     "user_tz": 420
    },
    "id": "Bt5u5xtEVldp",
    "outputId": "b8ff243a-f1a8-468b-fc0a-ad93ee5fbc35"
   },
   "outputs": [
    {
     "name": "stdout",
     "output_type": "stream",
     "text": [
      "Copying gs://ysono-ml/datasets/carla/faisall-13cls-sparse-png-rch.tgz...\n",
      "\\ [1 files][ 68.9 MiB/ 68.9 MiB]                                                \n",
      "Operation completed over 1 objects/68.9 MiB.                                     \n"
     ]
    }
   ],
   "source": [
    "!gsutil cp gs://ysono-ml/datasets/carla/faisall-13cls-sparse-png-rch.tgz ."
   ]
  },
  {
   "cell_type": "code",
   "execution_count": 0,
   "metadata": {
    "colab": {
     "autoexec": {
      "startup": false,
      "wait_interval": 0
     }
    },
    "colab_type": "code",
    "id": "MrWMLK6-VtZn"
   },
   "outputs": [],
   "source": [
    "!mkdir faisall\n",
    "!tar -C faisall -zxf faisall-13cls-sparse-png-rch.tgz"
   ]
  },
  {
   "cell_type": "code",
   "execution_count": 110,
   "metadata": {
    "colab": {
     "autoexec": {
      "startup": false,
      "wait_interval": 0
     },
     "base_uri": "https://localhost:8080/",
     "height": 68
    },
    "colab_type": "code",
    "executionInfo": {
     "elapsed": 4146,
     "status": "ok",
     "timestamp": 1527559536438,
     "user": {
      "displayName": "Yoshiaki Sono",
      "photoUrl": "//lh6.googleusercontent.com/-QqkpoqOp_fA/AAAAAAAAAAI/AAAAAAAAA8A/EfPYTWzQRSI/s50-c-k-no/photo.jpg",
      "userId": "110633234607464757614"
     },
     "user_tz": 420
    },
    "id": "Wj53AdYAhGQI",
    "outputId": "1c5c8bef-dba8-4a86-9d47-4cf6ab95592e"
   },
   "outputs": [
    {
     "name": "stdout",
     "output_type": "stream",
     "text": [
      "3822\n",
      "500\n",
      "500\n"
     ]
    }
   ],
   "source": [
    "# !ls faisall/Train/CameraRGB | wc -l\n",
    "# !ls faisall/Valid/CameraRGB | wc -l\n",
    "# !ls faisall/Test/CameraRGB | wc -l\n",
    "!ls faisall/Train/CameraSeg | wc -l\n",
    "!ls faisall/Valid/CameraSeg | wc -l\n",
    "!ls faisall/Test/CameraSeg | wc -l"
   ]
  },
  {
   "cell_type": "code",
   "execution_count": 113,
   "metadata": {
    "colab": {
     "autoexec": {
      "startup": false,
      "wait_interval": 0
     },
     "base_uri": "https://localhost:8080/",
     "height": 119
    },
    "colab_type": "code",
    "executionInfo": {
     "elapsed": 3964,
     "status": "ok",
     "timestamp": 1527559716662,
     "user": {
      "displayName": "Yoshiaki Sono",
      "photoUrl": "//lh6.googleusercontent.com/-QqkpoqOp_fA/AAAAAAAAAAI/AAAAAAAAA8A/EfPYTWzQRSI/s50-c-k-no/photo.jpg",
      "userId": "110633234607464757614"
     },
     "user_tz": 420
    },
    "id": "O4Rye8M6ptWu",
    "outputId": "2ad75cdc-f8d0-4de7-cb3d-cd73eb185f72"
   },
   "outputs": [
    {
     "name": "stdout",
     "output_type": "stream",
     "text": [
      "ls: cannot access 'faisall/Train/CameraSeg/[0-9].png': No such file or directory\r\n",
      "0\n",
      "ls: cannot access 'faisall/Train/CameraSeg/[0-9][0-9].png': No such file or directory\n",
      "0\n",
      "ls: cannot access 'faisall/Train/CameraSeg/[0-9][0-9][0-9].png': No such file or directory\n",
      "0\n"
     ]
    }
   ],
   "source": [
    "!ls faisall/Train/CameraSeg/[0-9].png | wc -l\n",
    "!ls faisall/Train/CameraSeg/[0-9][0-9].png | wc -l\n",
    "!ls faisall/Train/CameraSeg/[0-9][0-9][0-9].png | wc -l"
   ]
  },
  {
   "cell_type": "code",
   "execution_count": 6,
   "metadata": {
    "colab": {
     "autoexec": {
      "startup": false,
      "wait_interval": 0
     },
     "base_uri": "https://localhost:8080/",
     "height": 68
    },
    "colab_type": "code",
    "executionInfo": {
     "elapsed": 3836,
     "status": "ok",
     "timestamp": 1527525156072,
     "user": {
      "displayName": "Yoshiaki Sono",
      "photoUrl": "//lh6.googleusercontent.com/-QqkpoqOp_fA/AAAAAAAAAAI/AAAAAAAAA8A/EfPYTWzQRSI/s50-c-k-no/photo.jpg",
      "userId": "110633234607464757614"
     },
     "user_tz": 420
    },
    "id": "dQ3I7Ek1K7cw",
    "outputId": "643fb1cb-7be0-469e-926f-25c7980fade1"
   },
   "outputs": [
    {
     "name": "stdout",
     "output_type": "stream",
     "text": [
      "10\n",
      "90\n",
      "900\n"
     ]
    }
   ],
   "source": [
    "# # First time the file was downloaded, I needed to purge duplicate files that are also in the udacity dataset.\n",
    "\n",
    "# !ls data/Train/CameraRGB/[0-9].png | wc -l\n",
    "# !ls data/Train/CameraRGB/[0-9][0-9].png | wc -l\n",
    "# !ls data/Train/CameraRGB/[0-9][0-9][0-9].png | wc -l\n",
    "# !ls data/Train/CameraSeg/[0-9].png | wc -l\n",
    "# !ls data/Train/CameraSeg/[0-9][0-9].png | wc -l\n",
    "# !ls data/Train/CameraSeg/[0-9][0-9][0-9].png | wc -l"
   ]
  },
  {
   "cell_type": "code",
   "execution_count": 32,
   "metadata": {
    "colab": {
     "autoexec": {
      "startup": false,
      "wait_interval": 0
     },
     "base_uri": "https://localhost:8080/",
     "height": 68
    },
    "colab_type": "code",
    "executionInfo": {
     "elapsed": 7613,
     "status": "ok",
     "timestamp": 1527526835850,
     "user": {
      "displayName": "Yoshiaki Sono",
      "photoUrl": "//lh6.googleusercontent.com/-QqkpoqOp_fA/AAAAAAAAAAI/AAAAAAAAA8A/EfPYTWzQRSI/s50-c-k-no/photo.jpg",
      "userId": "110633234607464757614"
     },
     "user_tz": 420
    },
    "id": "YROyvXlaLrX7",
    "outputId": "368f1dbd-9256-406b-8b5e-bd8fea0dd0ca"
   },
   "outputs": [
    {
     "name": "stdout",
     "output_type": "stream",
     "text": [
      "rm: cannot remove 'data/Train/CameraSeg/[0-9].png': No such file or directory\n",
      "rm: cannot remove 'data/Train/CameraSeg/[0-9][0-9].png': No such file or directory\n",
      "rm: cannot remove 'data/Train/CameraSeg/[0-9][0-9][0-9].png': No such file or directory\n"
     ]
    }
   ],
   "source": [
    "# # Remove duplicates with udacity's dataset\n",
    "\n",
    "# !rm data/Train/CameraRGB/[0-9].png\n",
    "# !rm data/Train/CameraRGB/[0-9][0-9].png\n",
    "# !rm data/Train/CameraRGB/[0-9][0-9][0-9].png\n",
    "# !rm data/Train/CameraSeg/[0-9].png\n",
    "# !rm data/Train/CameraSeg/[0-9][0-9].png\n",
    "# !rm data/Train/CameraSeg/[0-9][0-9][0-9].png"
   ]
  },
  {
   "cell_type": "code",
   "execution_count": 33,
   "metadata": {
    "colab": {
     "autoexec": {
      "startup": false,
      "wait_interval": 0
     },
     "base_uri": "https://localhost:8080/",
     "height": 119
    },
    "colab_type": "code",
    "executionInfo": {
     "elapsed": 7407,
     "status": "ok",
     "timestamp": 1527526847464,
     "user": {
      "displayName": "Yoshiaki Sono",
      "photoUrl": "//lh6.googleusercontent.com/-QqkpoqOp_fA/AAAAAAAAAAI/AAAAAAAAA8A/EfPYTWzQRSI/s50-c-k-no/photo.jpg",
      "userId": "110633234607464757614"
     },
     "user_tz": 420
    },
    "id": "0-D6Q8bTLyxx",
    "outputId": "49846699-f6e5-4860-8ec6-5eaaa399e752"
   },
   "outputs": [
    {
     "name": "stdout",
     "output_type": "stream",
     "text": [
      "3822\n",
      "500\n",
      "500\n",
      "3822\n",
      "500\n",
      "500\n"
     ]
    }
   ],
   "source": [
    "# !ls data/Train/CameraRGB | wc -l\n",
    "# !ls data/Valid/CameraRGB | wc -l\n",
    "# !ls data/Test/CameraRGB | wc -l\n",
    "# !ls data/Train/CameraSeg | wc -l\n",
    "# !ls data/Valid/CameraSeg | wc -l\n",
    "# !ls data/Test/CameraSeg | wc -l"
   ]
  },
  {
   "cell_type": "code",
   "execution_count": 22,
   "metadata": {
    "colab": {
     "autoexec": {
      "startup": false,
      "wait_interval": 0
     },
     "base_uri": "https://localhost:8080/",
     "height": 340
    },
    "colab_type": "code",
    "executionInfo": {
     "elapsed": 7237,
     "status": "ok",
     "timestamp": 1527540725683,
     "user": {
      "displayName": "Yoshiaki Sono",
      "photoUrl": "//lh6.googleusercontent.com/-QqkpoqOp_fA/AAAAAAAAAAI/AAAAAAAAA8A/EfPYTWzQRSI/s50-c-k-no/photo.jpg",
      "userId": "110633234607464757614"
     },
     "user_tz": 420
    },
    "id": "0x_31RtjX8-6",
    "outputId": "fc372eca-2983-44eb-d79a-60d8b97fc3fc"
   },
   "outputs": [
    {
     "name": "stdout",
     "output_type": "stream",
     "text": [
      "ls: cannot access 'faisall/Train/CameraRGB': No such file or directory\n",
      "ls: cannot access 'faisall/Valid/CameraRGB': No such file or directory\n",
      "ls: cannot access 'faisall/Test/CameraRGB': No such file or directory\n",
      "episode_0000_000029.png\n",
      "episode_0000_000030.png\n",
      "episode_0000_000031.png\n",
      "episode_0000_000032.png\n",
      "episode_0000_000033.png\n",
      "ls: write error: Broken pipe\n",
      "00001.png\n",
      "00002.png\n",
      "00003.png\n",
      "00004.png\n",
      "00005.png\n",
      "00001.png\n",
      "00002.png\n",
      "00003.png\n",
      "00004.png\n",
      "00005.png\n"
     ]
    }
   ],
   "source": [
    "# !ls faisall/Train/CameraRGB | head -5\n",
    "# !ls faisall/Valid/CameraRGB | head -5\n",
    "# !ls faisall/Test/CameraRGB | head -5\n",
    "# !ls faisall/Train/CameraSeg | head -5\n",
    "# !ls faisall/Valid/CameraSeg | head -5\n",
    "# !ls faisall/Test/CameraSeg | head -5"
   ]
  },
  {
   "cell_type": "code",
   "execution_count": 112,
   "metadata": {
    "colab": {
     "autoexec": {
      "startup": false,
      "wait_interval": 0
     },
     "base_uri": "https://localhost:8080/",
     "height": 68
    },
    "colab_type": "code",
    "executionInfo": {
     "elapsed": 54576,
     "status": "ok",
     "timestamp": 1527559690886,
     "user": {
      "displayName": "Yoshiaki Sono",
      "photoUrl": "//lh6.googleusercontent.com/-QqkpoqOp_fA/AAAAAAAAAAI/AAAAAAAAA8A/EfPYTWzQRSI/s50-c-k-no/photo.jpg",
      "userId": "110633234607464757614"
     },
     "user_tz": 420
    },
    "id": "nJfy2PO3pfV0",
    "outputId": "a62d8ab6-2371-41b4-ba19-b425d59f3b21"
   },
   "outputs": [
    {
     "name": "stdout",
     "output_type": "stream",
     "text": [
      "Copying gs://ysono-ml/datasets/carla/faisall-rgb.tgz...\n",
      "|\n",
      "Operation completed over 1 objects/2.3 GiB.                                      \n"
     ]
    }
   ],
   "source": [
    "!gsutil cp gs://ysono-ml/datasets/carla/faisall-rgb.tgz ."
   ]
  },
  {
   "cell_type": "code",
   "execution_count": 114,
   "metadata": {
    "colab": {
     "autoexec": {
      "startup": false,
      "wait_interval": 0
     },
     "base_uri": "https://localhost:8080/",
     "height": 34
    },
    "colab_type": "code",
    "executionInfo": {
     "elapsed": 29986,
     "status": "ok",
     "timestamp": 1527559754239,
     "user": {
      "displayName": "Yoshiaki Sono",
      "photoUrl": "//lh6.googleusercontent.com/-QqkpoqOp_fA/AAAAAAAAAAI/AAAAAAAAA8A/EfPYTWzQRSI/s50-c-k-no/photo.jpg",
      "userId": "110633234607464757614"
     },
     "user_tz": 420
    },
    "id": "ZSpkBO-utKAI",
    "outputId": "27e5e80a-073d-4361-ac4d-33fa8721044d"
   },
   "outputs": [
    {
     "name": "stdout",
     "output_type": "stream",
     "text": [
      "4825\r\n"
     ]
    }
   ],
   "source": [
    "!tar -ztf faisall-rgb.tgz | wc -l\n",
    "# should be 3822 + 500 + 500 (+ 3 for folder names display). 3822 has the duplicates removed (originally count was 4822)."
   ]
  },
  {
   "cell_type": "markdown",
   "metadata": {
    "colab_type": "text",
    "id": "W_P7oQQUDFZ0"
   },
   "source": [
    "### From @phmagic"
   ]
  },
  {
   "cell_type": "code",
   "execution_count": 3,
   "metadata": {
    "colab": {
     "autoexec": {
      "startup": false,
      "wait_interval": 0
     },
     "base_uri": "https://localhost:8080/",
     "height": 289
    },
    "colab_type": "code",
    "executionInfo": {
     "elapsed": 119886,
     "status": "ok",
     "timestamp": 1527935561381,
     "user": {
      "displayName": "Yoshiaki Sono",
      "photoUrl": "//lh6.googleusercontent.com/-QqkpoqOp_fA/AAAAAAAAAAI/AAAAAAAAA8A/EfPYTWzQRSI/s50-c-k-no/photo.jpg",
      "userId": "110633234607464757614"
     },
     "user_tz": 420
    },
    "id": "vFqE016VDILq",
    "outputId": "52d88702-680a-48c5-8420-af00b498ea37"
   },
   "outputs": [
    {
     "name": "stdout",
     "output_type": "stream",
     "text": [
      "--2018-06-02 10:30:43--  https://www.dropbox.com/s/1etgf32uye2iy8q/world_2_w_cars.tar.gz?dl=0\n",
      "Resolving www.dropbox.com (www.dropbox.com)... 162.125.9.1, 2620:100:601f:1::a27d:901\n",
      "Connecting to www.dropbox.com (www.dropbox.com)|162.125.9.1|:443... connected.\n",
      "HTTP request sent, awaiting response... 302 Found\n",
      "Location: https://dl.dropboxusercontent.com/content_link/SPxiM4Ad9VnfHGuwbrFQkZOvUXmNvuRZI7mOnIzIgoQLPK8VoGPZV9jufg2zJCES/file [following]\n",
      "--2018-06-02 10:30:44--  https://dl.dropboxusercontent.com/content_link/SPxiM4Ad9VnfHGuwbrFQkZOvUXmNvuRZI7mOnIzIgoQLPK8VoGPZV9jufg2zJCES/file\n",
      "Resolving dl.dropboxusercontent.com (dl.dropboxusercontent.com)... 162.125.81.6, 2620:100:6031:6::a27d:5106\n",
      "Connecting to dl.dropboxusercontent.com (dl.dropboxusercontent.com)|162.125.81.6|:443... connected.\n",
      "HTTP request sent, awaiting response... 200 OK\n",
      "Length: 1325363200 (1.2G) [application/octet-stream]\n",
      "Saving to: ‘world_2_w_cars.tar.gz?dl=0’\n",
      "\n",
      "       world_2_w_ca  14%[=>                  ] 188.93M  9.74MB/s    eta 1m 52s world_2_w_cars.tar. 100%[===================>]   1.23G  11.5MB/s    in 1m 56s  \n",
      "\n",
      "2018-06-02 10:32:41 (10.9 MB/s) - ‘world_2_w_cars.tar.gz?dl=0’ saved [1325363200/1325363200]\n",
      "\n"
     ]
    }
   ],
   "source": [
    "!wget https://www.dropbox.com/s/1etgf32uye2iy8q/world_2_w_cars.tar.gz?dl=0"
   ]
  },
  {
   "cell_type": "code",
   "execution_count": 0,
   "metadata": {
    "colab": {
     "autoexec": {
      "startup": false,
      "wait_interval": 0
     }
    },
    "colab_type": "code",
    "id": "xMNnICDxDfJb"
   },
   "outputs": [],
   "source": [
    "!tar -xf world_2_w_cars.tar.gz"
   ]
  },
  {
   "cell_type": "code",
   "execution_count": 14,
   "metadata": {
    "colab": {
     "autoexec": {
      "startup": false,
      "wait_interval": 0
     },
     "base_uri": "https://localhost:8080/",
     "height": 51
    },
    "colab_type": "code",
    "executionInfo": {
     "elapsed": 2754,
     "status": "ok",
     "timestamp": 1527935889072,
     "user": {
      "displayName": "Yoshiaki Sono",
      "photoUrl": "//lh6.googleusercontent.com/-QqkpoqOp_fA/AAAAAAAAAAI/AAAAAAAAA8A/EfPYTWzQRSI/s50-c-k-no/photo.jpg",
      "userId": "110633234607464757614"
     },
     "user_tz": 420
    },
    "id": "txQrUdNbDj3D",
    "outputId": "8bf4fb3c-a23f-4928-ad95-1827a7b009c8"
   },
   "outputs": [
    {
     "name": "stdout",
     "output_type": "stream",
     "text": [
      "2800\n",
      "2800\n"
     ]
    }
   ],
   "source": [
    "!ls world_2_little_cars/*/CameraRGB/* | wc -l\n",
    "!ls world_2_little_cars/*/CameraSeg/* | wc -l"
   ]
  },
  {
   "cell_type": "code",
   "execution_count": 0,
   "metadata": {
    "colab": {
     "autoexec": {
      "startup": false,
      "wait_interval": 0
     }
    },
    "colab_type": "code",
    "id": "36ZbjIRfE66L"
   },
   "outputs": [],
   "source": [
    "!mv world_2_little_cars phmagic-world_2_little_cars"
   ]
  },
  {
   "cell_type": "code",
   "execution_count": 0,
   "metadata": {
    "colab": {
     "autoexec": {
      "startup": false,
      "wait_interval": 0
     }
    },
    "colab_type": "code",
    "id": "zCCpCKs8E9U0"
   },
   "outputs": [],
   "source": [
    "!tar -zcf phmagic-world_2_little_cars-rgb.tgz  phmagic-world_2_little_cars/*/CameraRGB/"
   ]
  },
  {
   "cell_type": "code",
   "execution_count": 0,
   "metadata": {
    "colab": {
     "autoexec": {
      "startup": false,
      "wait_interval": 0
     }
    },
    "colab_type": "code",
    "id": "GjbPpn-QFQsD"
   },
   "outputs": [],
   "source": [
    "!tar -zcf phmagic-world_2_little_cars-13cls-sparse-png-rch.tgz  phmagic-world_2_little_cars/*/CameraSeg/"
   ]
  },
  {
   "cell_type": "code",
   "execution_count": 19,
   "metadata": {
    "colab": {
     "autoexec": {
      "startup": false,
      "wait_interval": 0
     },
     "base_uri": "https://localhost:8080/",
     "height": 51
    },
    "colab_type": "code",
    "executionInfo": {
     "elapsed": 7850,
     "status": "ok",
     "timestamp": 1527936059597,
     "user": {
      "displayName": "Yoshiaki Sono",
      "photoUrl": "//lh6.googleusercontent.com/-QqkpoqOp_fA/AAAAAAAAAAI/AAAAAAAAA8A/EfPYTWzQRSI/s50-c-k-no/photo.jpg",
      "userId": "110633234607464757614"
     },
     "user_tz": 420
    },
    "id": "cZJ5WspsFd4H",
    "outputId": "455b9ac2-c890-4c25-9643-8e58d8652d1c"
   },
   "outputs": [
    {
     "name": "stdout",
     "output_type": "stream",
     "text": [
      "-rw-r--r-- 1 root root  34M Jun  2 10:40 phmagic-world_2_little_cars-13cls-sparse-png-rch.tgz\r\n",
      "-rw-r--r-- 1 root root 1.2G Jun  2 10:40 phmagic-world_2_little_cars-rgb.tgz\r\n"
     ]
    }
   ],
   "source": [
    "ls -lh *tgz"
   ]
  },
  {
   "cell_type": "code",
   "execution_count": 24,
   "metadata": {
    "colab": {
     "autoexec": {
      "startup": false,
      "wait_interval": 0
     },
     "base_uri": "https://localhost:8080/",
     "height": 289
    },
    "colab_type": "code",
    "executionInfo": {
     "elapsed": 17095,
     "status": "ok",
     "timestamp": 1527936189824,
     "user": {
      "displayName": "Yoshiaki Sono",
      "photoUrl": "//lh6.googleusercontent.com/-QqkpoqOp_fA/AAAAAAAAAAI/AAAAAAAAA8A/EfPYTWzQRSI/s50-c-k-no/photo.jpg",
      "userId": "110633234607464757614"
     },
     "user_tz": 420
    },
    "id": "OXnNtE0FF3JO",
    "outputId": "deee0352-07e3-488f-b59e-db07d30ce37d"
   },
   "outputs": [
    {
     "name": "stdout",
     "output_type": "stream",
     "text": [
      "Copying file://phmagic-world_2_little_cars-rgb.tgz [Content-Type=application/x-tar]...\r\n",
      "Copying file://phmagic-world_2_little_cars-13cls-sparse-png-rch.tgz [Content-Type=application/x-tar]...\r\n",
      "==> NOTE: You are uploading one or more large file(s), which would run\r\n",
      "significantly faster if you enable parallel composite uploads. This\r\n",
      "feature can be enabled by editing the\r\n",
      "\"parallel_composite_upload_threshold\" value in your .boto\r\n",
      "configuration file. However, note that if you do this large files will\r\n",
      "be uploaded as `composite objects\r\n",
      "<https://cloud.google.com/storage/docs/composite-objects>`_,which\r\n",
      "means that any user who downloads such objects will need to have a\r\n",
      "compiled crcmod installed (see \"gsutil help crcmod\"). This is because\r\n",
      "without a compiled crcmod, computing checksums on composite objects is\r\n",
      "so slow that gsutil disables downloads of composite objects.\r\n",
      "\n",
      "-\n",
      "Operation completed over 2 objects/1.2 GiB.                                      \n"
     ]
    }
   ],
   "source": [
    "!gsutil -m cp phmagic-world_2_little_cars-rgb.tgz phmagic-world_2_little_cars-13cls-sparse-png-rch.tgz gs://ysono/datasets/carla/"
   ]
  },
  {
   "cell_type": "markdown",
   "metadata": {
    "colab_type": "text",
    "id": "sQOXGX2ghjRS"
   },
   "source": [
    "## Convert to 3 classes: background, drivable road, other car"
   ]
  },
  {
   "cell_type": "markdown",
   "metadata": {
    "colab_type": "text",
    "id": "6gq3JhIk9MNL"
   },
   "source": [
    "| carla | output class |\n",
    "| --- | --- |\n",
    "| 0 None | 0 background |\n",
    "| 1 Buildings | 0 background |\n",
    "| 2 Fences | 0 background |\n",
    "| 3 Other | 0 background |\n",
    "| 4 Pedestrians | 0 background |\n",
    "| 5 Poles | 0 background |\n",
    "| 6 RoadLines | 1 road |\n",
    "| 7 Roads | 1 road |\n",
    "| 8 Sidewalks | 0 background |\n",
    "| 9 Vegetation | 0 background |\n",
    "| 10 Vehicles | for ego, 0 background; else, 2 car |\n",
    "| 11 Walls | 0 background |\n",
    "| 12 TrafficSigns | 0 background |\n"
   ]
  },
  {
   "cell_type": "code",
   "execution_count": 20,
   "metadata": {
    "colab": {
     "autoexec": {
      "startup": false,
      "wait_interval": 0
     },
     "base_uri": "https://localhost:8080/",
     "height": 153
    },
    "colab_type": "code",
    "executionInfo": {
     "elapsed": 3395,
     "status": "ok",
     "timestamp": 1527936075950,
     "user": {
      "displayName": "Yoshiaki Sono",
      "photoUrl": "//lh6.googleusercontent.com/-QqkpoqOp_fA/AAAAAAAAAAI/AAAAAAAAA8A/EfPYTWzQRSI/s50-c-k-no/photo.jpg",
      "userId": "110633234607464757614"
     },
     "user_tz": 420
    },
    "id": "CPRzr_Y9jgHe",
    "outputId": "8cfef216-706e-4fea-f1af-07f5f6fefab3"
   },
   "outputs": [
    {
     "name": "stdout",
     "output_type": "stream",
     "text": [
      "Collecting imageio\n",
      "\u001b[?25l  Downloading https://files.pythonhosted.org/packages/a7/1d/33c8686072148b3b0fcc12a2e0857dd8316b8ae20a0fa66c8d6a6d01c05c/imageio-2.3.0-py2.py3-none-any.whl (3.3MB)\n",
      "\u001b[K    100% |████████████████████████████████| 3.3MB 5.4MB/s \n",
      "\u001b[?25hRequirement already satisfied: numpy in /usr/local/lib/python3.6/dist-packages (from imageio) (1.14.3)\n",
      "Requirement already satisfied: pillow in /usr/local/lib/python3.6/dist-packages (from imageio) (4.0.0)\n",
      "Requirement already satisfied: olefile in /usr/local/lib/python3.6/dist-packages (from pillow->imageio) (0.45.1)\n",
      "Installing collected packages: imageio\n",
      "Successfully installed imageio-2.3.0\n"
     ]
    }
   ],
   "source": [
    "!pip install imageio\n",
    "\n",
    "import glob\n",
    "import imageio\n",
    "import matplotlib.pyplot as plt\n",
    "import numpy as np\n",
    "import os\n",
    "import shutil\n",
    "import skimage.transform"
   ]
  },
  {
   "cell_type": "code",
   "execution_count": 0,
   "metadata": {
    "colab": {
     "autoexec": {
      "startup": false,
      "wait_interval": 0
     }
    },
    "colab_type": "code",
    "id": "_mPl7ALV1t-M"
   },
   "outputs": [],
   "source": [
    "# NONEGO_CAR_MASK = np.invert(np.load('ego.npy'))\n",
    "\n",
    "def extract_3cls_from_13cls(label_13cls_3ch, return_only=None):\n",
    "\n",
    "    label_13cls_sparse = label_13cls_3ch[:,:,0]\n",
    "\n",
    "    road = (label_13cls_sparse == 6) | (label_13cls_sparse == 7)\n",
    "\n",
    "    car = (label_13cls_sparse == 10)\n",
    "#     nonego_car = (label_13cls_sparse == 10) & NONEGO_CAR_MASK\n",
    "\n",
    "    nonego_car = np.copy(car)\n",
    "    nonego_car[495:, :] = False    # Label bonnet/hood as background\n",
    "\n",
    "    bg = np.invert(road | nonego_car)\n",
    "\n",
    "    label_3ch_onehot_bool = np.stack((bg, road, nonego_car), axis=-1)\n",
    "\n",
    "    label_3ch_onehot_uint8 = label_3ch_onehot_bool.astype(np.uint8) * 255\n",
    "    # Note, later resizing of a onehot image with positive label of 255\n",
    "    # by skimage.transform.resize()\n",
    "    # results in an image with positive label of 1.\n",
    "    # Hence, after resizing, make sure to use np.argmax(axis=-1) to flatten\n",
    "    # the label image into sparse IDs.\n",
    "\n",
    "    # Also write out a 3-channel image that uses only the first channel, which\n",
    "    # which contains the sparse labelling -- this is the style of Cityscapes's\n",
    "    # *labelTrainIds.png (see\n",
    "    # https://github.com/mcordts/cityscapesScripts/blob/master/cityscapesscripts/preparation/createTrainIdLabelImgs.py)\n",
    "    label_3ch_sparse = np.argmax(label_3ch_onehot_bool, axis=-1).astype(np.uint8)\n",
    "\n",
    "    if return_only == 'onehot_uint8':\n",
    "        return label_3ch_onehot_uint8\n",
    "    elif return_only == 'sparse':\n",
    "        return label_3ch_sparse\n",
    "    else:\n",
    "        return (label_13cls_sparse, road, car, nonego_car, bg, label_3ch_onehot_uint8, label_3ch_sparse)"
   ]
  },
  {
   "cell_type": "code",
   "execution_count": 29,
   "metadata": {
    "colab": {
     "autoexec": {
      "startup": false,
      "wait_interval": 0
     },
     "base_uri": "https://localhost:8080/",
     "height": 377
    },
    "colab_type": "code",
    "executionInfo": {
     "elapsed": 1288,
     "status": "ok",
     "timestamp": 1527936472886,
     "user": {
      "displayName": "Yoshiaki Sono",
      "photoUrl": "//lh6.googleusercontent.com/-QqkpoqOp_fA/AAAAAAAAAAI/AAAAAAAAA8A/EfPYTWzQRSI/s50-c-k-no/photo.jpg",
      "userId": "110633234607464757614"
     },
     "user_tz": 420
    },
    "id": "3__lDekXndAh",
    "outputId": "c1948465-9ed4-4d14-c9f1-aa4a5de0c8cb"
   },
   "outputs": [
    {
     "name": "stderr",
     "output_type": "stream",
     "text": [
      "/usr/local/lib/python3.6/dist-packages/skimage/transform/_warps.py:84: UserWarning: The default mode, 'constant', will be changed to 'reflect' in skimage 0.15.\n",
      "  warn(\"The default mode, 'constant', will be changed to 'reflect' in \"\n"
     ]
    },
    {
     "data": {
      "image/png": "[encoded data removed]",
      "text/plain": [
       "<matplotlib.figure.Figure at 0x7f73ec10c080>"
      ]
     },
     "metadata": {
      "tags": []
     },
     "output_type": "display_data"
    }
   ],
   "source": [
    "def visualize_extracted_3cls(input_path, gt_path):\n",
    "\n",
    "#     input_rgb = imageio.imread(input_path)\n",
    "    label_rgb = imageio.imread(gt_path)\n",
    "    \n",
    "    label_13cls_sparse, road, car, nonego_car, bg, label_3ch_onehot, label_3ch_sparse = \\\n",
    "        extract_3cls_from_13cls(label_rgb)\n",
    "    \n",
    "    # Ensure the onehot version can be resized by skimage without corrupting the labels\n",
    "    label_3ch_onehot_resized = skimage.transform.resize(label_3ch_onehot, (500, 300), order=0)\n",
    "    label_3ch_onehot_resized_argmax = np.argmax(label_3ch_onehot_resized, axis=-1)\n",
    "\n",
    "    imgs = [# input_rgb,\n",
    "            label_13cls_sparse,\n",
    "            road, car, nonego_car, bg,\n",
    "            label_3ch_onehot,\n",
    "            label_3ch_sparse,\n",
    "            label_3ch_onehot_resized,\n",
    "            label_3ch_onehot_resized_argmax]\n",
    "\n",
    "    fig, axes = plt.subplots(nrows=1, ncols=len(imgs), figsize=(len(imgs) * 4, 5))\n",
    "\n",
    "    for ax, img in zip(axes, imgs):\n",
    "        ax.imshow(img, cmap='Greys_r')\n",
    "        ax.grid(False)\n",
    "\n",
    "# visualize_extracted_3cls('Train/CameraRGB/900.png', 'Train/CameraSeg/900.png')\n",
    "# visualize_extracted_3cls('CameraRGB/F8-88.png', 'CameraSeg/F8-88.png')\n",
    "# visualize_extracted_3cls('CameraRGB/F65-90.png', 'CameraSeg/F65-90.png')\n",
    "# visualize_extracted_3cls('CameraRGB/M10-100.png', 'CameraSeg/M10-100.png')\n",
    "# visualize_extracted_3cls('data/Train/CameraRGB/episode_0000_000040.png', 'data/Train/CameraSeg/episode_0000_000040.png')\n",
    "# visualize_extracted_3cls('data/Valid/CameraRGB/00352.png', 'data/Valid/CameraSeg/00352.png')\n",
    "visualize_extracted_3cls('phmagic-world_2_little_cars/episode_0001/CameraRGB/000169.png', 'phmagic-world_2_little_cars/episode_0001/CameraSeg/000169.png')"
   ]
  },
  {
   "cell_type": "markdown",
   "metadata": {
    "colab_type": "text",
    "id": "Mk9pM1ac5xEt"
   },
   "source": [
    "### Write sparse as png"
   ]
  },
  {
   "cell_type": "code",
   "execution_count": 0,
   "metadata": {
    "colab": {
     "autoexec": {
      "startup": false,
      "wait_interval": 0
     }
    },
    "colab_type": "code",
    "id": "OTmD27K55xEu"
   },
   "outputs": [],
   "source": [
    "def write_3cls_sparse_as_png(in_paths, out_dir):\n",
    "    '''\n",
    "    Grayscale meaning 1 channel; _not_ adding zeroed-out channels to create 3-channel images.\n",
    "    '''\n",
    "\n",
    "#     in_paths = 'udacity/Train/CameraSeg/udacity-*'\n",
    "#     out_dir = 'udacity-3ch/CameraSeg'\n",
    "\n",
    "#     in_paths = 'chinkiat1/CameraSeg/*'\n",
    "#     out_dir = 'chinkiat1-3ch/CameraSeg'\n",
    "#     in_paths = 'chinkiat2/CameraSeg/*'\n",
    "#     out_dir = 'chinkiat2-3ch/CameraSeg'\n",
    "\n",
    "#     in_paths = 'faisall/Train/CameraSeg/*'\n",
    "#     out_dir = 'faisall-3ch/Train/CameraSeg'\n",
    "#     in_paths = 'faisall/Valid/CameraSeg/*'\n",
    "#     out_dir = 'faisall-3ch/Valid/CameraSeg'\n",
    "#     in_paths = 'faisall/Test/CameraSeg/*'\n",
    "#     out_dir = 'faisall-3ch/Test/CameraSeg'\n",
    "\n",
    "#     in_paths = 'phmagic-world_2_little_cars/episode_0000/CameraSeg/*'\n",
    "#     out_dir = 'phmagic-world_2_little_cars-3cls/episode_0000/CameraSeg'\n",
    "\n",
    "    shutil.rmtree(out_dir, ignore_errors=True)\n",
    "    os.makedirs(out_dir, exist_ok=True)\n",
    "\n",
    "    for label_13cls_path in glob.glob(in_paths):\n",
    "                \n",
    "        label_13cls_3ch = imageio.imread(label_13cls_path)\n",
    "        \n",
    "        label_3ch = extract_3cls_from_13cls(label_13cls_3ch, return_only='sparse')\n",
    "        assert label_13cls_3ch.shape[:2] == label_3ch.shape\n",
    "        assert label_3ch.shape == (600, 800)\n",
    "        assert label_3ch.dtype == np.uint8\n",
    "        assert set(np.unique(label_3ch)) <= set(range(3))\n",
    "        \n",
    "        filename = os.path.basename(label_13cls_path)\n",
    "        assert filename.endswith('.png')\n",
    "        label_3ch_path = os.path.join(out_dir, filename)\n",
    "        imageio.imwrite(label_3ch_path, label_3ch)\n",
    "\n",
    "# write_3cls_sparse_as_png()\n",
    "\n",
    "for i in range(14):\n",
    "    epsd = str(i).zfill(2)\n",
    "    in_paths = 'phmagic-world_2_little_cars/episode_00{}/CameraSeg/*'.format(str(epsd).zfill(2))\n",
    "    out_dir = 'phmagic-world_2_little_cars-3cls/episode_00{}/CameraSeg'.format(str(epsd).zfill(2))\n",
    "    write_3cls_sparse_as_png(in_paths, out_dir)"
   ]
  },
  {
   "cell_type": "code",
   "execution_count": 46,
   "metadata": {
    "colab": {
     "autoexec": {
      "startup": false,
      "wait_interval": 0
     },
     "base_uri": "https://localhost:8080/",
     "height": 34
    },
    "colab_type": "code",
    "executionInfo": {
     "elapsed": 1692,
     "status": "ok",
     "timestamp": 1527937680062,
     "user": {
      "displayName": "Yoshiaki Sono",
      "photoUrl": "//lh6.googleusercontent.com/-QqkpoqOp_fA/AAAAAAAAAAI/AAAAAAAAA8A/EfPYTWzQRSI/s50-c-k-no/photo.jpg",
      "userId": "110633234607464757614"
     },
     "user_tz": 420
    },
    "id": "waD9H_2h51mC",
    "outputId": "cdd2a4cc-2844-4e96-ad74-b7d2125db08c"
   },
   "outputs": [
    {
     "name": "stdout",
     "output_type": "stream",
     "text": [
      "2800\r\n"
     ]
    }
   ],
   "source": [
    "# !ls udacity-3ch/CameraSeg | wc -l\n",
    "\n",
    "# !ls CameraSeg | wc -l\n",
    "# !ls chinkiat1-3ch/CameraSeg | wc -l\n",
    "# !ls chinkiat2-3ch/CameraSeg | wc -l\n",
    "\n",
    "# !ls faisall-3ch/Train/CameraSeg | wc -l\n",
    "# !ls faisall-3ch/Valid/CameraSeg | wc -l\n",
    "# !ls faisall-3ch/Test/CameraSeg | wc -l\n",
    "# !ls faisall-3ch/Train/CameraSeg | head -5\n",
    "# !ls faisall-3ch/Valid/CameraSeg | head -5\n",
    "# !ls faisall-3ch/Test/CameraSeg | head -5\n",
    "\n",
    "!ls phmagic-world_2_little_cars-3cls/*/CameraSeg/* | wc -l"
   ]
  },
  {
   "cell_type": "code",
   "execution_count": 0,
   "metadata": {
    "colab": {
     "autoexec": {
      "startup": false,
      "wait_interval": 0
     }
    },
    "colab_type": "code",
    "id": "cBPBeQOW5xEv"
   },
   "outputs": [],
   "source": [
    "# !tar -C udacity-3ch -zcf udacity-road_vehicle-sparse-png.tgz CameraSeg\n",
    "# !tar -C chinkiat1-3ch -zcf chinkiat1-road_vehicle-sparse-png.tgz CameraSeg\n",
    "# !tar -C chinkiat2-3ch -zcf chinkiat2-road_vehicle-sparse-png.tgz CameraSeg\n",
    "# !tar -C faisall-3ch -zcf faisall-road_vehicle-sparse-png.tgz Train/CameraSeg/ Valid/CameraSeg/ Test/CameraSeg/\n",
    "!tar -zcf phmagic-world_2_little_cars-road_vehicle-sparse-png.tgz phmagic-world_2_little_cars-3cls/"
   ]
  },
  {
   "cell_type": "code",
   "execution_count": 49,
   "metadata": {
    "colab": {
     "autoexec": {
      "startup": false,
      "wait_interval": 0
     },
     "base_uri": "https://localhost:8080/",
     "height": 136
    },
    "colab_type": "code",
    "executionInfo": {
     "elapsed": 2609,
     "status": "ok",
     "timestamp": 1527937773328,
     "user": {
      "displayName": "Yoshiaki Sono",
      "photoUrl": "//lh6.googleusercontent.com/-QqkpoqOp_fA/AAAAAAAAAAI/AAAAAAAAA8A/EfPYTWzQRSI/s50-c-k-no/photo.jpg",
      "userId": "110633234607464757614"
     },
     "user_tz": 420
    },
    "id": "VaR0MXN03oN5",
    "outputId": "2f46b1fa-5a36-47e9-b8e0-b084bec9db5e"
   },
   "outputs": [
    {
     "name": "stdout",
     "output_type": "stream",
     "text": [
      "phmagic-world_2_little_cars-3cls/\r\n",
      "phmagic-world_2_little_cars-3cls/episode_0013/\r\n",
      "phmagic-world_2_little_cars-3cls/episode_0013/CameraSeg/\r\n",
      "phmagic-world_2_little_cars-3cls/episode_0013/CameraSeg/000072.png\r\n",
      "phmagic-world_2_little_cars-3cls/episode_0013/CameraSeg/000002.png\n",
      "tar: write error\n",
      "2829\n"
     ]
    }
   ],
   "source": [
    "# !tar -ztf udacity-road_vehicle-sparse-png.tgz | head -5\n",
    "# !tar -ztf udacity-road_vehicle-sparse-png.tgz | wc -l\n",
    "\n",
    "# !tar -ztf chinkiat1-road_vehicle-sparse-png.tgz | head -5\n",
    "# !tar -ztf chinkiat1-road_vehicle-sparse-png.tgz | wc -l\n",
    "\n",
    "# !tar -ztf chinkiat2-road_vehicle-sparse-png.tgz | head -5\n",
    "# !tar -ztf chinkiat2-road_vehicle-sparse-png.tgz | wc -l\n",
    "\n",
    "# !tar -ztf faisall-road_vehicle-sparse-png.tgz | head -5\n",
    "# !tar -ztf faisall-road_vehicle-sparse-png.tgz | wc -l\n",
    "\n",
    "!tar -ztf phmagic-world_2_little_cars-road_vehicle-sparse-png.tgz | head -5\n",
    "!tar -ztf phmagic-world_2_little_cars-road_vehicle-sparse-png.tgz | wc -l"
   ]
  },
  {
   "cell_type": "code",
   "execution_count": 50,
   "metadata": {
    "colab": {
     "autoexec": {
      "startup": false,
      "wait_interval": 0
     },
     "base_uri": "https://localhost:8080/",
     "height": 68
    },
    "colab_type": "code",
    "executionInfo": {
     "elapsed": 4196,
     "status": "ok",
     "timestamp": 1527937848313,
     "user": {
      "displayName": "Yoshiaki Sono",
      "photoUrl": "//lh6.googleusercontent.com/-QqkpoqOp_fA/AAAAAAAAAAI/AAAAAAAAA8A/EfPYTWzQRSI/s50-c-k-no/photo.jpg",
      "userId": "110633234607464757614"
     },
     "user_tz": 420
    },
    "id": "n-q0yZNu5xE2",
    "outputId": "222219a3-d151-44f8-ecab-53210b2652c4"
   },
   "outputs": [
    {
     "name": "stdout",
     "output_type": "stream",
     "text": [
      "Copying file://phmagic-world_2_little_cars-road_vehicle-sparse-png.tgz [Content-Type=application/x-tar]...\n",
      "-\n",
      "Operation completed over 1 objects/2.8 MiB.                                      \n"
     ]
    }
   ],
   "source": [
    "!gsutil cp phmagic-world_2_little_cars-road_vehicle-sparse-png.tgz gs://{GCS_BUCKET}/datasets/carla/"
   ]
  },
  {
   "cell_type": "code",
   "execution_count": 124,
   "metadata": {
    "colab": {
     "autoexec": {
      "startup": false,
      "wait_interval": 0
     },
     "base_uri": "https://localhost:8080/",
     "height": 34
    },
    "colab_type": "code",
    "executionInfo": {
     "elapsed": 1471,
     "status": "ok",
     "timestamp": 1527560078466,
     "user": {
      "displayName": "Yoshiaki Sono",
      "photoUrl": "//lh6.googleusercontent.com/-QqkpoqOp_fA/AAAAAAAAAAI/AAAAAAAAA8A/EfPYTWzQRSI/s50-c-k-no/photo.jpg",
      "userId": "110633234607464757614"
     },
     "user_tz": 420
    },
    "id": "QsPmmbtel3rE",
    "outputId": "b40a1b3d-b9c3-449f-e9d0-82beee670954"
   },
   "outputs": [
    {
     "name": "stdout",
     "output_type": "stream",
     "text": [
      "datalab\r\n"
     ]
    }
   ],
   "source": [
    "!ls"
   ]
  },
  {
   "cell_type": "code",
   "execution_count": 0,
   "metadata": {
    "colab": {
     "autoexec": {
      "startup": false,
      "wait_interval": 0
     }
    },
    "colab_type": "code",
    "id": "tLXCE4Yllwon"
   },
   "outputs": [],
   "source": [
    "# !rm -r udacity*.tgz Train udacity-3ch\n",
    "# !rm -r chinkiat1*.tgz CameraSeg chinkiat1-3ch\n",
    "# !rm -r chinkiat2*.tgz CameraSeg chinkiat2-3ch\n",
    "!rm -r faisall*.tgz faisall faisall-3ch "
   ]
  },
  {
   "cell_type": "markdown",
   "metadata": {
    "colab_type": "text",
    "id": "u93JnPnJZX80"
   },
   "source": [
    "### Analyze sparse png"
   ]
  },
  {
   "cell_type": "code",
   "execution_count": 8,
   "metadata": {
    "colab": {
     "autoexec": {
      "startup": false,
      "wait_interval": 0
     },
     "base_uri": "https://localhost:8080/",
     "height": 221
    },
    "colab_type": "code",
    "executionInfo": {
     "elapsed": 11769,
     "status": "ok",
     "timestamp": 1527555681342,
     "user": {
      "displayName": "Yoshiaki Sono",
      "photoUrl": "//lh6.googleusercontent.com/-QqkpoqOp_fA/AAAAAAAAAAI/AAAAAAAAA8A/EfPYTWzQRSI/s50-c-k-no/photo.jpg",
      "userId": "110633234607464757614"
     },
     "user_tz": 420
    },
    "id": "hVSadmpXZbe9",
    "outputId": "ccd57599-2aa3-4364-d2b6-3a1d41e9cfe6"
   },
   "outputs": [
    {
     "name": "stdout",
     "output_type": "stream",
     "text": [
      "Copying gs://ysono-ml/datasets/carla/udacity-13cls-sparse-png-rch.tgz...\n",
      "/ [1 files][ 15.8 MiB/ 15.8 MiB]                                                \n",
      "Operation completed over 1 objects/15.8 MiB.                                     \n",
      "Copying gs://ysono-ml/datasets/carla/chinkiat1-13cls-sparse-png-rch.tgz...\n",
      "/ [1 files][ 16.0 MiB/ 16.0 MiB]                                                \n",
      "Operation completed over 1 objects/16.0 MiB.                                     \n",
      "Copying gs://ysono-ml/datasets/carla/chinkiat2-13cls-sparse-png-rch.tgz...\n",
      "/ [1 files][ 15.5 MiB/ 15.5 MiB]                                                \n",
      "Operation completed over 1 objects/15.5 MiB.                                     \n",
      "Copying gs://ysono-ml/datasets/carla/faisall-13cls-sparse-png-rch.tgz...\n",
      "- [1 files][ 68.9 MiB/ 68.9 MiB]                                                \n",
      "Operation completed over 1 objects/68.9 MiB.                                     \n"
     ]
    }
   ],
   "source": [
    "!gsutil cp gs://ysono-ml/datasets/carla/udacity-13cls-sparse-png-rch.tgz .\n",
    "!gsutil cp gs://ysono-ml/datasets/carla/chinkiat1-13cls-sparse-png-rch.tgz .\n",
    "!gsutil cp gs://ysono-ml/datasets/carla/chinkiat2-13cls-sparse-png-rch.tgz .\n",
    "!gsutil cp gs://ysono-ml/datasets/carla/faisall-13cls-sparse-png-rch.tgz ."
   ]
  },
  {
   "cell_type": "code",
   "execution_count": 11,
   "metadata": {
    "colab": {
     "autoexec": {
      "startup": false,
      "wait_interval": 0
     },
     "base_uri": "https://localhost:8080/",
     "height": 425
    },
    "colab_type": "code",
    "executionInfo": {
     "elapsed": 6203,
     "status": "ok",
     "timestamp": 1527555773251,
     "user": {
      "displayName": "Yoshiaki Sono",
      "photoUrl": "//lh6.googleusercontent.com/-QqkpoqOp_fA/AAAAAAAAAAI/AAAAAAAAA8A/EfPYTWzQRSI/s50-c-k-no/photo.jpg",
      "userId": "110633234607464757614"
     },
     "user_tz": 420
    },
    "id": "-p0WkOMAal7e",
    "outputId": "5fb011bb-f656-446a-c513-125870489b00"
   },
   "outputs": [
    {
     "name": "stdout",
     "output_type": "stream",
     "text": [
      "Train/CameraSeg/\r\n",
      "Train/CameraSeg/udacity-13.png\r\n",
      "Train/CameraSeg/udacity-744.png\r\n",
      "Train/CameraSeg/udacity-134.png\r\n",
      "Train/CameraSeg/udacity-913.png\n",
      "tar: write error\n",
      "CameraSeg/\n",
      "CameraSeg/F69-20.png\n",
      "CameraSeg/F69-97.png\n",
      "CameraSeg/F70-83.png\n",
      "CameraSeg/F67-90.png\n",
      "tar: write error\n",
      "CameraSeg/\n",
      "CameraSeg/M4-73.png\n",
      "CameraSeg/M8-93.png\n",
      "CameraSeg/M8-49.png\n",
      "CameraSeg/M10-38.png\n",
      "tar: write error\n",
      "Train/CameraSeg/\n",
      "Train/CameraSeg/episode_0007_000096.png\n",
      "Train/CameraSeg/episode_0013_000287.png\n",
      "Train/CameraSeg/episode_0013_000174.png\n",
      "Train/CameraSeg/episode_0004_000137.png\n",
      "tar: write error\n"
     ]
    }
   ],
   "source": [
    "!tar -ztf udacity-13cls-sparse-png-rch.tgz | head -5\n",
    "!tar -ztf chinkiat1-13cls-sparse-png-rch.tgz | head -5\n",
    "!tar -ztf chinkiat2-13cls-sparse-png-rch.tgz | head -5\n",
    "!tar -ztf faisall-13cls-sparse-png-rch.tgz | head -5"
   ]
  },
  {
   "cell_type": "code",
   "execution_count": 0,
   "metadata": {
    "colab": {
     "autoexec": {
      "startup": false,
      "wait_interval": 0
     }
    },
    "colab_type": "code",
    "id": "ups-4f21a4I9"
   },
   "outputs": [],
   "source": [
    "!tar -zxf udacity-13cls-sparse-png-rch.tgz\n",
    "!tar -zxf chinkiat1-13cls-sparse-png-rch.tgz\n",
    "!tar -zxf chinkiat2-13cls-sparse-png-rch.tgz\n",
    "!tar -zxf faisall-13cls-sparse-png-rch.tgz"
   ]
  },
  {
   "cell_type": "code",
   "execution_count": 13,
   "metadata": {
    "colab": {
     "autoexec": {
      "startup": false,
      "wait_interval": 0
     },
     "base_uri": "https://localhost:8080/",
     "height": 85
    },
    "colab_type": "code",
    "executionInfo": {
     "elapsed": 4792,
     "status": "ok",
     "timestamp": 1527555884041,
     "user": {
      "displayName": "Yoshiaki Sono",
      "photoUrl": "//lh6.googleusercontent.com/-QqkpoqOp_fA/AAAAAAAAAAI/AAAAAAAAA8A/EfPYTWzQRSI/s50-c-k-no/photo.jpg",
      "userId": "110633234607464757614"
     },
     "user_tz": 420
    },
    "id": "JB_x4hCfbCka",
    "outputId": "bc010ea8-43cd-4c01-f82c-b5957b49e543"
   },
   "outputs": [
    {
     "name": "stdout",
     "output_type": "stream",
     "text": [
      "4822\n",
      "500\n",
      "500\n",
      "2000\n"
     ]
    }
   ],
   "source": [
    "!ls Train/CameraSeg/*png | wc -l\n",
    "!ls Valid/CameraSeg/*png | wc -l\n",
    "!ls Test/CameraSeg/*png | wc -l\n",
    "!ls CameraSeg/*png | wc -l"
   ]
  },
  {
   "cell_type": "code",
   "execution_count": 0,
   "metadata": {
    "colab": {
     "autoexec": {
      "startup": false,
      "wait_interval": 0
     }
    },
    "colab_type": "code",
    "id": "b0L7RFMkbT7r"
   },
   "outputs": [],
   "source": [
    "import glob\n",
    "filenames = \\\n",
    "    list(glob.glob('Train/CameraSeg/*png')) + \\\n",
    "    list(glob.glob('Valid/CameraSeg/*png')) + \\\n",
    "    list(glob.glob('Test/CameraSeg/*png')) + \\\n",
    "    list(glob.glob('CameraSeg/*png'))"
   ]
  },
  {
   "cell_type": "code",
   "execution_count": 19,
   "metadata": {
    "colab": {
     "autoexec": {
      "startup": false,
      "wait_interval": 0
     },
     "base_uri": "https://localhost:8080/",
     "height": 153
    },
    "colab_type": "code",
    "executionInfo": {
     "elapsed": 3070,
     "status": "ok",
     "timestamp": 1527556056808,
     "user": {
      "displayName": "Yoshiaki Sono",
      "photoUrl": "//lh6.googleusercontent.com/-QqkpoqOp_fA/AAAAAAAAAAI/AAAAAAAAA8A/EfPYTWzQRSI/s50-c-k-no/photo.jpg",
      "userId": "110633234607464757614"
     },
     "user_tz": 420
    },
    "id": "Z8_l_qjnb4SW",
    "outputId": "96f4fc56-1949-4b6f-cf71-8a1730376ca9"
   },
   "outputs": [
    {
     "name": "stdout",
     "output_type": "stream",
     "text": [
      "Collecting imageio\n",
      "\u001b[?25l  Downloading https://files.pythonhosted.org/packages/a7/1d/33c8686072148b3b0fcc12a2e0857dd8316b8ae20a0fa66c8d6a6d01c05c/imageio-2.3.0-py2.py3-none-any.whl (3.3MB)\n",
      "\u001b[K    100% |████████████████████████████████| 3.3MB 4.2MB/s \n",
      "\u001b[?25hRequirement already satisfied: numpy in /usr/local/lib/python3.6/dist-packages (from imageio) (1.14.3)\n",
      "Requirement already satisfied: pillow in /usr/local/lib/python3.6/dist-packages (from imageio) (4.0.0)\n",
      "Requirement already satisfied: olefile in /usr/local/lib/python3.6/dist-packages (from pillow->imageio) (0.45.1)\n",
      "Installing collected packages: imageio\n",
      "Successfully installed imageio-2.3.0\n"
     ]
    }
   ],
   "source": [
    "!pip install imageio\n",
    "import imageio\n",
    "import numpy as np"
   ]
  },
  {
   "cell_type": "code",
   "execution_count": 0,
   "metadata": {
    "colab": {
     "autoexec": {
      "startup": false,
      "wait_interval": 0
     }
    },
    "colab_type": "code",
    "id": "EmMldQVvcgRp"
   },
   "outputs": [],
   "source": [
    "# NONEGOCAR_MASK = np.invert(np.load('ego.npy'))"
   ]
  },
  {
   "cell_type": "code",
   "execution_count": 0,
   "metadata": {
    "colab": {
     "autoexec": {
      "startup": false,
      "wait_interval": 0
     }
    },
    "colab_type": "code",
    "id": "2ZLy_bGubm3X"
   },
   "outputs": [],
   "source": [
    "filtered_filenames = []\n",
    "for f in filenames:\n",
    "    lbl = imageio.imread(f)\n",
    "    if np.any(((lbl[495:,:,0] == 10)) & NONEGOCAR_MASK[495:]):\n",
    "        filtered_filenames.append(f)\n",
    "# labels_13 = np.array([imageio.imread(f) for f in filenames])"
   ]
  },
  {
   "cell_type": "code",
   "execution_count": 30,
   "metadata": {
    "colab": {
     "autoexec": {
      "startup": false,
      "wait_interval": 0
     },
     "base_uri": "https://localhost:8080/",
     "height": 34
    },
    "colab_type": "code",
    "executionInfo": {
     "elapsed": 328,
     "status": "ok",
     "timestamp": 1527556547800,
     "user": {
      "displayName": "Yoshiaki Sono",
      "photoUrl": "//lh6.googleusercontent.com/-QqkpoqOp_fA/AAAAAAAAAAI/AAAAAAAAA8A/EfPYTWzQRSI/s50-c-k-no/photo.jpg",
      "userId": "110633234607464757614"
     },
     "user_tz": 420
    },
    "id": "1bi9jJRtdxpd",
    "outputId": "fb3da641-1ca2-4af6-c929-8f61a9f68a30"
   },
   "outputs": [
    {
     "data": {
      "text/plain": [
       "7822"
      ]
     },
     "execution_count": 30,
     "metadata": {
      "tags": []
     },
     "output_type": "execute_result"
    }
   ],
   "source": [
    "len(filenames)"
   ]
  },
  {
   "cell_type": "code",
   "execution_count": 34,
   "metadata": {
    "colab": {
     "autoexec": {
      "startup": false,
      "wait_interval": 0
     },
     "base_uri": "https://localhost:8080/",
     "height": 34
    },
    "colab_type": "code",
    "executionInfo": {
     "elapsed": 305,
     "status": "ok",
     "timestamp": 1527556909257,
     "user": {
      "displayName": "Yoshiaki Sono",
      "photoUrl": "//lh6.googleusercontent.com/-QqkpoqOp_fA/AAAAAAAAAAI/AAAAAAAAA8A/EfPYTWzQRSI/s50-c-k-no/photo.jpg",
      "userId": "110633234607464757614"
     },
     "user_tz": 420
    },
    "id": "x6_at3JhdItB",
    "outputId": "11cccc83-4380-43f7-bd07-1ea38442872e"
   },
   "outputs": [
    {
     "data": {
      "text/plain": [
       "2618"
      ]
     },
     "execution_count": 34,
     "metadata": {
      "tags": []
     },
     "output_type": "execute_result"
    }
   ],
   "source": [
    "len(filtered_filenames)"
   ]
  },
  {
   "cell_type": "code",
   "execution_count": 26,
   "metadata": {
    "colab": {
     "autoexec": {
      "startup": false,
      "wait_interval": 0
     },
     "base_uri": "https://localhost:8080/",
     "height": 34
    },
    "colab_type": "code",
    "executionInfo": {
     "elapsed": 317,
     "status": "ok",
     "timestamp": 1527556392722,
     "user": {
      "displayName": "Yoshiaki Sono",
      "photoUrl": "//lh6.googleusercontent.com/-QqkpoqOp_fA/AAAAAAAAAAI/AAAAAAAAA8A/EfPYTWzQRSI/s50-c-k-no/photo.jpg",
      "userId": "110633234607464757614"
     },
     "user_tz": 420
    },
    "id": "ssAW5DZLdL4k",
    "outputId": "4876a62e-9231-4089-dcb2-b379fa15d0fe"
   },
   "outputs": [
    {
     "data": {
      "text/plain": [
       "'Train/CameraSeg/episode_0003_000134.png'"
      ]
     },
     "execution_count": 26,
     "metadata": {
      "tags": []
     },
     "output_type": "execute_result"
    }
   ],
   "source": [
    "filtered_filenames[0]"
   ]
  },
  {
   "cell_type": "code",
   "execution_count": 0,
   "metadata": {
    "colab": {
     "autoexec": {
      "startup": false,
      "wait_interval": 0
     }
    },
    "colab_type": "code",
    "id": "vtIHxn9siPTs"
   },
   "outputs": [],
   "source": [
    "filtered_filenames_nonepisode = [f for f in filtered_filenames if 'episode' not in f]"
   ]
  },
  {
   "cell_type": "code",
   "execution_count": 44,
   "metadata": {
    "colab": {
     "autoexec": {
      "startup": false,
      "wait_interval": 0
     },
     "base_uri": "https://localhost:8080/",
     "height": 34
    },
    "colab_type": "code",
    "executionInfo": {
     "elapsed": 350,
     "status": "ok",
     "timestamp": 1527557740011,
     "user": {
      "displayName": "Yoshiaki Sono",
      "photoUrl": "//lh6.googleusercontent.com/-QqkpoqOp_fA/AAAAAAAAAAI/AAAAAAAAA8A/EfPYTWzQRSI/s50-c-k-no/photo.jpg",
      "userId": "110633234607464757614"
     },
     "user_tz": 420
    },
    "id": "m9MAXtW8iURv",
    "outputId": "bd1cd2cb-b26e-4fc4-dc78-10d5d743ff2e"
   },
   "outputs": [
    {
     "data": {
      "text/plain": [
       "1203"
      ]
     },
     "execution_count": 44,
     "metadata": {
      "tags": []
     },
     "output_type": "execute_result"
    }
   ],
   "source": [
    "len(filtered_filenames_nonepisode)"
   ]
  },
  {
   "cell_type": "code",
   "execution_count": 45,
   "metadata": {
    "colab": {
     "autoexec": {
      "startup": false,
      "wait_interval": 0
     },
     "base_uri": "https://localhost:8080/",
     "height": 34
    },
    "colab_type": "code",
    "executionInfo": {
     "elapsed": 382,
     "status": "ok",
     "timestamp": 1527557747661,
     "user": {
      "displayName": "Yoshiaki Sono",
      "photoUrl": "//lh6.googleusercontent.com/-QqkpoqOp_fA/AAAAAAAAAAI/AAAAAAAAA8A/EfPYTWzQRSI/s50-c-k-no/photo.jpg",
      "userId": "110633234607464757614"
     },
     "user_tz": 420
    },
    "id": "3qUAjJwhiWhq",
    "outputId": "8f258970-0c13-4ac0-e010-74480e4f3efd"
   },
   "outputs": [
    {
     "data": {
      "text/plain": [
       "'Train/CameraSeg/udacity-706.png'"
      ]
     },
     "execution_count": 45,
     "metadata": {
      "tags": []
     },
     "output_type": "execute_result"
    }
   ],
   "source": [
    "filtered_filenames_nonepisode[0]"
   ]
  },
  {
   "cell_type": "code",
   "execution_count": 47,
   "metadata": {
    "colab": {
     "autoexec": {
      "startup": false,
      "wait_interval": 0
     },
     "base_uri": "https://localhost:8080/",
     "height": 34
    },
    "colab_type": "code",
    "executionInfo": {
     "elapsed": 292,
     "status": "ok",
     "timestamp": 1527557773750,
     "user": {
      "displayName": "Yoshiaki Sono",
      "photoUrl": "//lh6.googleusercontent.com/-QqkpoqOp_fA/AAAAAAAAAAI/AAAAAAAAA8A/EfPYTWzQRSI/s50-c-k-no/photo.jpg",
      "userId": "110633234607464757614"
     },
     "user_tz": 420
    },
    "id": "PCBi5vdWiYr1",
    "outputId": "ced9c7ec-42b5-4177-fb96-10ab3b6392ff"
   },
   "outputs": [
    {
     "data": {
      "text/plain": [
       "911"
      ]
     },
     "execution_count": 47,
     "metadata": {
      "tags": []
     },
     "output_type": "execute_result"
    }
   ],
   "source": [
    "len([f for f in filtered_filenames_nonepisode if 'udacity' not in f])"
   ]
  },
  {
   "cell_type": "code",
   "execution_count": 48,
   "metadata": {
    "colab": {
     "autoexec": {
      "startup": false,
      "wait_interval": 0
     },
     "base_uri": "https://localhost:8080/",
     "height": 34
    },
    "colab_type": "code",
    "executionInfo": {
     "elapsed": 550,
     "status": "ok",
     "timestamp": 1527557780839,
     "user": {
      "displayName": "Yoshiaki Sono",
      "photoUrl": "//lh6.googleusercontent.com/-QqkpoqOp_fA/AAAAAAAAAAI/AAAAAAAAA8A/EfPYTWzQRSI/s50-c-k-no/photo.jpg",
      "userId": "110633234607464757614"
     },
     "user_tz": 420
    },
    "id": "vEpo3Ssjiewa",
    "outputId": "67b73772-43af-4b2d-a4b9-a545ca3acc50"
   },
   "outputs": [
    {
     "data": {
      "text/plain": [
       "'Valid/CameraSeg/00191.png'"
      ]
     },
     "execution_count": 48,
     "metadata": {
      "tags": []
     },
     "output_type": "execute_result"
    }
   ],
   "source": [
    "[f for f in filtered_filenames_nonepisode if 'udacity' not in f][0]"
   ]
  },
  {
   "cell_type": "code",
   "execution_count": 42,
   "metadata": {
    "colab": {
     "autoexec": {
      "startup": false,
      "wait_interval": 0
     },
     "base_uri": "https://localhost:8080/",
     "height": 238
    },
    "colab_type": "code",
    "executionInfo": {
     "elapsed": 918,
     "status": "ok",
     "timestamp": 1527557082457,
     "user": {
      "displayName": "Yoshiaki Sono",
      "photoUrl": "//lh6.googleusercontent.com/-QqkpoqOp_fA/AAAAAAAAAAI/AAAAAAAAA8A/EfPYTWzQRSI/s50-c-k-no/photo.jpg",
      "userId": "110633234607464757614"
     },
     "user_tz": 420
    },
    "id": "azKWB6rec5WB",
    "outputId": "98a9a883-0b55-4f54-8056-045687f5018c"
   },
   "outputs": [
    {
     "name": "stdout",
     "output_type": "stream",
     "text": [
      "(array([6, 6, 8, 8]), array([309, 490, 260, 539]))\n",
      "(array([6, 6, 8, 8]), array([309, 490, 260, 539]))\n"
     ]
    },
    {
     "data": {
      "image/png": "[encoded data removed]",
      "text/plain": [
       "<matplotlib.figure.Figure at 0x7f49dc0672b0>"
      ]
     },
     "metadata": {
      "tags": []
     },
     "output_type": "display_data"
    }
   ],
   "source": [
    "def temp():\n",
    "    imgs = [imageio.imread(f)[..., 0] for f in filtered_filenames[1000:1002]]\n",
    "    \n",
    "    img_unions = []\n",
    "    for img in imgs:\n",
    "        union = (img[495:] == 10) & NONEGOCAR_MASK[495:]\n",
    "        img_unions.append(union)\n",
    "        \n",
    "        print(np.nonzero(union))\n",
    "    \n",
    "    imgs = img_unions\n",
    "  \n",
    "    import matplotlib.pyplot as plt\n",
    "    fig, axes = plt.subplots(nrows=1, ncols=len(imgs), figsize=(len(imgs) * 20, 25))\n",
    "\n",
    "    for ax, img in zip(axes, imgs):\n",
    "        ax.imshow(img, cmap='Greys_r')\n",
    "#         ax.grid(False)\n",
    "temp()"
   ]
  },
  {
   "cell_type": "code",
   "execution_count": 0,
   "metadata": {
    "colab": {
     "autoexec": {
      "startup": false,
      "wait_interval": 0
     }
    },
    "colab_type": "code",
    "id": "CSx15gtHb-Rk"
   },
   "outputs": [],
   "source": [
    "print(labels_13.dtype, labels13.shape)"
   ]
  },
  {
   "cell_type": "code",
   "execution_count": 0,
   "metadata": {
    "colab": {
     "autoexec": {
      "startup": false,
      "wait_interval": 0
     }
    },
    "colab_type": "code",
    "id": "6hFw8wlFabLN"
   },
   "outputs": [],
   "source": [
    "!gsutil cp gs://ysono-ml/datasets/carla/udacity-road_vehicle-sparse-png.tgz\n",
    "!gsutil cp gs://ysono-ml/datasets/carla/chinkiat1-road_vehicle-sparse-png.tgz\n",
    "!gsutil cp gs://ysono-ml/datasets/carla/chinkiat2-road_vehicle-sparse-png.tgz\n",
    "!gsutil cp gs://ysono-ml/datasets/carla/faisall-road_vehicle-sparse-png.tgz"
   ]
  },
  {
   "cell_type": "markdown",
   "metadata": {
    "colab_type": "text",
    "id": "8kH9HEtmi2eH"
   },
   "source": [
    "### Analyze"
   ]
  },
  {
   "cell_type": "code",
   "execution_count": 0,
   "metadata": {
    "colab": {
     "autoexec": {
      "startup": false,
      "wait_interval": 0
     }
    },
    "colab_type": "code",
    "id": "PEblUfgYi4I2"
   },
   "outputs": [],
   "source": [
    "has_car_under_495 = []\n",
    "for f in filenames:\n",
    "    lbl = imageio.imread(f)\n",
    "    if lbl[500,100,0] == 10:\n",
    "        has_car_under_495.append(f)"
   ]
  },
  {
   "cell_type": "code",
   "execution_count": 50,
   "metadata": {
    "colab": {
     "autoexec": {
      "startup": false,
      "wait_interval": 0
     },
     "base_uri": "https://localhost:8080/",
     "height": 34
    },
    "colab_type": "code",
    "executionInfo": {
     "elapsed": 302,
     "status": "ok",
     "timestamp": 1527558031986,
     "user": {
      "displayName": "Yoshiaki Sono",
      "photoUrl": "//lh6.googleusercontent.com/-QqkpoqOp_fA/AAAAAAAAAAI/AAAAAAAAA8A/EfPYTWzQRSI/s50-c-k-no/photo.jpg",
      "userId": "110633234607464757614"
     },
     "user_tz": 420
    },
    "id": "KM8D07KmjLqs",
    "outputId": "c54fdce9-9060-4bad-a40c-8e188d3df4d8"
   },
   "outputs": [
    {
     "data": {
      "text/plain": [
       "0"
      ]
     },
     "execution_count": 50,
     "metadata": {
      "tags": []
     },
     "output_type": "execute_result"
    }
   ],
   "source": [
    "len(has_car_under_495)"
   ]
  },
  {
   "cell_type": "markdown",
   "metadata": {
    "colab_type": "text",
    "id": "VsuVnDp9EwQD"
   },
   "source": [
    "### Write onehot uint8 as np"
   ]
  },
  {
   "cell_type": "code",
   "execution_count": 0,
   "metadata": {
    "colab": {
     "autoexec": {
      "startup": false,
      "wait_interval": 0
     }
    },
    "colab_type": "code",
    "id": "javPseJzjJ54"
   },
   "outputs": [],
   "source": [
    "def write_3cls_onehot_uint8_as_np():\n",
    "  \n",
    "    out_dir = 'lyft_training_data-3cls-onehot-uint8'\n",
    "    shutil.rmtree(out_dir, ignore_errors=True)\n",
    "    os.makedirs(out_dir, exist_ok=True)\n",
    "\n",
    "    for label_13cls_path in glob.glob('lyft_training_data-13cls/CameraSeg/*'):\n",
    "                \n",
    "        label_13cls_3ch = imageio.imread(label_13cls_path)\n",
    "        \n",
    "        label_3ch = extract_3cls_from_13cls(label_13cls_3ch, return_only='onehot_uint8')\n",
    "        \n",
    "        filename = os.path.basename(label_13cls_path)\n",
    "        filename_noext, _ = os.path.splitext(filename)\n",
    "        label_3ch_path = os.path.join(out_dir, filename_noext)\n",
    "        np.save(label_3ch_path, label_3ch)\n",
    "\n",
    "write_3cls_onehot_uint8_as_np()"
   ]
  },
  {
   "cell_type": "code",
   "execution_count": 0,
   "metadata": {
    "colab": {
     "autoexec": {
      "startup": false,
      "wait_interval": 0
     }
    },
    "colab_type": "code",
    "id": "iJ4LBAcehtNH"
   },
   "outputs": [],
   "source": [
    "!tar -zcf lyft_training_data-3cls-onehot-uint8.tgz lyft_training_data-3cls-onehot-uint8/"
   ]
  },
  {
   "cell_type": "code",
   "execution_count": 0,
   "metadata": {
    "colab": {
     "autoexec": {
      "startup": false,
      "wait_interval": 0
     }
    },
    "colab_type": "code",
    "id": "-yBRoTUZFNlD"
   },
   "outputs": [],
   "source": [
    "!gsutil cp lyft_training_data-3cls-onehot-uint8.tgz gs://{GCS_BUCKET}/datasets/carla/"
   ]
  },
  {
   "cell_type": "markdown",
   "metadata": {
    "colab_type": "text",
    "id": "2E5kYliR7jgQ"
   },
   "source": [
    "## Convert dataset from Udacity to Cityscape classes"
   ]
  },
  {
   "cell_type": "markdown",
   "metadata": {
    "colab_type": "text",
    "id": "qmxEdqO27nWB"
   },
   "source": [
    "| carla | cityscapes |\n",
    "| --- | --- |\n",
    "| 0 None | 255 None |\n",
    "| 1 Buildings | 2 building |\n",
    "| 2 Fences | 4 fence |\n",
    "| 3 Other | 255 None |\n",
    "| 4 Pedestrians | 11 person |\n",
    "| 5 Poles | 5 pole |\n",
    "| 6 RoadLines | 0 road |\n",
    "| 7 Roads | 0 road |\n",
    "| 8 Sidewalks | 1 sidewalk |\n",
    "| 9 Vegetation | 8 vegetation |\n",
    "| 10 Vehicles | for ego, 255 None; else, 13 car |\n",
    "| 11 Walls | 3 wall |\n",
    "| 12 TrafficSigns | 7 traffic sign |\n"
   ]
  },
  {
   "cell_type": "code",
   "execution_count": 0,
   "metadata": {
    "colab": {
     "autoexec": {
      "startup": false,
      "wait_interval": 0
     }
    },
    "colab_type": "code",
    "id": "EywsG96do8X3"
   },
   "outputs": [],
   "source": [
    "6 traffic light\n",
    "9 terrain\n",
    "10 sky\n",
    "12 rider\n",
    "14 truck\n",
    "15 bus\n",
    "16 train\n",
    "17 motorcycle\n",
    "18 bicycle"
   ]
  },
  {
   "cell_type": "code",
   "execution_count": 0,
   "metadata": {
    "colab": {
     "autoexec": {
      "startup": false,
      "wait_interval": 0
     },
     "base_uri": "https://localhost:8080/",
     "height": 85
    },
    "colab_type": "code",
    "executionInfo": {
     "elapsed": 2521,
     "status": "ok",
     "timestamp": 1526442374921,
     "user": {
      "displayName": "Yoshiaki Sono",
      "photoUrl": "//lh6.googleusercontent.com/-QqkpoqOp_fA/AAAAAAAAAAI/AAAAAAAAA8A/EfPYTWzQRSI/s50-c-k-no/photo.jpg",
      "userId": "110633234607464757614"
     },
     "user_tz": 420
    },
    "id": "uCAhDZy47zVg",
    "outputId": "a087a5ea-e0ca-4d8d-c584-716e3a2f20e5"
   },
   "outputs": [
    {
     "name": "stdout",
     "output_type": "stream",
     "text": [
      "Requirement already satisfied: imageio in /usr/local/lib/python3.6/dist-packages (2.3.0)\r\n",
      "Requirement already satisfied: numpy in /usr/local/lib/python3.6/dist-packages (from imageio) (1.14.3)\r\n",
      "Requirement already satisfied: pillow in /usr/local/lib/python3.6/dist-packages (from imageio) (4.0.0)\r\n",
      "Requirement already satisfied: olefile in /usr/local/lib/python3.6/dist-packages (from pillow->imageio) (0.45.1)\r\n"
     ]
    }
   ],
   "source": [
    "!pip install imageio\n",
    "\n",
    "import glob\n",
    "import imageio\n",
    "import matplotlib.pyplot as plt\n",
    "import numpy as np\n",
    "import os\n",
    "import shutil"
   ]
  },
  {
   "cell_type": "code",
   "execution_count": 2,
   "metadata": {
    "colab": {
     "autoexec": {
      "startup": false,
      "wait_interval": 0
     },
     "base_uri": "https://localhost:8080/",
     "height": 130
    },
    "colab_type": "code",
    "executionInfo": {
     "elapsed": 315,
     "status": "error",
     "timestamp": 1526490905256,
     "user": {
      "displayName": "Yoshiaki Sono",
      "photoUrl": "//lh6.googleusercontent.com/-QqkpoqOp_fA/AAAAAAAAAAI/AAAAAAAAA8A/EfPYTWzQRSI/s50-c-k-no/photo.jpg",
      "userId": "110633234607464757614"
     },
     "user_tz": 420
    },
    "id": "zQgJWhnP7zVn",
    "outputId": "e4760344-990d-481d-bbb3-77279a717cfe"
   },
   "outputs": [
    {
     "ename": "SyntaxError",
     "evalue": "ignored",
     "output_type": "error",
     "traceback": [
      "\u001b[0;36m  File \u001b[0;32m\"<ipython-input-2-025489914b9c>\"\u001b[0;36m, line \u001b[0;32m14\u001b[0m\n\u001b[0;31m    cityscapes[carla == 1] = 2cityscapes[carla == 1] = 2\u001b[0m\n\u001b[0m                                       ^\u001b[0m\n\u001b[0;31mSyntaxError\u001b[0m\u001b[0;31m:\u001b[0m invalid syntax\n"
     ]
    }
   ],
   "source": [
    "  def extract_cityscapes_sparse_from_13cls(label_13cls_3ch, return_only=None):\n",
    "      '''\n",
    "      Outputs 1-channel sparse.\n",
    "      '''\n",
    "\n",
    "      carla = label_13cls_3ch[:,:,0]\n",
    "      \n",
    "      cityscapes = np.zeros_like(carla, dtype=np.uint8)\n",
    "      cityscapes[carla == 0] = 255\n",
    "      cityscapes[carla == 1] = 2\n",
    "      cityscapes[carla == 2] = 4\n",
    "      cityscapes[carla == 3] = 255\n",
    "      cityscapes[carla == 4] = 255\n",
    "      cityscapes[carla == 5] = 5\n",
    "      cityscapes[carla == 6] = 0\n",
    "      cityscapes[carla == 7] = 0\n",
    "      cityscapes[carla == 8] = 1\n",
    "      cityscapes[carla == 9] = 8\n",
    "      # cityscapes[carla == 10] = ...\n",
    "      cityscapes[carla == 11] = 3\n",
    "      cityscapes[carla == 12] = 7\n",
    "      \n",
    "      carla_car = carla == 10\n",
    "      carla_ego_car = np.copy(carla_car)\n",
    "      carla_ego_car[:490, :] = False\n",
    "      carla_nonego_car = carla_car & np.invert(carla_ego_car)\n",
    "      \n",
    "      cityscapes[carla_ego_car] = 255\n",
    "      cityscapes[carla_nonego_car] = 13\n",
    "      \n",
    "      return cityscapes"
   ]
  },
  {
   "cell_type": "code",
   "execution_count": 0,
   "metadata": {
    "colab": {
     "autoexec": {
      "startup": false,
      "wait_interval": 0
     },
     "base_uri": "https://localhost:8080/",
     "height": 377
    },
    "colab_type": "code",
    "executionInfo": {
     "elapsed": 1870,
     "status": "ok",
     "timestamp": 1526443448240,
     "user": {
      "displayName": "Yoshiaki Sono",
      "photoUrl": "//lh6.googleusercontent.com/-QqkpoqOp_fA/AAAAAAAAAAI/AAAAAAAAA8A/EfPYTWzQRSI/s50-c-k-no/photo.jpg",
      "userId": "110633234607464757614"
     },
     "user_tz": 420
    },
    "id": "C924mbK87zVp",
    "outputId": "a5a8b670-bec6-4940-97d3-04d304323e7d"
   },
   "outputs": [
    {
     "name": "stderr",
     "output_type": "stream",
     "text": [
      "/usr/local/lib/python3.6/dist-packages/skimage/transform/_warps.py:84: UserWarning: The default mode, 'constant', will be changed to 'reflect' in skimage 0.15.\n",
      "  warn(\"The default mode, 'constant', will be changed to 'reflect' in \"\n"
     ]
    },
    {
     "data": {
      "image/png": "[encoded data removed]",
      "text/plain": [
       "<matplotlib.figure.Figure at 0x7f74c047ed30>"
      ]
     },
     "metadata": {
      "tags": []
     },
     "output_type": "display_data"
    }
   ],
   "source": [
    "def visualize_cityscapes():\n",
    "\n",
    "    input0 = imageio.imread('lyft_training_data-13cls/CameraRGB/900.png')\n",
    "\n",
    "    label0_rgb = imageio.imread('lyft_training_data-13cls/CameraSeg/900.png')\n",
    "    \n",
    "    label_cityscapes = extract_cityscapes_sparse_from_13cls(label0_rgb)\n",
    "    \n",
    "    imgs = [input0, label0_rgb[:,:,0], label_cityscapes]\n",
    "\n",
    "    fig, axes = plt.subplots(nrows=1, ncols=len(imgs), figsize=(len(imgs) * 4, 5))\n",
    "\n",
    "    for ax, img in zip(axes, imgs):\n",
    "        ax.imshow(img, cmap='Greys_r')\n",
    "        ax.grid(False)\n",
    "\n",
    "visualize_extracted_3cls()"
   ]
  },
  {
   "cell_type": "code",
   "execution_count": 0,
   "metadata": {
    "colab": {
     "autoexec": {
      "startup": false,
      "wait_interval": 0
     }
    },
    "colab_type": "code",
    "id": "3BvaJRMW8Njf"
   },
   "outputs": [],
   "source": [
    "# Grayscale meaning 1 channel; _not_ adding zeroed-out channels to create 3-channel images.\n",
    "\n",
    "def write_3cls_sparse_as_grayscale():\n",
    "\n",
    "    out_dir = 'lyft_training_data-3cls-sparse'\n",
    "    shutil.rmtree(out_dir, ignore_errors=True)\n",
    "    os.makedirs(out_dir, exist_ok=True)\n",
    "    \n",
    "    for label_13cls_path in glob.glob('lyft_training_data-13cls/CameraSeg/*'):\n",
    "                \n",
    "        label_13cls_3ch = imageio.imread(label_13cls_path) # .astype(np.uint8)\n",
    "        \n",
    "        label_3ch = extract_3cls_from_13cls(label_13cls_3ch, return_only='sparse')\n",
    "        assert label_13cls_3ch.shape[:2] == label_3ch.shape\n",
    "        \n",
    "        filename = os.path.basename(label_13cls_path)\n",
    "        assert filename.endswith('.png')\n",
    "        label_3ch_path = os.path.join(out_dir, filename)\n",
    "        imageio.imsave(label_3ch_path, label_3ch)\n",
    "\n",
    "write_3cls_sparse_as_grayscale()"
   ]
  },
  {
   "cell_type": "markdown",
   "metadata": {
    "colab_type": "text",
    "id": "-mR5TmmqofOO"
   },
   "source": [
    "## Sandbox"
   ]
  },
  {
   "cell_type": "markdown",
   "metadata": {
    "colab_type": "text",
    "id": "D5vDDXdFwxHF"
   },
   "source": [
    "### Resizing"
   ]
  },
  {
   "cell_type": "code",
   "execution_count": 0,
   "metadata": {
    "colab": {
     "autoexec": {
      "startup": false,
      "wait_interval": 0
     }
    },
    "colab_type": "code",
    "id": "captr_g1ogEM"
   },
   "outputs": [],
   "source": [
    "lbl = np.load('lyft_training_data-3classes/900.npy')"
   ]
  },
  {
   "cell_type": "code",
   "execution_count": 27,
   "metadata": {
    "colab": {
     "autoexec": {
      "startup": false,
      "wait_interval": 0
     },
     "base_uri": "https://localhost:8080/",
     "height": 34
    },
    "colab_type": "code",
    "executionInfo": {
     "elapsed": 461,
     "status": "ok",
     "timestamp": 1526066557458,
     "user": {
      "displayName": "Yoshiaki Sono",
      "photoUrl": "//lh6.googleusercontent.com/-QqkpoqOp_fA/AAAAAAAAAAI/AAAAAAAAA8A/EfPYTWzQRSI/s50-c-k-no/photo.jpg",
      "userId": "110633234607464757614"
     },
     "user_tz": 420
    },
    "id": "-8NkWUoGov9R",
    "outputId": "42c4275e-6e2e-4012-a57e-4675d43af68f"
   },
   "outputs": [
    {
     "name": "stdout",
     "output_type": "stream",
     "text": [
      "(600, 800, 3) [  0 255]\n"
     ]
    }
   ],
   "source": [
    "print(lbl.shape, np.unique(lbl))"
   ]
  },
  {
   "cell_type": "code",
   "execution_count": 0,
   "metadata": {
    "colab": {
     "autoexec": {
      "startup": false,
      "wait_interval": 0
     }
    },
    "colab_type": "code",
    "id": "_q5b8Z79pj5r"
   },
   "outputs": [],
   "source": [
    "lbl_01 = np.copy(lbl)\n",
    "lbl_01[lbl == 255] = 1"
   ]
  },
  {
   "cell_type": "code",
   "execution_count": 28,
   "metadata": {
    "colab": {
     "autoexec": {
      "startup": false,
      "wait_interval": 0
     },
     "base_uri": "https://localhost:8080/",
     "height": 34
    },
    "colab_type": "code",
    "executionInfo": {
     "elapsed": 291,
     "status": "ok",
     "timestamp": 1526066572354,
     "user": {
      "displayName": "Yoshiaki Sono",
      "photoUrl": "//lh6.googleusercontent.com/-QqkpoqOp_fA/AAAAAAAAAAI/AAAAAAAAA8A/EfPYTWzQRSI/s50-c-k-no/photo.jpg",
      "userId": "110633234607464757614"
     },
     "user_tz": 420
    },
    "id": "NGC9223Tposx",
    "outputId": "69da4998-698c-4fe8-fcd8-0dd84ca81b54"
   },
   "outputs": [
    {
     "name": "stdout",
     "output_type": "stream",
     "text": [
      "(600, 800, 3) [0 1]\n"
     ]
    }
   ],
   "source": [
    "print(lbl_01.shape, np.unique(lbl_01))"
   ]
  },
  {
   "cell_type": "code",
   "execution_count": 32,
   "metadata": {
    "colab": {
     "autoexec": {
      "startup": false,
      "wait_interval": 0
     },
     "base_uri": "https://localhost:8080/",
     "height": 51
    },
    "colab_type": "code",
    "executionInfo": {
     "elapsed": 843,
     "status": "ok",
     "timestamp": 1526066720012,
     "user": {
      "displayName": "Yoshiaki Sono",
      "photoUrl": "//lh6.googleusercontent.com/-QqkpoqOp_fA/AAAAAAAAAAI/AAAAAAAAA8A/EfPYTWzQRSI/s50-c-k-no/photo.jpg",
      "userId": "110633234607464757614"
     },
     "user_tz": 420
    },
    "id": "-6-cluC2oy-o",
    "outputId": "50f17ad3-1a3a-48d9-9f95-619acce8662c"
   },
   "outputs": [
    {
     "name": "stderr",
     "output_type": "stream",
     "text": [
      "/usr/local/lib/python3.6/dist-packages/skimage/transform/_warps.py:84: UserWarning: The default mode, 'constant', will be changed to 'reflect' in skimage 0.15.\n",
      "  warn(\"The default mode, 'constant', will be changed to 'reflect' in \"\n"
     ]
    }
   ],
   "source": [
    "lbl_smaller = skimage.transform.resize(lbl, (300, 500), order=0)\n",
    "lbl_larger = skimage.transform.resize(lbl, (700, 900), order=0)\n",
    "lbl_01_smaller = skimage.transform.resize(lbl_01, (300, 500), order=0)\n",
    "lbl_01_larger = skimage.transform.resize(lbl_01, (700, 900), order=0)\n",
    "\n",
    "lbl_smaller_c = skimage.transform.resize(lbl, (300, 500), order=0, mode='constant')\n",
    "lbl_larger_c = skimage.transform.resize(lbl, (700, 900), order=0, mode='constant')\n",
    "lbl_01_smaller_c = skimage.transform.resize(lbl_01, (300, 500), order=0, mode='constant')\n",
    "lbl_01_larger_c = skimage.transform.resize(lbl_01, (700, 900), order=0, mode='constant')\n",
    "\n",
    "lbl_smaller_r = skimage.transform.resize(lbl, (300, 500), order=0, mode='reflect')\n",
    "lbl_larger_r = skimage.transform.resize(lbl, (700, 900), order=0, mode='reflect')\n",
    "lbl_01_smaller_r = skimage.transform.resize(lbl_01, (300, 500), order=0, mode='reflect')\n",
    "lbl_01_larger_r = skimage.transform.resize(lbl_01, (700, 900), order=0, mode='reflect')"
   ]
  },
  {
   "cell_type": "code",
   "execution_count": 34,
   "metadata": {
    "colab": {
     "autoexec": {
      "startup": false,
      "wait_interval": 0
     },
     "base_uri": "https://localhost:8080/",
     "height": 221
    },
    "colab_type": "code",
    "executionInfo": {
     "elapsed": 582,
     "status": "ok",
     "timestamp": 1526066769982,
     "user": {
      "displayName": "Yoshiaki Sono",
      "photoUrl": "//lh6.googleusercontent.com/-QqkpoqOp_fA/AAAAAAAAAAI/AAAAAAAAA8A/EfPYTWzQRSI/s50-c-k-no/photo.jpg",
      "userId": "110633234607464757614"
     },
     "user_tz": 420
    },
    "id": "MR2CfAmSo4y8",
    "outputId": "abfb00ca-9209-414c-d48c-c3a7943df19b"
   },
   "outputs": [
    {
     "name": "stdout",
     "output_type": "stream",
     "text": [
      "float64 (300, 500, 3) [0. 1.]\n",
      "float64 (700, 900, 3) [0. 1.]\n",
      "float64 (300, 500, 3) [0.         0.00392157]\n",
      "float64 (700, 900, 3) [0.         0.00392157]\n",
      "float64 (300, 500, 3) [0. 1.]\n",
      "float64 (700, 900, 3) [0. 1.]\n",
      "float64 (300, 500, 3) [0.         0.00392157]\n",
      "float64 (700, 900, 3) [0.         0.00392157]\n",
      "float64 (300, 500, 3) [0. 1.]\n",
      "float64 (700, 900, 3) [0. 1.]\n",
      "float64 (300, 500, 3) [0.         0.00392157]\n",
      "float64 (700, 900, 3) [0.         0.00392157]\n"
     ]
    }
   ],
   "source": [
    "for x in [lbl_smaller, lbl_larger, lbl_01_smaller, lbl_01_larger,\n",
    "          lbl_smaller_c, lbl_larger_c, lbl_01_smaller_c, lbl_01_larger_c,\n",
    "          lbl_smaller_r, lbl_larger_r, lbl_01_smaller_r, lbl_01_larger_r]:\n",
    "    print(x.dtype, x.shape, np.unique(x))"
   ]
  },
  {
   "cell_type": "code",
   "execution_count": 37,
   "metadata": {
    "colab": {
     "autoexec": {
      "startup": false,
      "wait_interval": 0
     },
     "base_uri": "https://localhost:8080/",
     "height": 34
    },
    "colab_type": "code",
    "executionInfo": {
     "elapsed": 292,
     "status": "ok",
     "timestamp": 1526066915373,
     "user": {
      "displayName": "Yoshiaki Sono",
      "photoUrl": "//lh6.googleusercontent.com/-QqkpoqOp_fA/AAAAAAAAAAI/AAAAAAAAA8A/EfPYTWzQRSI/s50-c-k-no/photo.jpg",
      "userId": "110633234607464757614"
     },
     "user_tz": 420
    },
    "id": "eWS0FMqRrKbH",
    "outputId": "432abfcb-8546-4434-a233-3ea67c21ab62"
   },
   "outputs": [
    {
     "name": "stdout",
     "output_type": "stream",
     "text": [
      "True True\n"
     ]
    }
   ],
   "source": [
    "print(\n",
    "    np.all(lbl_smaller == lbl_smaller_c),\n",
    "    np.all(lbl_smaller == lbl_smaller_r)\n",
    ")"
   ]
  },
  {
   "cell_type": "code",
   "execution_count": 35,
   "metadata": {
    "colab": {
     "autoexec": {
      "startup": false,
      "wait_interval": 0
     },
     "base_uri": "https://localhost:8080/",
     "height": 218
    },
    "colab_type": "code",
    "executionInfo": {
     "elapsed": 2924,
     "status": "ok",
     "timestamp": 1526066834301,
     "user": {
      "displayName": "Yoshiaki Sono",
      "photoUrl": "//lh6.googleusercontent.com/-QqkpoqOp_fA/AAAAAAAAAAI/AAAAAAAAA8A/EfPYTWzQRSI/s50-c-k-no/photo.jpg",
      "userId": "110633234607464757614"
     },
     "user_tz": 420
    },
    "id": "vNZVcNc5o559",
    "outputId": "84923a97-f882-47ff-ce0e-6ded6febb788"
   },
   "outputs": [
    {
     "data": {
      "image/png": "[encoded data removed]",
      "text/plain": [
       "<matplotlib.figure.Figure at 0x7fb980d42d30>"
      ]
     },
     "metadata": {
      "tags": []
     },
     "output_type": "display_data"
    }
   ],
   "source": [
    "    imgs = [lbl_smaller, lbl_larger, lbl_01_smaller, lbl_01_larger,\n",
    "            lbl_smaller_c, lbl_larger_c, lbl_01_smaller_c, lbl_01_larger_c,\n",
    "            lbl_smaller_r, lbl_larger_r, lbl_01_smaller_r, lbl_01_larger_r]\n",
    "\n",
    "    fig, axes = plt.subplots(nrows=1, ncols=len(imgs), figsize=(len(imgs) * 4, 99))\n",
    "\n",
    "    for ax, img in zip(axes, imgs):\n",
    "        ax.imshow(img, cmap='Greys_r')\n",
    "\n",
    "    for ax in axes:\n",
    "        ax.grid(False)"
   ]
  }
 ],
 "metadata": {
  "colab": {
   "collapsed_sections": [
    "D5vDDXdFwxHF"
   ],
   "default_view": {},
   "name": "carla",
   "provenance": [
    {
     "file_id": "1Doic03W194ZH_zRDJcecOzHcowKu9lyA",
     "timestamp": 1525967852791
    }
   ],
   "toc_visible": true,
   "version": "0.3.2",
   "views": {}
  },
  "kernelspec": {
   "display_name": "Python [default]",
   "language": "python",
   "name": "python3"
  },
  "language_info": {
   "codemirror_mode": {
    "name": "ipython",
    "version": 3
   },
   "file_extension": ".py",
   "mimetype": "text/x-python",
   "name": "python",
   "nbconvert_exporter": "python",
   "pygments_lexer": "ipython3",
   "version": "3.6.5"
  }
 },
 "nbformat": 4,
 "nbformat_minor": 1
}
